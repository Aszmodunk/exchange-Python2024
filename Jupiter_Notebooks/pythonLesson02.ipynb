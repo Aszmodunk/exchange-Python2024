{
 "cells": [
  {
   "cell_type": "markdown",
   "id": "0b13e392-d29a-4102-b475-6baf5695ed7d",
   "metadata": {},
   "source": [
    "### __Python lesson 2__\n",
    "- Student name: __Jiří David__\n",
    "- Student number: __X1131401__"
   ]
  },
  {
   "cell_type": "code",
   "execution_count": 9,
   "id": "4894fba6-5e5e-4870-b146-c8d8c2e864df",
   "metadata": {},
   "outputs": [
    {
     "data": {
      "text/plain": [
       "str"
      ]
     },
     "execution_count": 9,
     "metadata": {},
     "output_type": "execute_result"
    }
   ],
   "source": [
    "type(\"Hello\")"
   ]
  },
  {
   "cell_type": "code",
   "execution_count": 11,
   "id": "4cf59c06-c80e-4017-b948-15b13dce7302",
   "metadata": {},
   "outputs": [
    {
     "data": {
      "text/plain": [
       "float"
      ]
     },
     "execution_count": 11,
     "metadata": {},
     "output_type": "execute_result"
    }
   ],
   "source": [
    "type(11.3)"
   ]
  },
  {
   "cell_type": "code",
   "execution_count": 13,
   "id": "fcbd20a8-af6c-4734-af99-0390da4ddc37",
   "metadata": {},
   "outputs": [
    {
     "data": {
      "text/plain": [
       "int"
      ]
     },
     "execution_count": 13,
     "metadata": {},
     "output_type": "execute_result"
    }
   ],
   "source": [
    "type(11)"
   ]
  },
  {
   "cell_type": "code",
   "execution_count": 15,
   "id": "17dab6ff-b3b9-491b-a3ce-f8a69dba2b97",
   "metadata": {},
   "outputs": [
    {
     "data": {
      "text/plain": [
       "str"
      ]
     },
     "execution_count": 15,
     "metadata": {},
     "output_type": "execute_result"
    }
   ],
   "source": [
    "type(\"c\")"
   ]
  },
  {
   "cell_type": "code",
   "execution_count": 17,
   "id": "affd37ec-61eb-4937-989a-391ae217a8ce",
   "metadata": {},
   "outputs": [
    {
     "data": {
      "text/plain": [
       "2.0"
      ]
     },
     "execution_count": 17,
     "metadata": {},
     "output_type": "execute_result"
    }
   ],
   "source": [
    "float(\"2.0\")"
   ]
  },
  {
   "cell_type": "code",
   "execution_count": 27,
   "id": "553c672a-5317-4ea5-b388-5a26d822ba22",
   "metadata": {},
   "outputs": [
    {
     "data": {
      "text/plain": [
       "10.0"
      ]
     },
     "execution_count": 27,
     "metadata": {},
     "output_type": "execute_result"
    }
   ],
   "source": [
    "x = 10\n",
    "float(x) #This is refered as type casting, where we transfer the variable to the specific type\n",
    "x = float(x)\n",
    "x"
   ]
  },
  {
   "cell_type": "code",
   "execution_count": 29,
   "id": "d4f4206e-b309-4748-80f2-1b85021544f2",
   "metadata": {},
   "outputs": [
    {
     "data": {
      "text/plain": [
       "1"
      ]
     },
     "execution_count": 29,
     "metadata": {},
     "output_type": "execute_result"
    }
   ],
   "source": [
    "int(1.1)"
   ]
  },
  {
   "cell_type": "markdown",
   "id": "da3040a9-afae-4145-aabb-03af1526b742",
   "metadata": {},
   "source": [
    "# __Data Types__ \n",
    "Basic datatypes in python are __int__, __float__, __string__ and __bool__\n",
    "to make it easeier lets reference to the __string__ as __*char__ from C language\n",
    "\n",
    "Let's write some examples:\n",
    "- int = `1`;\n",
    "- float = `10.3`;\n",
    "- string = `\"String\"`;\n",
    "- bool = `True`;\n",
    "- bool = `1`;\n",
    "\n",
    "__Booleans have first letter always upper case! True/ False__ and can be also represtented by __0 for False__ or __1 for True__\n",
    "\n",
    "When we declare variable let's say `x = 10` we can manipilate it by declaring `x = 11` __this will override original value__, same cane be done with data types. If we currently execute `type(x)` we recieve `int`. We can do `x = float(x)` and we recieve `x = 11.0` __remeber we changed the value from `10` to the `11`__. If now do `type(x)` we will recieve float. This is easy way how to switch between datatypes of variable.\n"
   ]
  },
  {
   "cell_type": "code",
   "execution_count": 166,
   "id": "4f1a883e-2010-4ba5-89bc-afb1668e0429",
   "metadata": {},
   "outputs": [
    {
     "name": "stdout",
     "output_type": "stream",
     "text": [
      "first iteration of x is: 10\n",
      "\n",
      "After changing x to 11 we get: 11\n",
      "\n",
      "Now we get the type of x: <class 'int'>\n",
      "\n",
      "Now after changing data type we get that x is: <class 'float'>\n",
      "\n"
     ]
    }
   ],
   "source": [
    "#For the coment above\n",
    "x = 10\n",
    "print(f\"first iteration of x is: {x}\\n\")\n",
    "x = 11\n",
    "print(f\"After changing x to 11 we get: {x}\\n\")\n",
    "print(f\"Now we get the type of x: {type(x)}\\n\")\n",
    "x = float(x)\n",
    "print(f\"Now after changing data type we get that x is: {type(x)}\\n\")"
   ]
  },
  {
   "cell_type": "code",
   "execution_count": 37,
   "id": "134f7bd1-021c-4bce-994d-ae668332d0ce",
   "metadata": {},
   "outputs": [
    {
     "data": {
      "text/plain": [
       "2"
      ]
     },
     "execution_count": 37,
     "metadata": {},
     "output_type": "execute_result"
    }
   ],
   "source": [
    "#int(\"A\")\n",
    "#Int to string doesn't work with the alphabet\n",
    "int(\"2\")\n",
    "#However works with numbers\n",
    "#string(5.5) works too boviously"
   ]
  },
  {
   "cell_type": "code",
   "execution_count": 45,
   "id": "db0153be-aeb9-4873-be3f-f1f401ea1c0c",
   "metadata": {},
   "outputs": [
    {
     "data": {
      "text/plain": [
       "bool"
      ]
     },
     "execution_count": 45,
     "metadata": {},
     "output_type": "execute_result"
    }
   ],
   "source": [
    "#Booleans are handled by the True/False statments. It is IMPORTANT to use upper case T/F\n",
    "type(True) #type(False) has same result \n"
   ]
  },
  {
   "cell_type": "code",
   "execution_count": 49,
   "id": "4a6b4138-e8d7-4888-9b70-a3447181e05a",
   "metadata": {},
   "outputs": [
    {
     "data": {
      "text/plain": [
       "1"
      ]
     },
     "execution_count": 49,
     "metadata": {},
     "output_type": "execute_result"
    }
   ],
   "source": [
    "int(True) #True is considered logical value of 1"
   ]
  },
  {
   "cell_type": "code",
   "execution_count": 53,
   "id": "81c4ad3b-2e5f-454c-a5ec-f793ab7969b8",
   "metadata": {},
   "outputs": [
    {
     "data": {
      "text/plain": [
       "0.0"
      ]
     },
     "execution_count": 53,
     "metadata": {},
     "output_type": "execute_result"
    }
   ],
   "source": [
    "float(False) #False is considered as the logical value of 0"
   ]
  },
  {
   "cell_type": "code",
   "execution_count": 55,
   "id": "a705f3f1-1923-4112-984e-fb91cda30425",
   "metadata": {},
   "outputs": [
    {
     "data": {
      "text/plain": [
       "True"
      ]
     },
     "execution_count": 55,
     "metadata": {},
     "output_type": "execute_result"
    }
   ],
   "source": [
    "bool(1)"
   ]
  },
  {
   "cell_type": "code",
   "execution_count": 59,
   "id": "f078bf88-6d0c-47ef-a722-b47d39066858",
   "metadata": {},
   "outputs": [
    {
     "data": {
      "text/plain": [
       "False"
      ]
     },
     "execution_count": 59,
     "metadata": {},
     "output_type": "execute_result"
    }
   ],
   "source": [
    "bool(0) #As explained above"
   ]
  },
  {
   "cell_type": "code",
   "execution_count": 63,
   "id": "84d42607-95b6-4d1e-a296-3c886858d28d",
   "metadata": {},
   "outputs": [
    {
     "data": {
      "text/plain": [
       "376"
      ]
     },
     "execution_count": 63,
     "metadata": {},
     "output_type": "execute_result"
    }
   ],
   "source": [
    "#Arithmetic operations examples\n",
    "100+132+111+33\n",
    "#Each segment - + are called operators\n",
    "#The 100 132 111 33 are Operands"
   ]
  },
  {
   "cell_type": "code",
   "execution_count": 71,
   "id": "64cc0904-7bf3-4dfa-97bf-57d26f449551",
   "metadata": {},
   "outputs": [
    {
     "data": {
      "text/plain": [
       "-1900"
      ]
     },
     "execution_count": 71,
     "metadata": {},
     "output_type": "execute_result"
    }
   ],
   "source": [
    "100 - 2000\n",
    "# We can go to the negative values too"
   ]
  },
  {
   "cell_type": "code",
   "execution_count": 83,
   "id": "272c1651-636c-4d33-b63e-d8166b777429",
   "metadata": {},
   "outputs": [
    {
     "data": {
      "text/plain": [
       "4.166666666666667"
      ]
     },
     "execution_count": 83,
     "metadata": {},
     "output_type": "execute_result"
    }
   ],
   "source": [
    "25/6"
   ]
  },
  {
   "cell_type": "code",
   "execution_count": 75,
   "id": "920dbdb2-0a5a-4958-83fb-e1323c70b190",
   "metadata": {},
   "outputs": [
    {
     "data": {
      "text/plain": [
       "300"
      ]
     },
     "execution_count": 75,
     "metadata": {},
     "output_type": "execute_result"
    }
   ],
   "source": [
    "100*3"
   ]
  },
  {
   "cell_type": "markdown",
   "id": "3c6020af-0a36-4261-818e-14443cd2ef3e",
   "metadata": {},
   "source": [
    "### We can do basic algebraic operations as is `+ - / *` we can also use `//` that will force the output to be integer"
   ]
  },
  {
   "cell_type": "code",
   "execution_count": 79,
   "id": "612965fd-a2c7-4cb0-a58f-dc7359bd4d21",
   "metadata": {},
   "outputs": [
    {
     "data": {
      "text/plain": [
       "5"
      ]
     },
     "execution_count": 79,
     "metadata": {},
     "output_type": "execute_result"
    }
   ],
   "source": [
    "25 // 5"
   ]
  },
  {
   "cell_type": "code",
   "execution_count": 81,
   "id": "ee2f03f8-c1ed-4623-8843-8d47032540b3",
   "metadata": {},
   "outputs": [
    {
     "data": {
      "text/plain": [
       "4"
      ]
     },
     "execution_count": 81,
     "metadata": {},
     "output_type": "execute_result"
    }
   ],
   "source": [
    "25//6"
   ]
  },
  {
   "cell_type": "code",
   "execution_count": 85,
   "id": "36e39ce9-394b-4f1e-9cc3-e194d2e28a74",
   "metadata": {},
   "outputs": [],
   "source": [
    "#Double slash // double division forces the integer - Integer division"
   ]
  },
  {
   "cell_type": "code",
   "execution_count": 87,
   "id": "bbeabf51-ef0e-46dc-9981-5e047466046b",
   "metadata": {},
   "outputs": [
    {
     "data": {
      "text/plain": [
       "10005"
      ]
     },
     "execution_count": 87,
     "metadata": {},
     "output_type": "execute_result"
    }
   ],
   "source": [
    "100*100+5"
   ]
  },
  {
   "cell_type": "code",
   "execution_count": 89,
   "id": "309cee62-88ae-4814-a69d-21672a286798",
   "metadata": {},
   "outputs": [
    {
     "data": {
      "text/plain": [
       "10005"
      ]
     },
     "execution_count": 89,
     "metadata": {},
     "output_type": "execute_result"
    }
   ],
   "source": [
    "5+100*100"
   ]
  },
  {
   "cell_type": "code",
   "execution_count": 95,
   "id": "3ce9d8c1-dfff-4e7a-8818-69953a3f87c2",
   "metadata": {},
   "outputs": [
    {
     "data": {
      "text/plain": [
       "10500"
      ]
     },
     "execution_count": 95,
     "metadata": {},
     "output_type": "execute_result"
    }
   ],
   "source": [
    "#The Python respects rules of algebra, () First then * / and lastly + -\n",
    "(100+5)*100"
   ]
  },
  {
   "cell_type": "code",
   "execution_count": 99,
   "id": "4c57e324-801b-4de6-89cd-5e0778c4eb63",
   "metadata": {},
   "outputs": [
    {
     "data": {
      "text/plain": [
       "str"
      ]
     },
     "execution_count": 99,
     "metadata": {},
     "output_type": "execute_result"
    }
   ],
   "source": [
    "#Variables\n",
    "x = 10\n",
    "y= \"String\"\n",
    "type(y)"
   ]
  },
  {
   "cell_type": "code",
   "execution_count": 121,
   "id": "7da7fa4f-2081-4364-b49f-987ca0d62f87",
   "metadata": {},
   "outputs": [
    {
     "name": "stdout",
     "output_type": "stream",
     "text": [
      "x original value is: 10\n",
      "\n",
      "Variation x = x + 1 : 11\n",
      "\n",
      "Variation x = x / 2: 5.5\n",
      "\n"
     ]
    }
   ],
   "source": [
    "#Rewriting of variables is possible too, we can perform following tasks:\n",
    "x = 10\n",
    "print(f\"x original value is: {x}\\n\")\n",
    "x = x+1\n",
    "print(f\"Variation x = x + 1 : {x}\\n\")\n",
    "x = x / 2\n",
    "print(f\"Variation x = x / 2: {x}\\n\")"
   ]
  },
  {
   "cell_type": "markdown",
   "id": "ff8ce541-eb6e-40b0-b86f-0ba9de9c0670",
   "metadata": {},
   "source": [
    "## __There is excercise for today's lesson__\n",
    "\n",
    "We can use `#` to write a coment, and `//` or `/* */` equivalent in __C__\n",
    "\n",
    "Compiler gives us really nice idea when we make a mistake.\n",
    "For example: `drint(\"Hello\")`\n",
    "\"NameError                                 Traceback (most recent call last)\n",
    "Cell In[147], line 1\n",
    "----> 1 drint(\"Hello\")\n",
    "\n",
    "NameError: name 'drint' is not defined\"\n",
    "\n",
    "Gives us good understanding on which __line__ error occured, what is wrong and how we might correct it. In this case we have typo in declaration, so just slight corrction gets rid of error. So changing `drint(\"Hello\")` to `print(\"Hello\")` gets job done.\n",
    "\n",
    "\n",
    "If we have multiple lines of code like at [179](#179) we can see `drint(\"Hello\")` is __commented out__. As you can see in the coment, the `print(\"Pea\")` __will be executed but the next lines will be ignored.__ Upon reaching an erro python procrsses __Break__ (C function) and ends the program.\n",
    "\n",
    "\n",
    "We can later see when we execute `type(6/2)` we get a `float`. To enforce type `int` we need to use `type(6//2)` as can be seen below [233](#232)\n"
   ]
  },
  {
   "cell_type": "code",
   "execution_count": 220,
   "id": "437d55ee-8b2e-44f1-b7d6-b87266525c62",
   "metadata": {},
   "outputs": [
    {
     "name": "stdout",
     "output_type": "stream",
     "text": [
      "3.12.4 | packaged by Anaconda, Inc. | (main, Jun 18 2024, 15:03:56) [MSC v.1929 64 bit (AMD64)]\n",
      "\n",
      "\n",
      " 1 has type: <class 'int'>\n",
      " 2 has type: <class 'int'>\n",
      " 3.13 has type: <class 'float'>\n",
      " 7.12 has type: <class 'float'>\n",
      " Dog has type: <class 'str'>\n",
      " Ice cream has type: <class 'str'>\n",
      " 11 has type: <class 'int'>\n",
      " Python has type: <class 'str'>\n",
      " True has type: <class 'bool'>\n",
      " False has type: <class 'bool'>\n"
     ]
    }
   ],
   "source": [
    "# EXCERCISE BELOW\n",
    "import sys\n",
    "\n",
    "def pyVersionControl():\n",
    "    print(f\"{sys.version}\\n\\n\") #To ensure we use python 3.0 +\n",
    "\n",
    "def showcaseNum():\n",
    "    a = [1, 2, 3.13, 7.12, \"Dog\", \"Ice cream\", 11, \"Python\", True, False]\n",
    "    for i in range(0, len(a), 1):\n",
    "        print(f\" {a[i]} has type: {type(a[i])}\")\n",
    "\n",
    "def main():\n",
    "    pyVersionControl()\n",
    "    showcaseNum()\n",
    "\n",
    "main()\n",
    "    "
   ]
  },
  {
   "cell_type": "code",
   "execution_count": 179,
   "id": "07a8957d-696d-43a7-82f9-34c69838428f",
   "metadata": {},
   "outputs": [
    {
     "name": "stdout",
     "output_type": "stream",
     "text": [
      "Pea\n",
      "Hello\n"
     ]
    }
   ],
   "source": [
    "print(\"Pea\")\n",
    "#drint(\"Hello\")# <- This is the error line, code won't execute fruther, but the print(\"Pea\") will be executed\n",
    "print(\"Hello\")"
   ]
  },
  {
   "cell_type": "code",
   "execution_count": 232,
   "id": "f6122128-fd95-463a-9868-bc0b9a262215",
   "metadata": {},
   "outputs": [
    {
     "name": "stdout",
     "output_type": "stream",
     "text": [
      "<class 'float'>\n",
      "<class 'int'>\n"
     ]
    }
   ],
   "source": [
    "print(type(6/2))\n",
    "print(type(6//2))"
   ]
  },
  {
   "cell_type": "code",
   "execution_count": null,
   "id": "42bbd844-39a0-4177-a42d-5cd35d02b170",
   "metadata": {},
   "outputs": [],
   "source": []
  }
 ],
 "metadata": {
  "kernelspec": {
   "display_name": "Python 3 (ipykernel)",
   "language": "python",
   "name": "python3"
  },
  "language_info": {
   "codemirror_mode": {
    "name": "ipython",
    "version": 3
   },
   "file_extension": ".py",
   "mimetype": "text/x-python",
   "name": "python",
   "nbconvert_exporter": "python",
   "pygments_lexer": "ipython3",
   "version": "3.12.4"
  }
 },
 "nbformat": 4,
 "nbformat_minor": 5
}
