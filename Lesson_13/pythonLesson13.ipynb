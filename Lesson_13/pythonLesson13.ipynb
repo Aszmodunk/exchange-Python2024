{
 "cells": [
  {
   "metadata": {},
   "cell_type": "markdown",
   "source": "",
   "id": "4c93359264d89d48"
  },
  {
   "cell_type": "code",
   "id": "initial_id",
   "metadata": {
    "collapsed": true,
    "ExecuteTime": {
     "end_time": "2024-12-30T05:24:48.016459Z",
     "start_time": "2024-12-30T05:24:48.006850Z"
    }
   },
   "source": [
    "def copareStrings(x,y):\n",
    "    if x==y:\n",
    "        return 1\n",
    "\n",
    "myString1 = \"Sample text\"\n",
    "myString2 = \"Sample text\"\n",
    "\n",
    "check = copareStrings(myString1,myString2)\n",
    "\n",
    "if check == 1:\n",
    "    print(\"\\n Strings are mathing\")\n",
    "else:\n",
    "    print(\"\\n Strings are not mathing\")"
   ],
   "outputs": [
    {
     "name": "stdout",
     "output_type": "stream",
     "text": [
      "\n",
      " Strings are mathing\n"
     ]
    }
   ],
   "execution_count": 3
  },
  {
   "metadata": {},
   "cell_type": "markdown",
   "source": "",
   "id": "5a7ada0355f38d52"
  },
  {
   "metadata": {
    "ExecuteTime": {
     "end_time": "2024-12-30T05:33:52.241447Z",
     "start_time": "2024-12-30T05:33:47.812094Z"
    }
   },
   "cell_type": "code",
   "source": [
    "inputString = input(\"Insert sentence here:\\n\")\n",
    "stringList = inputString.split()\n",
    "print(len(stringList))\n",
    "#My take"
   ],
   "id": "2084bd0a5c71776e",
   "outputs": [
    {
     "name": "stdout",
     "output_type": "stream",
     "text": [
      "3\n"
     ]
    }
   ],
   "execution_count": 6
  },
  {
   "metadata": {
    "ExecuteTime": {
     "end_time": "2024-12-30T07:07:18.255278Z",
     "start_time": "2024-12-30T07:07:18.250440Z"
    }
   },
   "cell_type": "code",
   "source": "frog = \"⠄⠄⢀⣠⣤⣶⣶⣶⣤⣄⠄⠄⢀⣠⣤⣤⣤⣤⣀⠄⠄⠄⠄⠄⠄\\n⢠⣾⣿⣿⣿⣿⠿⠿⢿⣿⣿⡆⣿⣿⣿⣿⣿⣿⣿⣷⡄⠄⠄⠄⠄\\n⣿⣿⡟⣩⣵⣶⣾⣿⣷⣶⣮⣅⢛⣫⣭⣭⣭⣭⣭⣭⣛⣂⠄⠄⠄\\n⣿⣿⣿⣿⣿⣿⣿⣿⣿⣿⣿⣿⣶⣭⠛⣿⣿⣿⣿⣿⣿⣿⣿⣦⡀\\n⣿⣿⣿⣿⣿⠿⢟⣛⣫⣭⠉⠍⠉⣛⠿⡘⣿⠿⢟⣛⡛⠉⠙⠻⢿\\n⣿⣿⣿⣿⣿⣶⣶⣶⣶⣶⣶⣶⣶⣭⣍⠄⣡⣬⣭⣭⣅⣈⣀⣉⣁\\n⣿⣿⣿⣿⣶⣭⣛⡻⠿⠿⢿⣿⡿⢛⣥⣾⣿⣿⣿⣿⣿⣿⣿⠿⠋\\n⣿⣿⣿⣿⣿⣿⣿⣿⡿⠿⣩⣵⣾⣿⣿⣯⣙⠟⣋⣉⣩⣍⡁⠄⠄\\n⣿⣿⣿⣿⣿⣿⣿⣿⣿⣿⣿⣿⣿⣿⣿⣿⣿⣷⣿⣿⣿⣿⣷⡄⠄\\n⣿⣿⡿⢟⣛⣛⣛⣛⠿⠿⢿⣿⣿⣿⣿⣿⣿⣿⣿⣿⣿⣿⡿⠿⡀\\n⣿⡟⢼⣿⣯⣭⣛⣛⣛⡻⠷⠶⢶⣬⣭⣭⣭⡭⠭⢉⡄⠶⠾⠟⠁\\n⣟⠻⣦⣤⣭⣭⣭⣭⣛⣛⡻⠿⠷⠶⢶⣶⠞⣼⡟⡸⣸⡸⠿⠄⠄\\n⣿⣿⣾⣿⣿⣿⣿⣿⣿⣿⣿⣿⣿⣿⠷⡆⣾⠟⡴⣱⢏⡜⠆⠄⠄\"",
   "id": "a8087bfbd2a545b2",
   "outputs": [],
   "execution_count": 52
  },
  {
   "metadata": {},
   "cell_type": "markdown",
   "source": "",
   "id": "4123c0025ef3b9ee"
  },
  {
   "metadata": {
    "ExecuteTime": {
     "end_time": "2024-12-30T05:40:04.751643Z",
     "start_time": "2024-12-30T05:40:04.737448Z"
    }
   },
   "cell_type": "code",
   "source": [
    "#Teachers take\n",
    "def freq(string):\n",
    "    words = []\n",
    "    words = string.split()\n",
    "    \n",
    "    dict = {}\n",
    "    for word in words:\n",
    "        dict[word]=words.count(word)\n",
    "    print(dict)\n",
    "\n",
    "tongue_twister = (\"Betty Botter bought a bit of butter, \"\n",
    "                  \"\\\"But,\\\" she said, \\\"this butter's bitter. \"\n",
    "                  \"If I put it in my batter, \"\n",
    "                  \"It will make my batter bitter. \"\n",
    "                  \"But a bit of better butter \"\n",
    "                  \"Will make my batter better.\\\" \"\n",
    "                  \"So Betty Botter bought a bit of better butter, \"\n",
    "                  \"And it made her batter better. \"\n",
    "                  \"So 'twas better Betty Botter \"\n",
    "                  \"Bought a bit of better butter.\")\n",
    "freq(tongue_twister)"
   ],
   "id": "634285b1006a8204",
   "outputs": [
    {
     "name": "stdout",
     "output_type": "stream",
     "text": [
      "{'Betty': 3, 'Botter': 3, 'bought': 2, 'a': 4, 'bit': 4, 'of': 4, 'butter,': 2, '\"But,\"': 1, 'she': 1, 'said,': 1, '\"this': 1, \"butter's\": 1, 'bitter.': 2, 'If': 1, 'I': 1, 'put': 1, 'it': 2, 'in': 1, 'my': 3, 'batter,': 1, 'It': 1, 'will': 1, 'make': 2, 'batter': 3, 'But': 1, 'better': 4, 'butter': 1, 'Will': 1, 'better.\"': 1, 'So': 2, 'And': 1, 'made': 1, 'her': 1, 'better.': 1, \"'twas\": 1, 'Bought': 1, 'butter.': 1}\n"
     ]
    }
   ],
   "execution_count": 8
  },
  {
   "metadata": {
    "ExecuteTime": {
     "end_time": "2024-12-30T05:55:52.151858Z",
     "start_time": "2024-12-30T05:55:52.141593Z"
    }
   },
   "cell_type": "code",
   "source": [
    "def freq(string):\n",
    "    words = string.split()\n",
    "    secondWords = []\n",
    "    for i in words:\n",
    "        secondWords.append(i.lower())\n",
    "    print(secondWords)\n",
    "    word_freq = {} \n",
    "\n",
    "    for word in secondWords:\n",
    "        clean_word = word.strip(\".,\\\"'\").lower()\n",
    "        if clean_word not in word_freq:  \n",
    "            word_freq[clean_word] = secondWords.count(clean_word)\n",
    "\n",
    "    print(word_freq)\n",
    "\n",
    "tongue_twister = (\"Betty Botter bought a bit of butter, \"\n",
    "                  \"\\\"But,\\\" she said, \\\"this butter's bitter. \"\n",
    "                  \"If I put it in my batter, \"\n",
    "                  \"It will make my batter bitter. \"\n",
    "                  \"But a bit of better butter \"\n",
    "                  \"Will make my batter better.\\\" \"\n",
    "                  \"So Betty Botter bought a bit of better butter, \"\n",
    "                  \"And it made her batter better. \"\n",
    "                  \"So 'twas better Betty Botter \"\n",
    "                  \"Bought a bit of better butter.\")\n",
    "freq(tongue_twister)\n"
   ],
   "id": "21e6e3c68571d012",
   "outputs": [
    {
     "name": "stdout",
     "output_type": "stream",
     "text": [
      "['betty', 'botter', 'bought', 'a', 'bit', 'of', 'butter,', '\"but,\"', 'she', 'said,', '\"this', \"butter's\", 'bitter.', 'if', 'i', 'put', 'it', 'in', 'my', 'batter,', 'it', 'will', 'make', 'my', 'batter', 'bitter.', 'but', 'a', 'bit', 'of', 'better', 'butter', 'will', 'make', 'my', 'batter', 'better.\"', 'so', 'betty', 'botter', 'bought', 'a', 'bit', 'of', 'better', 'butter,', 'and', 'it', 'made', 'her', 'batter', 'better.', 'so', \"'twas\", 'better', 'betty', 'botter', 'bought', 'a', 'bit', 'of', 'better', 'butter.']\n",
      "{'betty': 3, 'botter': 3, 'bought': 3, 'a': 4, 'bit': 4, 'of': 4, 'butter': 1, 'but': 1, 'she': 1, 'said': 0, 'this': 0, \"butter's\": 1, 'bitter': 0, 'if': 1, 'i': 1, 'put': 1, 'it': 3, 'in': 1, 'my': 3, 'batter': 3, 'will': 2, 'make': 2, 'better': 4, 'so': 2, 'and': 1, 'made': 1, 'her': 1, 'twas': 0}\n"
     ]
    }
   ],
   "execution_count": 15
  },
  {
   "metadata": {
    "ExecuteTime": {
     "end_time": "2024-12-30T06:13:12.200117Z",
     "start_time": "2024-12-30T06:13:12.193587Z"
    }
   },
   "cell_type": "code",
   "source": [
    "def getAra(width, height=12):\n",
    "    return width*height\n",
    "ret1 = getAra(3,3)\n",
    "ret2 = getAra(4)\n",
    "print(ret1, ret2)"
   ],
   "id": "3ffa0dd2372ef5a5",
   "outputs": [
    {
     "name": "stdout",
     "output_type": "stream",
     "text": [
      "9 48\n"
     ]
    }
   ],
   "execution_count": 16
  },
  {
   "metadata": {
    "ExecuteTime": {
     "end_time": "2024-12-30T06:16:33.264913Z",
     "start_time": "2024-12-30T06:16:33.259732Z"
    }
   },
   "cell_type": "code",
   "source": [
    "def goodRating(rating =4):\n",
    "    if rating < 7:\n",
    "        print(\"Not good rating:\", rating)\n",
    "    else:\n",
    "        print(\"Good rating:\", rating)\n",
    "    \n",
    "goodRating()\n",
    "goodRating(11)"
   ],
   "id": "46a86b9aa9df62aa",
   "outputs": [
    {
     "name": "stdout",
     "output_type": "stream",
     "text": [
      "Not good rating: 4\n",
      "Good rating: 11\n"
     ]
    }
   ],
   "execution_count": 18
  },
  {
   "metadata": {
    "ExecuteTime": {
     "end_time": "2024-12-30T06:21:50.510021Z",
     "start_time": "2024-12-30T06:21:50.505959Z"
    }
   },
   "cell_type": "code",
   "source": [
    "#Local vs global variable\n",
    "\n",
    "def scope():\n",
    "    var1 = 1 # local\n",
    "    #var2 = 2 # local\n",
    "    print(var1, var2)\n",
    "\n",
    "var1 = 4 #global\n",
    "var2 = 5 #global \n",
    "scope()\n",
    "print(var1, var2)"
   ],
   "id": "b126393fd64f551b",
   "outputs": [
    {
     "name": "stdout",
     "output_type": "stream",
     "text": [
      "1 5\n",
      "4 5\n"
     ]
    }
   ],
   "execution_count": 20
  },
  {
   "metadata": {
    "ExecuteTime": {
     "end_time": "2024-12-30T06:23:45.111051Z",
     "start_time": "2024-12-30T06:23:45.107388Z"
    }
   },
   "cell_type": "code",
   "source": [
    "#Local vs global variable\n",
    "\n",
    "def scope():\n",
    "    var1 = 1 # local\n",
    "    var2 = 2 # local\n",
    "    print(var1, var2)\n",
    "\n",
    "var1 = 4 #global\n",
    "var2 = 5 #global \n",
    "scope()\n",
    "print(var1, var2)"
   ],
   "id": "74e0605948dd8faa",
   "outputs": [
    {
     "name": "stdout",
     "output_type": "stream",
     "text": [
      "1 2\n",
      "4 5\n"
     ]
    }
   ],
   "execution_count": 21
  },
  {
   "metadata": {
    "ExecuteTime": {
     "end_time": "2024-12-30T06:28:11.882685Z",
     "start_time": "2024-12-30T06:28:11.874479Z"
    }
   },
   "cell_type": "code",
   "source": [
    "def printer1(artist):\n",
    "    internal_car1 = artist\n",
    "    print(artist, \"Is an artist\")\n",
    "artist = \"Michael Jackson\"\n",
    "printer1(artist)\n",
    "#printer1(internal_car1)  #Won't work since we call local variable within the function"
   ],
   "id": "870542a08bdcacb4",
   "outputs": [
    {
     "name": "stdout",
     "output_type": "stream",
     "text": [
      "Michael Jackson Is an artist\n"
     ]
    }
   ],
   "execution_count": 22
  },
  {
   "metadata": {},
   "cell_type": "code",
   "outputs": [],
   "execution_count": null,
   "source": [
    "def printer1(artist):\n",
    "    global internal_car1\n",
    "    internal_car1 = artist\n",
    "    print(artist, \"Is an artist\")\n",
    "artist = \"Michael Jackson\"\n",
    "printer1(artist)\n",
    "printer1(internal_car1)  \n"
   ],
   "id": "a89e4cc58f622786"
  },
  {
   "metadata": {
    "ExecuteTime": {
     "end_time": "2024-12-30T06:39:32.806424Z",
     "start_time": "2024-12-30T06:39:32.801904Z"
    }
   },
   "cell_type": "code",
   "source": [
    "myFavBand = \"AC/DC\"\n",
    "\n",
    "def getBandRating(band):\n",
    "    if band == myFavBand:\n",
    "        return 10.0\n",
    "    else:\n",
    "        return 0.0\n",
    "\n",
    "print(\"AC/DC rating:\", getBandRating(myFavBand))\n",
    "print(\"Sabaton rating\",getBandRating(\"Sabaton\"))\n",
    "print(\"My fav band is\", myFavBand)"
   ],
   "id": "3f5d7ce0dd9b9574",
   "outputs": [
    {
     "name": "stdout",
     "output_type": "stream",
     "text": [
      "AC/DC rating: 10.0\n",
      "Sabaton rating 0.0\n",
      "My fav band is AC/DC\n"
     ]
    }
   ],
   "execution_count": 25
  },
  {
   "metadata": {
    "ExecuteTime": {
     "end_time": "2024-12-30T06:46:22.852270Z",
     "start_time": "2024-12-30T06:46:22.847659Z"
    }
   },
   "cell_type": "code",
   "source": [
    "#myFavBand = \"AC/DC\"\n",
    "#del myFavBand\n",
    "def getBandRating(band):\n",
    "    myFavBand = \"AC/DC\"\n",
    "    if band == myFavBand:\n",
    "        return 10.0\n",
    "    else:\n",
    "        return 0.0\n",
    "\n",
    "print(\"AC/DC rating:\", getBandRating(\"AC/DC\"))\n",
    "print(\"Sabaton rating\",getBandRating(\"Sabaton\"))\n",
    "print(\"My fav band is\", \"AC/DC\")"
   ],
   "id": "19e3173bb3cac2d6",
   "outputs": [
    {
     "name": "stdout",
     "output_type": "stream",
     "text": [
      "AC/DC rating: 10.0\n",
      "Sabaton rating 0.0\n",
      "My fav band is AC/DC\n"
     ]
    }
   ],
   "execution_count": 31
  },
  {
   "metadata": {
    "ExecuteTime": {
     "end_time": "2024-12-30T06:47:09.738334Z",
     "start_time": "2024-12-30T06:47:09.733436Z"
    }
   },
   "cell_type": "code",
   "source": [
    "myFavBand = \"AC/DC\"\n",
    "#del myFavBand\n",
    "def getBandRating(band):\n",
    "    myFavBand = \"Sabaton\"\n",
    "    if band == myFavBand:\n",
    "        return 10.0\n",
    "    else:\n",
    "        return 0.0\n",
    "\n",
    "print(\"AC/DC rating:\", getBandRating(\"AC/DC\"))\n",
    "print(\"Sabaton rating\",getBandRating(\"Sabaton\"))\n",
    "print(\"My fav band is\", \"AC/DC\")"
   ],
   "id": "ceb4c9d59cdbe307",
   "outputs": [
    {
     "name": "stdout",
     "output_type": "stream",
     "text": [
      "AC/DC rating: 0.0\n",
      "Sabaton rating 10.0\n",
      "My fav band is AC/DC\n"
     ]
    }
   ],
   "execution_count": 32
  },
  {
   "metadata": {
    "ExecuteTime": {
     "end_time": "2024-12-30T06:53:59.844342Z",
     "start_time": "2024-12-30T06:53:59.839446Z"
    }
   },
   "cell_type": "code",
   "source": [
    "def printall(*args): \n",
    "    print(f\"Number of arugments: {len(args)}\")\n",
    "    for arg in args:\n",
    "        print(arg)\n",
    "\n",
    "printall(\"Adidas\",\"Nike\",\"Pepe the frog\")\n"
   ],
   "id": "90c77ed1126b14c5",
   "outputs": [
    {
     "name": "stdout",
     "output_type": "stream",
     "text": [
      "Number of arugments: 3\n",
      "Adidas\n",
      "Nike\n",
      "Pepe the frog\n"
     ]
    }
   ],
   "execution_count": 36
  },
  {
   "metadata": {
    "ExecuteTime": {
     "end_time": "2024-12-30T07:17:43.758049Z",
     "start_time": "2024-12-30T07:17:36.451569Z"
    }
   },
   "cell_type": "code",
   "source": [
    "performace = input(\"Performace of sales:\")\n",
    "performace = int(performace)\n",
    "salary = 40000\n",
    "def checkBonus(sales):\n",
    "    if sales < 500000:\n",
    "        return \"No bonus\"\n",
    "    else:\n",
    "        return ((sales-500000)/100)\n",
    "\n",
    "\n",
    "print(\"Expected salary this month isis: \",checkBonus(performace) + salary)    \n",
    "print(\"Bonus in the salary is: \",checkBonus(performace))\n"
   ],
   "id": "17b58396796cc26f",
   "outputs": [
    {
     "name": "stdout",
     "output_type": "stream",
     "text": [
      "Expected salary this month isis:  41000.0\n",
      "Bonus in the salary is:  1000.0\n"
     ]
    }
   ],
   "execution_count": 57
  },
  {
   "metadata": {
    "ExecuteTime": {
     "end_time": "2024-12-30T07:30:35.520443Z",
     "start_time": "2024-12-30T07:30:29.616664Z"
    }
   },
   "cell_type": "code",
   "source": [
    "weight = float(input(\"Please enter your weight in [kg]: \\n\"))\n",
    "height = float(input(\"Please enter your height in [cm]: \\n\"))\n",
    "def BMI(weight,height):\n",
    "    height = height/100\n",
    "    BMI = weight/(height**2)\n",
    "    \n",
    "    if BMI < 18.5:\n",
    "        return \"Your BMI is underweight\", BMI\n",
    "    elif BMI > 24:\n",
    "        return \"Your BMI is overweight\", BMI\n",
    "    elif 24 <= BMI <27:\n",
    "        return \"Your BMI is within healthy limits\", BMI\n",
    "    else:\n",
    "        return \"Obese\", BMI\n",
    "\n",
    "checkBMI = BMI(weight,height)\n",
    "print(checkBMI)"
   ],
   "id": "14bc29dde1ff5be9",
   "outputs": [
    {
     "name": "stdout",
     "output_type": "stream",
     "text": [
      "('Your BMI is overweight', 26.583175803402646)\n"
     ]
    }
   ],
   "execution_count": 65
  },
  {
   "metadata": {
    "ExecuteTime": {
     "end_time": "2024-12-30T07:32:56.198108Z",
     "start_time": "2024-12-30T07:32:51.250549Z"
    }
   },
   "cell_type": "code",
   "source": [
    "#Quiz 1\n",
    "in1 = int(input(\"Number: \"))\n",
    "in2 = int(input(\"Number: \"))\n",
    "def dividor(one,two):\n",
    "    return one / two\n",
    "print(dividor(in1,in2))"
   ],
   "id": "861a37ebaa399707",
   "outputs": [
    {
     "name": "stdout",
     "output_type": "stream",
     "text": [
      "5.5\n"
     ]
    }
   ],
   "execution_count": 66
  },
  {
   "metadata": {
    "ExecuteTime": {
     "end_time": "2024-12-30T07:37:59.220710Z",
     "start_time": "2024-12-30T07:37:59.215624Z"
    }
   },
   "cell_type": "code",
   "source": [
    "#Quiz 2\n",
    "\n",
    "def con(a,b):\n",
    "    return a+b\n",
    "\n",
    "#Q: Cane we use this function to add numbers or strings?\n",
    "#A: Both.\n",
    "\n",
    "print(con(\"dog\",\"dawg\"))\n",
    "print(con(1,2))\n",
    "\n",
    "#Q: Can it be used to concatenate lists or touples?\n",
    "#A: Yes, both.\n",
    "\n",
    "print(con([2,3,1,1],[8,1,15,6]))"
   ],
   "id": "749f254e17bb61ea",
   "outputs": [
    {
     "name": "stdout",
     "output_type": "stream",
     "text": [
      "dogdawg\n",
      "3\n",
      "[2, 3, 1, 1, 8, 1, 15, 6]\n"
     ]
    }
   ],
   "execution_count": 71
  },
  {
   "metadata": {
    "ExecuteTime": {
     "end_time": "2024-12-30T07:46:51.500295Z",
     "start_time": "2024-12-30T07:46:51.496127Z"
    }
   },
   "cell_type": "code",
   "source": [
    "#Write function for total count of the words of the betty\n",
    "\n",
    "tongue_twister = (\"Betty Botter bought a bit of butter, \"\n",
    "                  \"\\\"But,\\\" she said, \\\"this butter's bitter. \"\n",
    "                  \"If I put it in my batter, \"\n",
    "                  \"It will make my batter bitter. \"\n",
    "                  \"But a bit of better butter \"\n",
    "                  \"Will make my batter better.\\\" \"\n",
    "                  \"So Betty Botter bought a bit of better butter, \"\n",
    "                  \"And it made her batter better. \"\n",
    "                  \"So 'twas better Betty Botter \"\n",
    "                  \"Bought a bit of better butter.\")\n",
    "\n",
    "def myCounter(input,search):\n",
    "    myList2 = input.split()\n",
    "    b = 0\n",
    "    for i in myList2:\n",
    "        i = i.strip(\".,\\\"'\").lower()\n",
    "        if i == search.lower():\n",
    "            b = b+1\n",
    "    print(b)\n",
    "myCounter(tongue_twister,\"betty\")"
   ],
   "id": "5ab86856bd78b4b8",
   "outputs": [
    {
     "name": "stdout",
     "output_type": "stream",
     "text": [
      "3\n"
     ]
    }
   ],
   "execution_count": 76
  }
 ],
 "metadata": {
  "kernelspec": {
   "display_name": "Python 3",
   "language": "python",
   "name": "python3"
  },
  "language_info": {
   "codemirror_mode": {
    "name": "ipython",
    "version": 2
   },
   "file_extension": ".py",
   "mimetype": "text/x-python",
   "name": "python",
   "nbconvert_exporter": "python",
   "pygments_lexer": "ipython2",
   "version": "2.7.6"
  }
 },
 "nbformat": 4,
 "nbformat_minor": 5
}
