{
 "cells": [
  {
   "cell_type": "markdown",
   "id": "97004dc7-3ebd-4aa5-8802-4464777ce3b2",
   "metadata": {},
   "source": [
    "### __Python lesson 3 homework__\n",
    "\n",
    "\n",
    "\n",
    "## Assigment\n",
    "BMI value calculation formula: BMI = weight (kg) / height**2\n",
    "\n",
    "For example: a 52 kg person with a height of 155 cm would have a BMI of:\n",
    "52(kg)/(1.55*1.55) = 21.6\n",
    "The normal range of weight is BMI=18.5~24\n",
    "\n",
    "[1] Please ask the user to enter their height and weight.\n",
    "\n",
    "[2] Calculate the BMI value and output it on the screen."
   ]
  },
  {
   "cell_type": "code",
   "execution_count": 29,
   "id": "8734b819-c4e2-4653-9b1e-675aa3b4fc7c",
   "metadata": {},
   "outputs": [
    {
     "name": "stdin",
     "output_type": "stream",
     "text": [
      "Please enter your weight in [kg]: \n",
      " 52\n",
      "Please enter your height in [cm]: \n",
      " 155\n"
     ]
    },
    {
     "name": "stdout",
     "output_type": "stream",
     "text": [
      "Your BMI (21.64412070759625) is within healthy limits\n"
     ]
    }
   ],
   "source": [
    "weight = float(input(\"Please enter your weight in [kg]: \\n\"))\n",
    "height = float(input(\"Please enter your height in [cm]: \\n\"))\n",
    "height = height/100\n",
    "BMI = weight/(height**2)\n",
    "\n",
    "if BMI < 18.5:\n",
    "    print(f\"Your BMI ({BMI}) is underweight\")\n",
    "elif BMI > 24:\n",
    "    print(f\"Your BMI ({BMI}) is overweight\")\n",
    "else:\n",
    "    print(f\"Your BMI ({BMI}) is within healthy limits\")"
   ]
  },
  {
   "cell_type": "code",
   "execution_count": null,
   "id": "7ab2f62f-1393-4bd8-bce8-cab61032aa68",
   "metadata": {},
   "outputs": [],
   "source": []
  }
 ],
 "metadata": {
  "kernelspec": {
   "display_name": "Python 3 (ipykernel)",
   "language": "python",
   "name": "python3"
  },
  "language_info": {
   "codemirror_mode": {
    "name": "ipython",
    "version": 3
   },
   "file_extension": ".py",
   "mimetype": "text/x-python",
   "name": "python",
   "nbconvert_exporter": "python",
   "pygments_lexer": "ipython3",
   "version": "3.12.4"
  }
 },
 "nbformat": 4,
 "nbformat_minor": 5
}
