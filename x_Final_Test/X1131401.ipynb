{
 "cells": [
  {
   "metadata": {
    "ExecuteTime": {
     "end_time": "2025-01-06T06:02:28.721501Z",
     "start_time": "2025-01-06T06:02:28.713902Z"
    }
   },
   "cell_type": "code",
   "source": [
    "#The grades are as follows: 100~90 is A, 89~80 is B, 79~70 is C, 69~60 is D, and failure is F.\n",
    "grade_list = []\n",
    "\n",
    "def grader(grade):\n",
    "    \n",
    "    if grade >89:\n",
    "        #print(\"A\")\n",
    "        grade_list.append(\"A\")\n",
    "    elif grade >79:\n",
    "        #print(\"B\")\n",
    "        grade_list.append(\"B\")\n",
    "    elif grade > 69:\n",
    "        #print(\"C\")\n",
    "        grade_list.append(\"C\")\n",
    "    elif grade >59:\n",
    "        #print(\"D\")\n",
    "        grade_list.append(\"D\")\n",
    "    else:\n",
    "        #print(\"F\")\n",
    "        grade_list.append(\"F\")\n",
    "\n",
    "def students():\n",
    "    global names\n",
    "    global grades\n",
    "    names = []\n",
    "    grades = []\n",
    "    \n",
    "    while True:\n",
    "        name_input = input(\"Enter student name?: \")\n",
    "        if name_input == \"-1\":\n",
    "            #print(names,grades)\n",
    "            return \"Exited\"\n",
    "        grade_input = input(\"Enter grade: \")\n",
    "        if int(grade_input) > 100:\n",
    "            print(\"Grade must be in range 0-100!\")\n",
    "            continue\n",
    "        grade_input = int(grade_input)\n",
    "\n",
    "        names.append(name_input)\n",
    "        grades.append(grade_input)\n",
    "\n",
    "def printer():\n",
    "    A = grade_list.count(\"A\")\n",
    "    B = grade_list.count(\"B\")\n",
    "    C = grade_list.count(\"C\")\n",
    "    D = grade_list.count(\"D\")\n",
    "    F = grade_list.count(\"F\")\n",
    "    sumofmarks = 0\n",
    "    for i in grades:\n",
    "        sumofmarks = i + sumofmarks\n",
    "    avegOfMarks = sumofmarks/len(grades)\n",
    "    print(f\"Total students: {len(grades)}\")\n",
    "    print(f\"Average grade: {avegOfMarks}\")\n",
    "    print(f\"A: {A}\\nB: {B}\\nC: {C}\\nD: {D}\\nF: {F}\")\n",
    "    wholeclass = lower(input(\"\\nWould you like to see whole class list? [Y/N]: \"))\n",
    "    if wholeclass == \"y\":\n",
    "        for c in range(0,len(grades)):\n",
    "            print(names[c],\" achieved \",grades[c],\" with final grade \",grade_list[c],\"\\n\")\n",
    "    \n",
    "    return 0\n",
    "    \n",
    "\n",
    "def main():\n",
    "    students()\n",
    "    for i in grades:\n",
    "        grader(i)\n",
    "    printer()\n",
    "    return 0\n"
   ],
   "id": "bfb168f9f10fcc0c",
   "outputs": [],
   "execution_count": 74
  },
  {
   "metadata": {
    "ExecuteTime": {
     "end_time": "2025-01-06T06:03:18.715119Z",
     "start_time": "2025-01-06T06:02:32.597068Z"
    }
   },
   "cell_type": "code",
   "source": [
    "#START PROGRAM BY EXECUTING THIS CELL\n",
    "#START PROGRAM BY EXECUTING THIS CELL\n",
    "#START PROGRAM BY EXECUTING THIS CELL\n",
    "#START PROGRAM BY EXECUTING THIS CELL\n",
    "\n",
    "main()"
   ],
   "id": "d42d6c587384b195",
   "outputs": [
    {
     "name": "stdout",
     "output_type": "stream",
     "text": [
      "Total students: 7\n",
      "Average grade: 57.0\n",
      "A: 2\n",
      "B: 1\n",
      "C: 0\n",
      "D: 0\n",
      "F: 4\n",
      "studentA  achieved  55  with final grade  F \n",
      "\n",
      "aastudentA  achieved  99  with final grade  A \n",
      "\n",
      "studentAaa  achieved  55  with final grade  F \n",
      "\n",
      "studentAasa  achieved  100  with final grade  A \n",
      "\n",
      "studentAasdw  achieved  88  with final grade  B \n",
      "\n",
      "studentAcxy  achieved  2  with final grade  F \n",
      "\n",
      "studentAasdw  achieved  0  with final grade  F \n",
      "\n"
     ]
    },
    {
     "data": {
      "text/plain": [
       "0"
      ]
     },
     "execution_count": 75,
     "metadata": {},
     "output_type": "execute_result"
    }
   ],
   "execution_count": 75
  },
  {
   "metadata": {},
   "cell_type": "markdown",
   "source": "### Second Question for better readability",
   "id": "df6a6a23348e0e03"
  },
  {
   "metadata": {
    "ExecuteTime": {
     "end_time": "2025-01-06T06:29:31.836541Z",
     "start_time": "2025-01-06T06:29:30.442361Z"
    }
   },
   "cell_type": "code",
   "source": [
    "#What is current date, month and year?\n",
    "#What day of the week is today?\n",
    "#What is this place?\n",
    "#What is your phone number?\n",
    "#How old are you?\n",
    "#Where were you born?\n",
    "#Who is current president?\n",
    "#What's your mothers middle name?\n",
    "#Can you count backwards from 20 in the increment of 3?\n",
    "# 0-2 normal\n",
    "# 3-4 mild\n",
    "# 5-7 severe\n",
    "# else moderate\n",
    "#Each wrong gives error + 1\n",
    "\n",
    "firstQ = input(\"What is current date, month and year?\")\n",
    "secondQ = input(\"What day of the week is today?\")\n",
    "thirdQ = input(\"What is this place?\")\n",
    "fourthQ = input(\"What is your phone number?\")\n",
    "fifthQ = input(\"How old are you?\")\n",
    "sixthQ = input(\"Where were you born?\")\n",
    "seventhQ = input(\"Who is the current president?\")\n",
    "eighthQ = input(\"What's your mothers middle name?\")\n",
    "ninthQ = input(\"Can you count backwards from 20 in the increment of 3?\")\n",
    "\n",
    "ans = [firstQ,secondQ,thirdQ,fourthQ,fifthQ,sixthQ,seventhQ,eighthQ, ninthQ]\n",
    "correctA = [\"text.text.text\",\"text\",\"text\",\"+text\",\"text\",\"text\",\"text text\",\"text\",\"text\"]\n",
    "\n",
    "error = 0\n",
    "for bb in range(len(correctA)):\n",
    "    if correctA[bb] != ans[bb]:\n",
    "        error += 1\n",
    "if error < 3:\n",
    "    print(\"Normal Value\")\n",
    "elif error < 5:\n",
    "    print(\"Mild\")\n",
    "elif error < 8:\n",
    "    print(\"Moderate\")\n",
    "else:\n",
    "    print(\"Severe\")\n",
    "    \n",
    "    "
   ],
   "id": "573021c40dd6680d",
   "outputs": [
    {
     "ename": "KeyboardInterrupt",
     "evalue": "Interrupted by user",
     "output_type": "error",
     "traceback": [
      "\u001B[1;31m---------------------------------------------------------------------------\u001B[0m",
      "\u001B[1;31mKeyboardInterrupt\u001B[0m                         Traceback (most recent call last)",
      "Cell \u001B[1;32mIn[77], line 16\u001B[0m\n\u001B[0;32m      1\u001B[0m \u001B[38;5;66;03m#What is current date, month and year?\u001B[39;00m\n\u001B[0;32m      2\u001B[0m \u001B[38;5;66;03m#What day of the week is today?\u001B[39;00m\n\u001B[0;32m      3\u001B[0m \u001B[38;5;66;03m#What is this place?\u001B[39;00m\n\u001B[1;32m   (...)\u001B[0m\n\u001B[0;32m     13\u001B[0m \u001B[38;5;66;03m# else moderate\u001B[39;00m\n\u001B[0;32m     14\u001B[0m \u001B[38;5;66;03m#Each wrong gives error + 1\u001B[39;00m\n\u001B[1;32m---> 16\u001B[0m firstQ \u001B[38;5;241m=\u001B[39m \u001B[38;5;28;43minput\u001B[39;49m\u001B[43m(\u001B[49m\u001B[38;5;124;43m\"\u001B[39;49m\u001B[38;5;124;43mWhat is current date, month and year?\u001B[39;49m\u001B[38;5;124;43m\"\u001B[39;49m\u001B[43m)\u001B[49m\n\u001B[0;32m     17\u001B[0m secondQ \u001B[38;5;241m=\u001B[39m \u001B[38;5;28minput\u001B[39m(\u001B[38;5;124m\"\u001B[39m\u001B[38;5;124mWhat day of the week is today?\u001B[39m\u001B[38;5;124m\"\u001B[39m)\n\u001B[0;32m     18\u001B[0m thirdQ \u001B[38;5;241m=\u001B[39m \u001B[38;5;28minput\u001B[39m(\u001B[38;5;124m\"\u001B[39m\u001B[38;5;124mWhat is this place?\u001B[39m\u001B[38;5;124m\"\u001B[39m)\n",
      "File \u001B[1;32m~\\AppData\\Local\\Programs\\Python\\Python313\\Lib\\site-packages\\ipykernel\\kernelbase.py:1282\u001B[0m, in \u001B[0;36mKernel.raw_input\u001B[1;34m(self, prompt)\u001B[0m\n\u001B[0;32m   1280\u001B[0m     msg \u001B[38;5;241m=\u001B[39m \u001B[38;5;124m\"\u001B[39m\u001B[38;5;124mraw_input was called, but this frontend does not support input requests.\u001B[39m\u001B[38;5;124m\"\u001B[39m\n\u001B[0;32m   1281\u001B[0m     \u001B[38;5;28;01mraise\u001B[39;00m StdinNotImplementedError(msg)\n\u001B[1;32m-> 1282\u001B[0m \u001B[38;5;28;01mreturn\u001B[39;00m \u001B[38;5;28;43mself\u001B[39;49m\u001B[38;5;241;43m.\u001B[39;49m\u001B[43m_input_request\u001B[49m\u001B[43m(\u001B[49m\n\u001B[0;32m   1283\u001B[0m \u001B[43m    \u001B[49m\u001B[38;5;28;43mstr\u001B[39;49m\u001B[43m(\u001B[49m\u001B[43mprompt\u001B[49m\u001B[43m)\u001B[49m\u001B[43m,\u001B[49m\n\u001B[0;32m   1284\u001B[0m \u001B[43m    \u001B[49m\u001B[38;5;28;43mself\u001B[39;49m\u001B[38;5;241;43m.\u001B[39;49m\u001B[43m_parent_ident\u001B[49m\u001B[43m[\u001B[49m\u001B[38;5;124;43m\"\u001B[39;49m\u001B[38;5;124;43mshell\u001B[39;49m\u001B[38;5;124;43m\"\u001B[39;49m\u001B[43m]\u001B[49m\u001B[43m,\u001B[49m\n\u001B[0;32m   1285\u001B[0m \u001B[43m    \u001B[49m\u001B[38;5;28;43mself\u001B[39;49m\u001B[38;5;241;43m.\u001B[39;49m\u001B[43mget_parent\u001B[49m\u001B[43m(\u001B[49m\u001B[38;5;124;43m\"\u001B[39;49m\u001B[38;5;124;43mshell\u001B[39;49m\u001B[38;5;124;43m\"\u001B[39;49m\u001B[43m)\u001B[49m\u001B[43m,\u001B[49m\n\u001B[0;32m   1286\u001B[0m \u001B[43m    \u001B[49m\u001B[43mpassword\u001B[49m\u001B[38;5;241;43m=\u001B[39;49m\u001B[38;5;28;43;01mFalse\u001B[39;49;00m\u001B[43m,\u001B[49m\n\u001B[0;32m   1287\u001B[0m \u001B[43m\u001B[49m\u001B[43m)\u001B[49m\n",
      "File \u001B[1;32m~\\AppData\\Local\\Programs\\Python\\Python313\\Lib\\site-packages\\ipykernel\\kernelbase.py:1325\u001B[0m, in \u001B[0;36mKernel._input_request\u001B[1;34m(self, prompt, ident, parent, password)\u001B[0m\n\u001B[0;32m   1322\u001B[0m \u001B[38;5;28;01mexcept\u001B[39;00m \u001B[38;5;167;01mKeyboardInterrupt\u001B[39;00m:\n\u001B[0;32m   1323\u001B[0m     \u001B[38;5;66;03m# re-raise KeyboardInterrupt, to truncate traceback\u001B[39;00m\n\u001B[0;32m   1324\u001B[0m     msg \u001B[38;5;241m=\u001B[39m \u001B[38;5;124m\"\u001B[39m\u001B[38;5;124mInterrupted by user\u001B[39m\u001B[38;5;124m\"\u001B[39m\n\u001B[1;32m-> 1325\u001B[0m     \u001B[38;5;28;01mraise\u001B[39;00m \u001B[38;5;167;01mKeyboardInterrupt\u001B[39;00m(msg) \u001B[38;5;28;01mfrom\u001B[39;00m \u001B[38;5;28;01mNone\u001B[39;00m\n\u001B[0;32m   1326\u001B[0m \u001B[38;5;28;01mexcept\u001B[39;00m \u001B[38;5;167;01mException\u001B[39;00m:\n\u001B[0;32m   1327\u001B[0m     \u001B[38;5;28mself\u001B[39m\u001B[38;5;241m.\u001B[39mlog\u001B[38;5;241m.\u001B[39mwarning(\u001B[38;5;124m\"\u001B[39m\u001B[38;5;124mInvalid Message:\u001B[39m\u001B[38;5;124m\"\u001B[39m, exc_info\u001B[38;5;241m=\u001B[39m\u001B[38;5;28;01mTrue\u001B[39;00m)\n",
      "\u001B[1;31mKeyboardInterrupt\u001B[0m: Interrupted by user"
     ]
    }
   ],
   "execution_count": 77
  }
 ],
 "metadata": {
  "kernelspec": {
   "display_name": "Python 3",
   "language": "python",
   "name": "python3"
  },
  "language_info": {
   "codemirror_mode": {
    "name": "ipython",
    "version": 2
   },
   "file_extension": ".py",
   "mimetype": "text/x-python",
   "name": "python",
   "nbconvert_exporter": "python",
   "pygments_lexer": "ipython2",
   "version": "2.7.6"
  }
 },
 "nbformat": 4,
 "nbformat_minor": 5
}
