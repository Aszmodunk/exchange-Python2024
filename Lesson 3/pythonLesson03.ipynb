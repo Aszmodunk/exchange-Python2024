{
 "cells": [
  {
   "cell_type": "markdown",
   "id": "9a753ec5-af0e-4ac4-9c44-7d467f83dcd8",
   "metadata": {},
   "source": [
    "### __Python lesson 3__\n",
    "- Student name: __Jiří David__\n",
    "- Student number: __X1131401__"
   ]
  },
  {
   "cell_type": "markdown",
   "id": "d4c5fbf4-2e8a-4773-a40f-f7e3df4653e5",
   "metadata": {},
   "source": [
    "# __Today's topoc: String operations__\n",
    "\n",
    "In python __stings__ are as _sequence of characters_. They are declared by the `\" \"` that also includes _spaces and special characters_.\n",
    "\n",
    "Let's have an example:"
   ]
  },
  {
   "cell_type": "code",
   "execution_count": 7,
   "id": "e23f7b10-60bb-498c-a52e-f2b9bea1dc6b",
   "metadata": {},
   "outputs": [
    {
     "name": "stdout",
     "output_type": "stream",
     "text": [
      "Michael Jackson\n"
     ]
    }
   ],
   "source": [
    "name = \"Michael Jackson\"\n",
    "print(name)"
   ]
  },
  {
   "cell_type": "markdown",
   "id": "00d6fd1d-cc02-4e74-b7e7-ba2d95e8c6ec",
   "metadata": {},
   "source": [
    "We declared string with python, as said above, string is set of characters. So we can use positions to print individual characters. We can use negative indexing too `name[-1]` is similar to the `name[0]` but is going from the opposite side if the string, since the 0 can't be negative, the `-1` is the first letter in this case."
   ]
  },
  {
   "cell_type": "code",
   "execution_count": 101,
   "id": "2cb5b58b-5f1f-437e-a33a-6db7dfeecb82",
   "metadata": {},
   "outputs": [
    {
     "name": "stdout",
     "output_type": "stream",
     "text": [
      "M\n",
      "\n",
      "Mich\n",
      "\n",
      "McalJcsn\n",
      "\n",
      "n\n"
     ]
    }
   ],
   "source": [
    "print(f\"{name[0]}\\n\") # Print first character\n",
    "print(f\"{name[0:4]}\\n\") # Print character from 0 to 4\n",
    "print(f\"{name[::2]}\\n\") # Print every even character\n",
    "#Negaitve index can be used too!\n",
    "print(name[-1])"
   ]
  },
  {
   "cell_type": "markdown",
   "id": "adcf8961-5771-432d-bd35-0550c9b6a67c",
   "metadata": {},
   "source": [
    "Same with lists we can use `len()` function to get lenght of the string __with speciall characters and spaces!__"
   ]
  },
  {
   "cell_type": "code",
   "execution_count": 25,
   "id": "5d29e795-2173-4367-8902-dfe04a1f8f15",
   "metadata": {},
   "outputs": [
    {
     "data": {
      "text/plain": [
       "15"
      ]
     },
     "execution_count": 25,
     "metadata": {},
     "output_type": "execute_result"
    }
   ],
   "source": [
    "len(name)"
   ]
  },
  {
   "cell_type": "markdown",
   "id": "c97db0bf-10c7-49d7-a234-c9554d908fe2",
   "metadata": {},
   "source": [
    "We can combine strings. Just \"as is\"___*___ or via _variables_. Both cases are seen below.\n",
    "\n",
    "___*___ _It is important to notice, that we need to add extra space before the combination of the strings, since the space is considered as an character!_"
   ]
  },
  {
   "cell_type": "code",
   "execution_count": 34,
   "id": "cf485b37-429c-49bc-9c7a-9eb2e263cc96",
   "metadata": {},
   "outputs": [
    {
     "name": "stdout",
     "output_type": "stream",
     "text": [
      "Michael Jackson is the best!\n"
     ]
    }
   ],
   "source": [
    "statment = name + \" is the best!\"\n",
    "print(statment)"
   ]
  },
  {
   "cell_type": "code",
   "execution_count": 50,
   "id": "77b966b5-1cbb-453c-8a5f-196714e18ea3",
   "metadata": {},
   "outputs": [
    {
     "name": "stdout",
     "output_type": "stream",
     "text": [
      "Michael Jackson is the best!\n",
      "Michael Jackson is the best!\n",
      "Michael Jackson is the best!\n",
      "\n"
     ]
    }
   ],
   "source": [
    "print(f\"{3*(statment+\"\\n\")}\") # math!"
   ]
  },
  {
   "cell_type": "markdown",
   "id": "c39419b4-9891-41ac-a00d-4e2416e82a7f",
   "metadata": {},
   "source": [
    "# String manipmulation \n",
    "It is ___not possible___ to manipulate stings like `name[0]=J`, but we can create new strings like in the `statment` above.\n",
    "\n",
    "We can use backshlash _(as we used several times above)_ to manipulate string behaviour, where __`\"\\n\"`__ forces the text for the new line. It does not have to be at the end necesarly, it can be also in the middle _(or anywhere)_ in the string for example `\"My mom is sweet\\n caring\\n and \\n has big smile\"`"
   ]
  },
  {
   "cell_type": "code",
   "execution_count": 55,
   "id": "42f2a0fe-c73a-4d01-aa1e-84a938ef48ab",
   "metadata": {},
   "outputs": [
    {
     "name": "stdout",
     "output_type": "stream",
     "text": [
      "My mom is sweet\n",
      " caring\n",
      " and\n",
      " has big smile\n"
     ]
    }
   ],
   "source": [
    "print(\"My mom is sweet\\n caring\\n and\\n has big smile\")"
   ]
  },
  {
   "cell_type": "markdown",
   "id": "8edccca3-98f3-488f-ae6a-feca8a848212",
   "metadata": {},
   "source": [
    "As can be seen above, it is important to remeber that space is considered character\n",
    "\n",
    "The `\\t` results in `   ` tab, who would have guessed!\n",
    "If we need `\\` in the text we can type  `\\\\`"
   ]
  },
  {
   "cell_type": "code",
   "execution_count": 60,
   "id": "bbb3aa00-b57a-4316-aaa8-d24b549bb23e",
   "metadata": {},
   "outputs": [
    {
     "name": "stdout",
     "output_type": "stream",
     "text": [
      "Look at it go! \\ Look at me go!\n"
     ]
    }
   ],
   "source": [
    "print(\"Look at it go! \\\\ Look at me go!\")"
   ]
  },
  {
   "cell_type": "markdown",
   "id": "65c5150f-ac89-4e9a-88c4-ca207acd5c2d",
   "metadata": {},
   "source": [
    "We can  type `print(r\"Michael jackson \\ is the best\")` results in the __raw string__ where all formating is ignored."
   ]
  },
  {
   "cell_type": "code",
   "execution_count": 64,
   "id": "70a9984f-a4b3-4114-b503-0cbbbf438d5a",
   "metadata": {},
   "outputs": [
    {
     "name": "stdout",
     "output_type": "stream",
     "text": [
      "This is \\n an example \\t of the raw \\ string!/\n"
     ]
    }
   ],
   "source": [
    "print(r\"This is \\n an example \\t of the raw \\ string!/\")"
   ]
  },
  {
   "attachments": {},
   "cell_type": "markdown",
   "id": "52392c62-f022-4343-a88e-377bca6289e7",
   "metadata": {},
   "source": [
    "## String sequence methods\n",
    "When we apply methond to the stryng A we get string B. Can be achieved by method like `B = A.upper()` wich will result in B be identical to the _original stinrg_ A, but with `upper()` modification. There also exists function `lower()` where we take copy of the sting _(in our case B)_ and transfer it to the lower."
   ]
  },
  {
   "cell_type": "code",
   "execution_count": 76,
   "id": "a1e607fa-fe95-4acd-989d-d3bd7b15ad21",
   "metadata": {},
   "outputs": [
    {
     "name": "stdout",
     "output_type": "stream",
     "text": [
      "I am thrilled to be here and experience this wonderful event!\n",
      "I AM THRILLED TO BE HERE AND EXPERIENCE THIS WONDERFUL EVENT!\n",
      "i am thrilled to be here and experience this wonderful event!\n"
     ]
    }
   ],
   "source": [
    "A = \"I am thrilled to be here and experience this wonderful event!\"\n",
    "print(A)\n",
    "\n",
    "B = A.upper()\n",
    "print(B)\n",
    "\n",
    "C = B.lower()\n",
    "print(C)"
   ]
  },
  {
   "cell_type": "markdown",
   "id": "f214e14e-afef-4f64-8bda-7ac1bc4b7390",
   "metadata": {},
   "source": [
    "Another method of manipulation is `replace(\"What we look for\", \"What we want to replace it with\")`"
   ]
  },
  {
   "cell_type": "code",
   "execution_count": 80,
   "id": "6b26d4d4-0576-412d-8405-f3fc99b1a7da",
   "metadata": {},
   "outputs": [
    {
     "name": "stdout",
     "output_type": "stream",
     "text": [
      "i am thrilled to be here and experience this wonderful food!\n"
     ]
    }
   ],
   "source": [
    "D = C.replace(\"event\", \"food\")\n",
    "print(D)"
   ]
  },
  {
   "cell_type": "markdown",
   "id": "88cdbd56-7814-4e20-86eb-80a74c69cc04",
   "metadata": {},
   "source": [
    "We can locate the specific positions of the characters with function `find()` let's have an example below."
   ]
  },
  {
   "cell_type": "code",
   "execution_count": 99,
   "id": "bde61ef5-c5a5-4d18-92c3-143e4c25d26b",
   "metadata": {},
   "outputs": [
    {
     "name": "stdout",
     "output_type": "stream",
     "text": [
      "Position of the food! is: 55\n",
      "\n",
      "The total lenght of the string is: 60\n",
      "\n",
      "If we try to search for something that doesn't exist like a dog we get: -1\n",
      "\n"
     ]
    }
   ],
   "source": [
    "print(f\"Position of the food! is: {D.find(\"food!\")}\\n\")\n",
    "print(f\"The total lenght of the string is: {len(D)}\\n\")\n",
    "print(f\"If we try to search for something that doesn't exist like a dog we get: {D.find(\"dog!\")}\\n\")"
   ]
  },
  {
   "cell_type": "markdown",
   "id": "9d59f922-cd29-4797-b74f-ca8690c38c93",
   "metadata": {},
   "source": [
    "### Interaction with the users\n",
    "`print()` is basic function that can interact with the user, to some extent, of course we won't get any feedback. That is where the `input()` comes in. It can be used \"as is\" ___BUT!___ we need to have ability to store data from the user. That's why we usually associate it with a variable. Like `newName = input(\"My name is: \\n\")` as you can see, we can put some arguments inside the `input()` function too.\n",
    "\n",
    "_Important note, all outputs are stings, unless we define otherwise!_"
   ]
  },
  {
   "cell_type": "code",
   "execution_count": 108,
   "id": "46b31761-bb6d-42c0-97ed-a8d8df7201da",
   "metadata": {},
   "outputs": [
    {
     "name": "stdout",
     "output_type": "stream",
     "text": [
      "Hello what is your name?: \n",
      "\n"
     ]
    },
    {
     "name": "stdin",
     "output_type": "stream",
     "text": [
      "My name is: \n",
      " Jashuo\n"
     ]
    },
    {
     "name": "stdout",
     "output_type": "stream",
     "text": [
      "Nice to meet you Jashuo! Excited to work with you!\n",
      "\n"
     ]
    }
   ],
   "source": [
    "print(\"Hello what is your name?\\n\")\n",
    "newName = input(\"My name is: \\n\")\n",
    "print(f\"Nice to meet you {newName}! Excited to work with you!\\n\")"
   ]
  },
  {
   "cell_type": "code",
   "execution_count": 55,
   "id": "43ad5927-f113-408a-93f4-b8b46278f624",
   "metadata": {},
   "outputs": [
    {
     "name": "stdin",
     "output_type": "stream",
     "text": [
      "Input new number:  55\n"
     ]
    },
    {
     "name": "stdout",
     "output_type": "stream",
     "text": [
      "56\n",
      "The power of two for 55 is 3025\n",
      "\n"
     ]
    }
   ],
   "source": [
    "newNumber = input(\"Input new number: \")\n",
    "print(int(newNumber) + 1)\n",
    "\n",
    "anotherNumber = int(newNumber)\n",
    "print(f\"The power of two for {newNumber} is {anotherNumber **2}\\n\")"
   ]
  },
  {
   "attachments": {},
   "cell_type": "markdown",
   "id": "02a988f6-5722-4924-8bac-b12791c6758c",
   "metadata": {},
   "source": [
    "_As can be seen above, to manipulate with input to get number, can be bit tricky but not impossible. We can also make it always be in by `newNumber = int(input(\"text\"))`_\n",
    "\n",
    "\n",
    "We also gain new knowledge that __something to the power of two__ is achieved by `**2`\n",
    "\n",
    "We learned about the another function of `split()` splits seperate words into the list."
   ]
  },
  {
   "cell_type": "code",
   "execution_count": null,
   "id": "b196cd08-0d4b-455e-a973-3c1bab124365",
   "metadata": {},
   "outputs": [],
   "source": []
  }
 ],
 "metadata": {
  "kernelspec": {
   "display_name": "Python 3 (ipykernel)",
   "language": "python",
   "name": "python3"
  },
  "language_info": {
   "codemirror_mode": {
    "name": "ipython",
    "version": 3
   },
   "file_extension": ".py",
   "mimetype": "text/x-python",
   "name": "python",
   "nbconvert_exporter": "python",
   "pygments_lexer": "ipython3",
   "version": "3.12.4"
  }
 },
 "nbformat": 4,
 "nbformat_minor": 5
}
