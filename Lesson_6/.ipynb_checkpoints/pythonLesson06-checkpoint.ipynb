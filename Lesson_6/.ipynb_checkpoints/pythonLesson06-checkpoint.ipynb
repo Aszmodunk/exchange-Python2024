{
 "cells": [
  {
   "metadata": {},
   "cell_type": "markdown",
   "source": [
    "# Today's topic: \n",
    "\n",
    "review for the midterm test\n",
    "`important!`"
   ],
   "id": "c427293a96bd9f7d"
  },
  {
   "metadata": {},
   "cell_type": "code",
   "source": [
    "a = 3\n",
    "b = 2 \n",
    "if a > 5 or b < 7:\n",
    "    print(a)"
   ],
   "id": "baa855ae21b3ee73",
   "outputs": [],
   "execution_count": null
  },
  {
   "metadata": {},
   "cell_type": "code",
   "source": [
    "if (a > 2):\n",
    "    print(1)\n",
    "if a > 2:\n",
    "    print(2)\n",
    "if (a > 2 or a <6):\n",
    "    print(3)\n",
    "if a > 2 and not a <6:\n",
    "    print(4)"
   ],
   "id": "35ef34b86ddb46a",
   "outputs": [],
   "execution_count": null
  },
  {
   "metadata": {},
   "cell_type": "code",
   "source": [
    "#Ambulance\n",
    "#Nursing 700/hr, Doctor 1 500/hr\n",
    "#We need to input km, if nursing staff or doctor is needed on board\n",
    "#avg speed je 60km/hr\n",
    "\n",
    "\n",
    "nurse = 700\n",
    "doctor = 1500\n",
    "\n",
    "km = int(input(\"Km?: \\n\"))\n",
    "basicFee = 800 + (km*25)\n",
    "\n",
    "print(\"What staff is required? \\n1) Nursing\\n2) Doctor\\n3) Both\\n\")\n",
    "staff = int(input())\n",
    "\n",
    "hrs = km//60 #Defined Hrs\n",
    "\n",
    "if km%60 != 0: # If there is some 0.123123123 it will take a hrs and add extra hour\n",
    "    hrs = hrs +1\n",
    "    \n",
    "\n",
    "staffFee = 0\n",
    "if staff == 1:\n",
    "    staffFee = nurse\n",
    "elif staff == 2:\n",
    "    staffFee = doctor\n",
    "elif staff == 3:\n",
    "    staffFee = nurse + doctor\n",
    "\n",
    "finalCost = hrs*staffFee + basicFee #For 20 km both should be 3500\n",
    "print(f\"{basicFee} - BasicFee\")\n",
    "\n",
    "print(finalCost)"
   ],
   "id": "175a17d9068687e7",
   "outputs": [],
   "execution_count": null
  },
  {
   "metadata": {},
   "cell_type": "markdown",
   "source": [
    "## Two way condition\n",
    "Tell code what to do if the `if` is not *true* handled by the condition `else`\n"
   ],
   "id": "a071613ec85ceb37"
  },
  {
   "metadata": {},
   "cell_type": "code",
   "source": [
    "def ins(val):\n",
    "    if val >= 0:\n",
    "        return \"The input value is greater or equal to 0\"\n",
    "    else:\n",
    "        return \"The input value is less than 0\"\n",
    "    \n",
    "def trials():\n",
    "    for i in range(-11,11):\n",
    "        print(ins(i))\n",
    "\n",
    "trials()\n",
    "# if int(input()) >= 0:\n",
    "#     print(\"The input value is greater or equal to 0\")\n",
    "# else:\n",
    "#     print(\"The input value is less than 0\")"
   ],
   "id": "792b158c43830528",
   "outputs": [],
   "execution_count": null
  },
  {
   "metadata": {
    "ExecuteTime": {
     "end_time": "2024-10-28T06:12:42.764942Z",
     "start_time": "2024-10-28T06:12:42.746590Z"
    }
   },
   "cell_type": "code",
   "source": [
    "a = 2\n",
    "b = 6\n",
    "c = 8\n",
    "if a >10:\n",
    "    print(a)\n",
    "else:\n",
    "    print(b)\n",
    "print(c)"
   ],
   "id": "8f502aaecce73a08",
   "outputs": [
    {
     "name": "stdout",
     "output_type": "stream",
     "text": [
      "6\n",
      "8\n"
     ]
    }
   ],
   "execution_count": 31
  },
  {
   "metadata": {},
   "cell_type": "code",
   "outputs": [],
   "execution_count": null,
   "source": "",
   "id": "7bf293cbbe9df848"
  }
 ],
 "metadata": {
  "kernelspec": {
   "display_name": "Python 3",
   "language": "python",
   "name": "python3"
  },
  "language_info": {
   "codemirror_mode": {
    "name": "ipython",
    "version": 2
   },
   "file_extension": ".py",
   "mimetype": "text/x-python",
   "name": "python",
   "nbconvert_exporter": "python",
   "pygments_lexer": "ipython2",
   "version": "2.7.6"
  }
 },
 "nbformat": 4,
 "nbformat_minor": 5
}
