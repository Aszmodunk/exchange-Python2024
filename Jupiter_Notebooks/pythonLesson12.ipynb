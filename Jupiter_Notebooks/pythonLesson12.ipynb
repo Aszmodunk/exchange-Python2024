{
 "cells": [
  {
   "cell_type": "code",
   "id": "initial_id",
   "metadata": {
    "collapsed": true,
    "ExecuteTime": {
     "end_time": "2024-12-30T05:22:11.906286Z",
     "start_time": "2024-12-30T05:22:01.701680Z"
    }
   },
   "source": [
    "#Functions\n",
    "#[Are optional]\n",
    "#(are reqired)\n",
    "\n",
    "import time\n",
    "def timerz(param):\n",
    "    print(\"Loading please wait.\\n\")\n",
    "    for i in range(param):\n",
    "        print(f\"{param - i}\\n\", end=\"...\")\n",
    "        time.sleep(1)\n",
    "    return 0\n",
    "timerz(10)\n"
   ],
   "outputs": [
    {
     "name": "stdout",
     "output_type": "stream",
     "text": [
      "Loading please wait.\n",
      "\n",
      "10\n",
      "...9\n",
      "...8\n",
      "...7\n",
      "...6\n",
      "...5\n",
      "...4\n",
      "...3\n",
      "...2\n",
      "...1\n",
      "..."
     ]
    },
    {
     "data": {
      "text/plain": [
       "0"
      ]
     },
     "execution_count": 2,
     "metadata": {},
     "output_type": "execute_result"
    }
   ],
   "execution_count": 2
  },
  {
   "metadata": {
    "ExecuteTime": {
     "end_time": "2024-12-30T05:22:12.105115Z",
     "start_time": "2024-12-30T05:22:12.090961Z"
    }
   },
   "cell_type": "code",
   "source": [
    "def min(a,b):\n",
    "    if a>b:\n",
    "        return b\n",
    "    else:\n",
    "        return a\n",
    "x = min(10,12)\n",
    "print(x)\n",
    "\n"
   ],
   "id": "4fbdc1628440c712",
   "outputs": [
    {
     "name": "stdout",
     "output_type": "stream",
     "text": [
      "10\n"
     ]
    }
   ],
   "execution_count": 3
  },
  {
   "metadata": {
    "ExecuteTime": {
     "end_time": "2024-12-30T05:22:18.540971Z",
     "start_time": "2024-12-30T05:22:12.371521Z"
    }
   },
   "cell_type": "code",
   "source": [
    "a = int(input(\"Enter a size of a: \"))\n",
    "b = int(input(\"Enter a size of b: \"))\n",
    "\n",
    "def area(a,b):\n",
    "    return a*b\n",
    "area(a,b)"
   ],
   "id": "a0a638be5791ec55",
   "outputs": [
    {
     "data": {
      "text/plain": [
       "121"
      ]
     },
     "execution_count": 4,
     "metadata": {},
     "output_type": "execute_result"
    }
   ],
   "execution_count": 4
  },
  {
   "metadata": {
    "ExecuteTime": {
     "end_time": "2024-12-30T05:22:18.677342Z",
     "start_time": "2024-12-30T05:22:18.663685Z"
    }
   },
   "cell_type": "code",
   "source": [
    "def add(a):\n",
    "    \"\"\"Documentation\n",
    "    This function adds two numbers together.\n",
    "    Parameters:\n",
    "    a\n",
    "    \"\"\"\n",
    "    \n",
    "    b = a + 1\n",
    "    print(b)\n",
    "    return b\n",
    "for i in range(10):\n",
    "    add(i)\n",
    "    "
   ],
   "id": "1884cb48fa7eee17",
   "outputs": [
    {
     "name": "stdout",
     "output_type": "stream",
     "text": [
      "1\n",
      "2\n",
      "3\n",
      "4\n",
      "5\n",
      "6\n",
      "7\n",
      "8\n",
      "9\n",
      "10\n"
     ]
    }
   ],
   "execution_count": 5
  },
  {
   "metadata": {
    "ExecuteTime": {
     "end_time": "2024-12-30T05:22:18.794424Z",
     "start_time": "2024-12-30T05:22:18.785785Z"
    }
   },
   "cell_type": "code",
   "source": "help(add)",
   "id": "edb26cc9a4f07735",
   "outputs": [
    {
     "name": "stdout",
     "output_type": "stream",
     "text": [
      "Help on function add in module __main__:\n",
      "\n",
      "add(a)\n",
      "    Documentation\n",
      "    This function adds two numbers together.\n",
      "    Parameters:\n",
      "    a\n",
      "\n"
     ]
    }
   ],
   "execution_count": 6
  },
  {
   "metadata": {
    "ExecuteTime": {
     "end_time": "2024-12-30T05:22:18.934462Z",
     "start_time": "2024-12-30T05:22:18.920825Z"
    }
   },
   "cell_type": "code",
   "source": [
    "def multiply(a,b):\n",
    "    c = a * b\n",
    "    return c\n",
    "    #print(\"This won't be printed\")\n",
    "result = multiply(10,\"Joe \\n\")\n",
    "print(result)"
   ],
   "id": "d1cb12c35b674a59",
   "outputs": [
    {
     "name": "stdout",
     "output_type": "stream",
     "text": [
      "Joe \n",
      "Joe \n",
      "Joe \n",
      "Joe \n",
      "Joe \n",
      "Joe \n",
      "Joe \n",
      "Joe \n",
      "Joe \n",
      "Joe \n",
      "\n"
     ]
    }
   ],
   "execution_count": 7
  },
  {
   "metadata": {
    "ExecuteTime": {
     "end_time": "2024-12-30T05:22:19.038086Z",
     "start_time": "2024-12-30T05:22:19.027459Z"
    }
   },
   "cell_type": "code",
   "source": [
    "import math\n",
    "pi = math.pi\n",
    "def circle(radius):\n",
    "    area = pi * radius**2\n",
    "    lenght = pi * radius*2\n",
    "    return area, lenght\n",
    "print(circle(5))"
   ],
   "id": "ec1bd8b2d57497e3",
   "outputs": [
    {
     "name": "stdout",
     "output_type": "stream",
     "text": [
      "(78.53981633974483, 31.41592653589793)\n"
     ]
    }
   ],
   "execution_count": 8
  },
  {
   "metadata": {
    "ExecuteTime": {
     "end_time": "2024-12-30T05:22:19.116422Z",
     "start_time": "2024-12-30T05:22:19.101782Z"
    }
   },
   "cell_type": "code",
   "source": [
    "def square(a):\n",
    "    \"\"\"Documentation\n",
    "    this just square roots input and adds one\n",
    "    not much to it\n",
    "    \"\"\"\n",
    "    b = 1\n",
    "    c = a*a+b\n",
    "    print(a, \" if you square + 1 \", c)\n",
    "    return c\n",
    "\n",
    "square(5)\n",
    "help(square)"
   ],
   "id": "204f6f0a110e4683",
   "outputs": [
    {
     "name": "stdout",
     "output_type": "stream",
     "text": [
      "5  if you square + 1  26\n",
      "Help on function square in module __main__:\n",
      "\n",
      "square(a)\n",
      "    Documentation\n",
      "    this just square roots input and adds one\n",
      "    not much to it\n",
      "\n"
     ]
    }
   ],
   "execution_count": 9
  },
  {
   "metadata": {
    "ExecuteTime": {
     "end_time": "2024-12-30T05:22:19.209904Z",
     "start_time": "2024-12-30T05:22:19.197331Z"
    }
   },
   "cell_type": "code",
   "source": [
    "def MJ():\n",
    "    print(\"Michael jackson\")\n",
    "    \n",
    "def MJ2():\n",
    "    print(\"Michael jackson\")\n",
    "    return None\n",
    "\n",
    "MJ()\n",
    "MJ2()"
   ],
   "id": "7e2c1bb500d3b4c0",
   "outputs": [
    {
     "name": "stdout",
     "output_type": "stream",
     "text": [
      "Michael jackson\n",
      "Michael jackson\n"
     ]
    }
   ],
   "execution_count": 10
  },
  {
   "metadata": {
    "ExecuteTime": {
     "end_time": "2024-12-30T05:22:19.367084Z",
     "start_time": "2024-12-30T05:22:19.354421Z"
    }
   },
   "cell_type": "code",
   "source": [
    "album_ratings = [100, 98, 12, 30,50,60,70,76,74,33]\n",
    "sum(album_ratings)\n",
    "len(album_ratings)\n",
    "average = sum(album_ratings)/len(album_ratings)\n",
    "print(average)\n",
    "print(len(album_ratings))\n",
    "print(sum(album_ratings))"
   ],
   "id": "8109086f83144769",
   "outputs": [
    {
     "name": "stdout",
     "output_type": "stream",
     "text": [
      "60.3\n",
      "10\n",
      "603\n"
     ]
    }
   ],
   "execution_count": 11
  },
  {
   "metadata": {
    "ExecuteTime": {
     "end_time": "2024-12-30T05:22:19.525844Z",
     "start_time": "2024-12-30T05:22:19.512249Z"
    }
   },
   "cell_type": "code",
   "source": [
    "def type_of_almbum(artist, almbum, year_released):\n",
    "    print(artist, almbum, year_released)\n",
    "    if int(year_released) > 1980:\n",
    "        return \"Modern\"\n",
    "    else:\n",
    "        return \"Older\"\n",
    "\n",
    "x =type_of_almbum(\"Michael Jacskon\", \"Thriller\", \"1980\")\n",
    "print(x)"
   ],
   "id": "1f529ff544189cf1",
   "outputs": [
    {
     "name": "stdout",
     "output_type": "stream",
     "text": [
      "Michael Jacskon Thriller 1980\n",
      "Older\n"
     ]
    }
   ],
   "execution_count": 12
  },
  {
   "metadata": {
    "ExecuteTime": {
     "end_time": "2024-12-30T05:22:19.779505Z",
     "start_time": "2024-12-30T05:22:19.762830Z"
    }
   },
   "cell_type": "code",
   "source": [
    "string_1 = \"Michael Jackson is the best\"\n",
    "\n",
    "def checkstring(text):\n",
    "    if text in string_1:\n",
    "        return \"Matching\"\n",
    "    else:\n",
    "        \"Mismatch\"\n",
    "        \n",
    "checkstring(\"is the best\")"
   ],
   "id": "f9299905113708b7",
   "outputs": [
    {
     "data": {
      "text/plain": [
       "'Matching'"
      ]
     },
     "execution_count": 13,
     "metadata": {},
     "output_type": "execute_result"
    }
   ],
   "execution_count": 13
  },
  {
   "metadata": {
    "ExecuteTime": {
     "end_time": "2024-12-30T05:22:20.250727Z",
     "start_time": "2024-12-30T05:22:20.238574Z"
    }
   },
   "cell_type": "code",
   "source": [
    "def compare_strings(x,y):\n",
    "    if x == y:\n",
    "        return 1\n",
    "    \n",
    "string_2 = string_1\n",
    "\n",
    "check = compare_strings(string_1,string_2)\n",
    "if check == 1:\n",
    "    print(\"\\n Matching strings\")\n",
    "else:\n",
    "    print(\"\\n Mismatch\")\n"
   ],
   "id": "42e2aa96784389a6",
   "outputs": [
    {
     "name": "stdout",
     "output_type": "stream",
     "text": [
      "\n",
      " Matching strings\n"
     ]
    }
   ],
   "execution_count": 14
  },
  {
   "metadata": {},
   "cell_type": "markdown",
   "source": [
    "### Lesson 13 continues here\n",
    "\n",
    "it's not check pythonLesson13\n"
   ],
   "id": "adcaaa4b0a619e9f"
  }
 ],
 "metadata": {
  "kernelspec": {
   "display_name": "Python 3",
   "language": "python",
   "name": "python3"
  },
  "language_info": {
   "codemirror_mode": {
    "name": "ipython",
    "version": 2
   },
   "file_extension": ".py",
   "mimetype": "text/x-python",
   "name": "python",
   "nbconvert_exporter": "python",
   "pygments_lexer": "ipython2",
   "version": "2.7.6"
  }
 },
 "nbformat": 4,
 "nbformat_minor": 5
}
