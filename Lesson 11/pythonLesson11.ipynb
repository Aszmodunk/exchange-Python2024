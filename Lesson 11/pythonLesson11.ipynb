{
 "cells": [
  {
   "cell_type": "code",
   "id": "initial_id",
   "metadata": {
    "collapsed": true,
    "ExecuteTime": {
     "end_time": "2024-12-16T07:27:51.394870Z",
     "start_time": "2024-12-16T07:27:51.388404Z"
    }
   },
   "source": [
    "release_year_dict = {\"Thriller\": \"1982\", \"Back in black\":\"1980\", \"The dark side of the moon\":\"1973\",\"Pepe the frog\":\"2003\",\"Gladiator\":\"2005\"}\n",
    "release_year_dict"
   ],
   "outputs": [
    {
     "data": {
      "text/plain": [
       "{'Thriller': '1982',\n",
       " 'Back in black': '1980',\n",
       " 'The dark side of the moon': '1973',\n",
       " 'Pepe the frog': '2003',\n",
       " 'Gladiator': '2005'}"
      ]
     },
     "execution_count": 1,
     "metadata": {},
     "output_type": "execute_result"
    }
   ],
   "execution_count": 1
  },
  {
   "metadata": {
    "ExecuteTime": {
     "end_time": "2024-12-16T07:27:51.471317Z",
     "start_time": "2024-12-16T07:27:51.467479Z"
    }
   },
   "cell_type": "code",
   "source": "release_year_dict[\"The dark side of the moon\"]          \n",
   "id": "ba55013b16bd6e73",
   "outputs": [
    {
     "data": {
      "text/plain": [
       "'1973'"
      ]
     },
     "execution_count": 2,
     "metadata": {},
     "output_type": "execute_result"
    }
   ],
   "execution_count": 2
  },
  {
   "metadata": {},
   "cell_type": "markdown",
   "source": [
    "The first part \"Thriller\" is called key, which can be string, and the value, which can be any basic datatype int,str,float\n",
    "\n",
    "we can retrieve value by calling the key\n"
   ],
   "id": "de6b1365928c7ce5"
  },
  {
   "metadata": {
    "ExecuteTime": {
     "end_time": "2024-12-16T07:27:51.688902Z",
     "start_time": "2024-12-16T07:27:51.684438Z"
    }
   },
   "cell_type": "code",
   "source": "release_year_dict.keys()",
   "id": "979a9ec5214b4598",
   "outputs": [
    {
     "data": {
      "text/plain": [
       "dict_keys(['Thriller', 'Back in black', 'The dark side of the moon', 'Pepe the frog', 'Gladiator'])"
      ]
     },
     "execution_count": 3,
     "metadata": {},
     "output_type": "execute_result"
    }
   ],
   "execution_count": 3
  },
  {
   "metadata": {},
   "cell_type": "markdown",
   "source": "We can recover all the keys by the dict.keys()",
   "id": "ccf615267edd3892"
  },
  {
   "metadata": {
    "ExecuteTime": {
     "end_time": "2024-12-16T07:27:51.724945Z",
     "start_time": "2024-12-16T07:27:51.720845Z"
    }
   },
   "cell_type": "code",
   "source": "release_year_dict.values()",
   "id": "1fceed7166ca25b9",
   "outputs": [
    {
     "data": {
      "text/plain": [
       "dict_values(['1982', '1980', '1973', '2003', '2005'])"
      ]
     },
     "execution_count": 4,
     "metadata": {},
     "output_type": "execute_result"
    }
   ],
   "execution_count": 4
  },
  {
   "metadata": {},
   "cell_type": "markdown",
   "source": "We can do the same with values by calling dic.values()",
   "id": "b434c3dba17ff7bc"
  },
  {
   "metadata": {
    "ExecuteTime": {
     "end_time": "2024-12-16T07:27:51.811352Z",
     "start_time": "2024-12-16T07:27:51.807937Z"
    }
   },
   "cell_type": "code",
   "source": [
    "release_year_dict[\"Aszmobald\"] = \"1990\"\n",
    "release_year_dict"
   ],
   "id": "9329a973585fb78b",
   "outputs": [
    {
     "data": {
      "text/plain": [
       "{'Thriller': '1982',\n",
       " 'Back in black': '1980',\n",
       " 'The dark side of the moon': '1973',\n",
       " 'Pepe the frog': '2003',\n",
       " 'Gladiator': '2005',\n",
       " 'Aszmobald': '1990'}"
      ]
     },
     "execution_count": 5,
     "metadata": {},
     "output_type": "execute_result"
    }
   ],
   "execution_count": 5
  },
  {
   "metadata": {},
   "cell_type": "markdown",
   "source": "We can element by the dict[\"Key\"] = \"Value\"",
   "id": "56b4c097c9137298"
  },
  {
   "metadata": {
    "ExecuteTime": {
     "end_time": "2024-12-16T07:27:51.867540Z",
     "start_time": "2024-12-16T07:27:51.863550Z"
    }
   },
   "cell_type": "code",
   "source": [
    "del(release_year_dict[\"Aszmobald\"])\n",
    "release_year_dict"
   ],
   "id": "e7ae3ade3e43fad0",
   "outputs": [
    {
     "data": {
      "text/plain": [
       "{'Thriller': '1982',\n",
       " 'Back in black': '1980',\n",
       " 'The dark side of the moon': '1973',\n",
       " 'Pepe the frog': '2003',\n",
       " 'Gladiator': '2005'}"
      ]
     },
     "execution_count": 6,
     "metadata": {},
     "output_type": "execute_result"
    }
   ],
   "execution_count": 6
  },
  {
   "metadata": {},
   "cell_type": "markdown",
   "source": [
    "We can also remove the entry by del() function as show above\n",
    "\n",
    "del(dict[\"key\"])"
   ],
   "id": "75d1c6ef193cffb2"
  },
  {
   "metadata": {
    "ExecuteTime": {
     "end_time": "2024-12-16T07:27:51.908359Z",
     "start_time": "2024-12-16T07:27:51.904503Z"
    }
   },
   "cell_type": "code",
   "source": "\"Pepe the frog\" in release_year_dict",
   "id": "47cba8bb2f345c6",
   "outputs": [
    {
     "data": {
      "text/plain": [
       "True"
      ]
     },
     "execution_count": 7,
     "metadata": {},
     "output_type": "execute_result"
    }
   ],
   "execution_count": 7
  },
  {
   "metadata": {},
   "cell_type": "markdown",
   "source": [
    "we can check if the value is in the dictionary by \"Key\" in dict\n",
    "\n",
    "output is always gonna be true or false"
   ],
   "id": "e096b7bf815dc4e9"
  },
  {
   "metadata": {
    "ExecuteTime": {
     "end_time": "2024-12-16T07:27:51.953486Z",
     "start_time": "2024-12-16T07:27:51.948811Z"
    }
   },
   "cell_type": "code",
   "source": [
    "lang = {\"Ahoj\": \"Hello\", \"Dobré ráno\": \"Good morning\", \"Jožka\": \"Joseph\"}\n",
    "print(lang)\n",
    "lang.clear()\n",
    "lang"
   ],
   "id": "daf42e418414bc68",
   "outputs": [
    {
     "name": "stdout",
     "output_type": "stream",
     "text": [
      "{'Ahoj': 'Hello', 'Dobré ráno': 'Good morning', 'Jožka': 'Joseph'}\n"
     ]
    },
    {
     "data": {
      "text/plain": [
       "{}"
      ]
     },
     "execution_count": 8,
     "metadata": {},
     "output_type": "execute_result"
    }
   ],
   "execution_count": 8
  },
  {
   "metadata": {},
   "cell_type": "markdown",
   "source": "We can clear the dictionary by the dict.clear()",
   "id": "6ddc025c6082437f"
  },
  {
   "metadata": {
    "ExecuteTime": {
     "end_time": "2024-12-16T07:27:52.020969Z",
     "start_time": "2024-12-16T07:27:52.016787Z"
    }
   },
   "cell_type": "code",
   "source": [
    "# We can convert list to the dictionary by calling dict(list1)\n",
    "a = [[\"Ahoj\", \"Hello\"], [\"Mom\", \"Máma\"]]\n",
    "dict_1 = dict(a)\n",
    "print(dict_1)\n",
    "\n",
    "dict_2 = dict(a)\n",
    "print(dict_2)\n",
    "\n",
    "dict_3 = dict(a)\n",
    "print(dict_3)\n",
    "\n",
    "dict_4 = dict(a)\n",
    "print(dict_4)\n",
    "\n",
    "dict_1.clear()\n",
    "dict_2.clear()\n",
    "dict_3.clear()\n",
    "dict_4.clear()"
   ],
   "id": "44076c432eb729d4",
   "outputs": [
    {
     "name": "stdout",
     "output_type": "stream",
     "text": [
      "{'Ahoj': 'Hello', 'Mom': 'Máma'}\n",
      "{'Ahoj': 'Hello', 'Mom': 'Máma'}\n",
      "{'Ahoj': 'Hello', 'Mom': 'Máma'}\n",
      "{'Ahoj': 'Hello', 'Mom': 'Máma'}\n"
     ]
    }
   ],
   "execution_count": 9
  },
  {
   "metadata": {
    "ExecuteTime": {
     "end_time": "2024-12-16T07:27:52.060812Z",
     "start_time": "2024-12-16T07:27:52.054580Z"
    }
   },
   "cell_type": "code",
   "source": [
    "# We can merge several dictionaries by the function update()\n",
    "lang1 = {\"Hallo\":\"Hello\"}\n",
    "lang2 = {\"Ola\": \"Hello\"}\n",
    "print(\"Original list 1\", lang1)\n",
    "print(\"Original list 2\", lang2)\n",
    "lang1.update(lang2)\n",
    "print(\"Updated list 1\", lang1)\n",
    "\n",
    "lang3 = {\"Ola\": \"Hi\"}\n",
    "lang4 = {}\n",
    "lang4.update(lang3)\n",
    "print(\"List 4\", lang4)\n",
    "lang4.update(lang2)\n",
    "print(\"Updated list 4\", lang4)\n",
    "# Here it's important that  value can be represented only once\n",
    "\n",
    "\n",
    "#Copy function here\n",
    "lang5 = lang4.copy()\n",
    "lang5 "
   ],
   "id": "e71bed439ff4c071",
   "outputs": [
    {
     "name": "stdout",
     "output_type": "stream",
     "text": [
      "Original list 1 {'Hallo': 'Hello'}\n",
      "Original list 2 {'Ola': 'Hello'}\n",
      "Updated list 1 {'Hallo': 'Hello', 'Ola': 'Hello'}\n",
      "List 4 {'Ola': 'Hi'}\n",
      "Updated list 4 {'Ola': 'Hello'}\n"
     ]
    },
    {
     "data": {
      "text/plain": [
       "{'Ola': 'Hello'}"
      ]
     },
     "execution_count": 10,
     "metadata": {},
     "output_type": "execute_result"
    }
   ],
   "execution_count": 10
  },
  {
   "metadata": {
    "ExecuteTime": {
     "end_time": "2024-12-16T07:27:52.115665Z",
     "start_time": "2024-12-16T07:27:52.112267Z"
    }
   },
   "cell_type": "code",
   "source": [
    "dict1 = {\"Banana\":20, \"Apple\":34, \"Orange\":12}\n",
    "print(dict1[\"Apple\"])\n",
    "\n",
    "dict2 = dict1.copy()\n",
    "print(dict2[\"Banana\"])"
   ],
   "id": "f9e66794115ec96b",
   "outputs": [
    {
     "name": "stdout",
     "output_type": "stream",
     "text": [
      "34\n",
      "20\n"
     ]
    }
   ],
   "execution_count": 11
  },
  {
   "metadata": {
    "ExecuteTime": {
     "end_time": "2024-12-16T07:27:52.167624Z",
     "start_time": "2024-12-16T07:27:52.163798Z"
    }
   },
   "cell_type": "code",
   "source": [
    "# print(dict1[0])\n",
    "# Doesn't work since the dictionary has no order\n",
    "# If we want to  avoid interuption, we can use get() function\n",
    "# dict.get(key[Value])\n",
    "print(dict1.get(\"Apple\"))\n",
    "print(dict1.get(\"Banana\", 55))\n",
    "print(dict1.get(\"Pig\", \"Not in dictionary\"))\n",
    "print(dict1.get(\"Apple\", 99))\n",
    "print(dict1)"
   ],
   "id": "54128cc4ee9778b4",
   "outputs": [
    {
     "name": "stdout",
     "output_type": "stream",
     "text": [
      "34\n",
      "20\n",
      "Not in dictionary\n",
      "34\n",
      "{'Banana': 20, 'Apple': 34, 'Orange': 12}\n"
     ]
    }
   ],
   "execution_count": 12
  },
  {
   "metadata": {},
   "cell_type": "markdown",
   "source": "",
   "id": "384d959caaf4679a"
  },
  {
   "metadata": {
    "ExecuteTime": {
     "end_time": "2024-12-16T07:27:52.202907Z",
     "start_time": "2024-12-16T07:27:52.197044Z"
    }
   },
   "cell_type": "code",
   "source": [
    "dict1 = {\"Banana\": 20, \"Apple\": 34, \"Orange\": 55}\n",
    "\n",
    "print(dict1)\n",
    "\n",
    "dict1[\"Bacon\"] = 1\n",
    "print(dict1)\n",
    "\n",
    "del(dict1[\"Bacon\"])\n",
    "print(dict1)\n",
    "\n",
    "dict1.clear()\n",
    "print(dict1)\n",
    "#del dict1\n",
    "\n",
    "dict1 = {\"Banana\":20, \"Apple\":34, \"Orange\":12}\n",
    "print(dict1[\"Apple\"])\n",
    "\n",
    "key1 = dict1.keys()\n",
    "value1 = dict1.values()\n",
    "print(key1, value1)\n",
    "\n",
    "key2 = list(dict1.keys())\n",
    "value2 = list(dict1.values())\n",
    "print(key2, value2)\n",
    "print(value2[0],key2[0])\n",
    "print(\"Banana\\n\")\n",
    "\n",
    "# ITems, we can obtain all keys: values\n",
    "item1 = dict1.items()\n",
    "print(item1)\n",
    "item1_L = list(item1)\n",
    "print(item1_L[1][1])\n",
    "print(item1_L[1][0])"
   ],
   "id": "4292255ab0207e49",
   "outputs": [
    {
     "name": "stdout",
     "output_type": "stream",
     "text": [
      "{'Banana': 20, 'Apple': 34, 'Orange': 55}\n",
      "{'Banana': 20, 'Apple': 34, 'Orange': 55, 'Bacon': 1}\n",
      "{'Banana': 20, 'Apple': 34, 'Orange': 55}\n",
      "{}\n",
      "34\n",
      "dict_keys(['Banana', 'Apple', 'Orange']) dict_values([20, 34, 12])\n",
      "['Banana', 'Apple', 'Orange'] [20, 34, 12]\n",
      "20 Banana\n",
      "Banana\n",
      "\n",
      "dict_items([('Banana', 20), ('Apple', 34), ('Orange', 12)])\n",
      "34\n",
      "Apple\n"
     ]
    }
   ],
   "execution_count": 13
  },
  {
   "metadata": {
    "ExecuteTime": {
     "end_time": "2024-12-16T07:27:54.510732Z",
     "start_time": "2024-12-16T07:27:52.243580Z"
    }
   },
   "cell_type": "code",
   "source": [
    "#We want ot allow uset to query different blood type personaliteis from the dictionary\n",
    "# A = introverted / steeady\n",
    "#  B Outgoing / Optimistic\n",
    "# AB Inteligent / natural\n",
    "bloodTypes = {\"A\": [\"Introverted\", \"Steady\"], \"B\":[\"Outgoing\",\"Optimistic\"], \"AB\":[\"Inteligent\",\"natural\"]}\n",
    "userInput = input(\"Please select the blood type you are looking for\")\n",
    "if userInput in bloodTypes:\n",
    "    print(f\"{userInput} is a valid blood type\")\n",
    "    userInput2 = input(\"Please select property you are looking for\")\n",
    "    if userInput2 in bloodTypes[userInput]:\n",
    "        print(f\"the {userInput2} property found\")\n",
    "    else:\n",
    "        print(f\"{userInput2} property not found\")\n",
    "else:\n",
    "    print(f\"{userInput} is not a valid blood type\")"
   ],
   "id": "ca5d81da6144b289",
   "outputs": [
    {
     "name": "stdout",
     "output_type": "stream",
     "text": [
      "5 is not a valid blood type\n"
     ]
    }
   ],
   "execution_count": 14
  },
  {
   "metadata": {},
   "cell_type": "markdown",
   "source": "### QUIZ\n",
   "id": "a972ade146932aef"
  },
  {
   "metadata": {
    "ExecuteTime": {
     "end_time": "2024-12-16T07:27:54.565299Z",
     "start_time": "2024-12-16T07:27:54.562070Z"
    }
   },
   "cell_type": "code",
   "source": [
    " soundtrack_dict = {\"The Bodyguard\": \"1992\", \"Saturday night fever\": \"1977\"}\n",
    "print(soundtrack_dict)"
   ],
   "id": "b895cb28c2a7b217",
   "outputs": [
    {
     "name": "stdout",
     "output_type": "stream",
     "text": [
      "{'The Bodyguard': '1992', 'Saturday night fever': '1977'}\n"
     ]
    }
   ],
   "execution_count": 15
  },
  {
   "metadata": {
    "ExecuteTime": {
     "end_time": "2024-12-16T07:27:54.599584Z",
     "start_time": "2024-12-16T07:27:54.596646Z"
    }
   },
   "cell_type": "code",
   "source": "print(f\"The key from the soundtrack_dict are {soundtrack_dict.keys()}\")",
   "id": "b2fa27d674ef5e00",
   "outputs": [
    {
     "name": "stdout",
     "output_type": "stream",
     "text": [
      "The key from the soundtrack_dict are dict_keys(['The Bodyguard', 'Saturday night fever'])\n"
     ]
    }
   ],
   "execution_count": 16
  },
  {
   "metadata": {
    "ExecuteTime": {
     "end_time": "2024-12-16T07:27:54.654609Z",
     "start_time": "2024-12-16T07:27:54.651419Z"
    }
   },
   "cell_type": "code",
   "source": "print(f\"Values from the soundtrack_dict are: {soundtrack_dict.values()}\")",
   "id": "8bb4e2a9d2ed57c4",
   "outputs": [
    {
     "name": "stdout",
     "output_type": "stream",
     "text": [
      "Values from the soundtrack_dict are: dict_values(['1992', '1977'])\n"
     ]
    }
   ],
   "execution_count": 17
  },
  {
   "metadata": {},
   "cell_type": "markdown",
   "source": "### This is end for the dictionaries",
   "id": "d2d4b3c0f5875d75"
  },
  {
   "metadata": {},
   "cell_type": "markdown",
   "source": [
    "## Sets\n",
    "sets is unique objects, that will automatically remove duplicates. Set is defined by the { }\n",
    "Sets stores nonsequentional data. It uses UNION, INTERSECTION, DIFFERENCE operations."
   ],
   "id": "cad070f71104aac4"
  },
  {
   "metadata": {
    "ExecuteTime": {
     "end_time": "2024-12-16T07:27:54.701088Z",
     "start_time": "2024-12-16T07:27:54.696576Z"
    }
   },
   "cell_type": "code",
   "source": [
    "s = {1,2,3,4,5}\n",
    "print(s)\n",
    "s = set((\"a\",1,\"b\",2))\n",
    "print(s)\n",
    "print(\"SEPARATOR\\n\\n\")\n",
    "s = set([\"Apple\",\"Banana\",\"Apple\"])\n",
    "print(s)\n",
    "print(\"SEPARATOR\\n\\n\")\n",
    "s = set({\"GOOD MORNING\":\"GOOD MORNING\",\"HELLP\":\"HELLP\"})\n",
    "print(s)\n",
    "print(\"SEPARATOR\\n\\n\")\n",
    "s = set(\"racecar\")\n",
    "print(s)"
   ],
   "id": "d5bd3e54fdb23b98",
   "outputs": [
    {
     "name": "stdout",
     "output_type": "stream",
     "text": [
      "{1, 2, 3, 4, 5}\n",
      "{1, 'b', 2, 'a'}\n",
      "SEPARATOR\n",
      "\n",
      "\n",
      "{'Apple', 'Banana'}\n",
      "SEPARATOR\n",
      "\n",
      "\n",
      "{'HELLP', 'GOOD MORNING'}\n",
      "SEPARATOR\n",
      "\n",
      "\n",
      "{'r', 'e', 'a', 'c'}\n"
     ]
    }
   ],
   "execution_count": 18
  },
  {
   "metadata": {
    "ExecuteTime": {
     "end_time": "2024-12-16T07:27:54.815366Z",
     "start_time": "2024-12-16T07:27:54.812037Z"
    }
   },
   "cell_type": "code",
   "source": [
    "set1 = {\"pop\", \"rock\", \"soul\", \"hard rock\", \"rock\", \"R&B\",\"rock\", \"disco\"}\n",
    "set1"
   ],
   "id": "280717e586e604e0",
   "outputs": [
    {
     "data": {
      "text/plain": [
       "{'R&B', 'disco', 'hard rock', 'pop', 'rock', 'soul'}"
      ]
     },
     "execution_count": 19,
     "metadata": {},
     "output_type": "execute_result"
    }
   ],
   "execution_count": 19
  },
  {
   "metadata": {
    "ExecuteTime": {
     "end_time": "2024-12-16T07:36:59.537686Z",
     "start_time": "2024-12-16T07:36:59.532700Z"
    }
   },
   "cell_type": "code",
   "source": [
    "album_list = [\"Michael Jackson\",\"Thriller\", 1982, \"00:42:19\",\"Pop, Rock, R&B\", 46.0, 65, None, 10.0]\n",
    "album_set = set(album_list)\n",
    "print(album_set)\n",
    "\n",
    "A = set([\"Thriller\", \"Back in black\", \"AC/DC\"])\n",
    "A.add(\"Pepe The Frog\")\n",
    "print(A)\n",
    "A.add(\"Pepe The Frog\")\n",
    "print(A)\n",
    "A.remove(\"Pepe The Frog\")\n",
    "print(A)\n",
    "print(\"Pepe gone :(\")\n",
    "\n",
    "print(\"AC/DC\" in A)\n",
    "\n",
    "print(\"Pepe The Frog\" in A)\n",
    "\n",
    "print(\"No pepe :(\")\n",
    "\n",
    "A.add(\"Pepe The Frog\")\n",
    "print(\"Pepe The Frog\" in A)\n",
    "print(\"Pepe back :)\")\n",
    "print(A)"
   ],
   "id": "59bedac39c7fd365",
   "outputs": [
    {
     "name": "stdout",
     "output_type": "stream",
     "text": [
      "{None, 65, 'Michael Jackson', '00:42:19', 10.0, 46.0, 'Thriller', 'Pop, Rock, R&B', 1982}\n",
      "{'Thriller', 'Back in black', 'Pepe The Frog', 'AC/DC'}\n",
      "{'Thriller', 'Back in black', 'Pepe The Frog', 'AC/DC'}\n",
      "{'Thriller', 'Back in black', 'AC/DC'}\n",
      "Pepe gone :(\n",
      "True\n",
      "False\n",
      "No pepe :(\n",
      "True\n",
      "Pepe back :)\n",
      "{'Thriller', 'Back in black', 'Pepe The Frog', 'AC/DC'}\n"
     ]
    }
   ],
   "execution_count": 35
  },
  {
   "metadata": {
    "ExecuteTime": {
     "end_time": "2024-12-16T07:38:32.809935Z",
     "start_time": "2024-12-16T07:38:32.806140Z"
    }
   },
   "cell_type": "code",
   "source": [
    "s2 = set(\"Schwerer Panzerspähwagen Sd. Kfz. 234/2\")\n",
    "print(s2)\n",
    "s2.remove(\"/\")\n",
    "print(s2)\n",
    "s2.add(\"b\")\n",
    "print(s2)"
   ],
   "id": "a0c8d156782b3393",
   "outputs": [
    {
     "name": "stdout",
     "output_type": "stream",
     "text": [
      "{'3', 'z', 'r', '2', 'w', 'd', 'p', '.', 'ä', 'P', '4', 'n', ' ', 'e', 's', 'f', 'h', 'K', '/', 'a', 'S', 'c', 'g'}\n",
      "{'3', 'z', 'r', '2', 'w', 'd', 'p', '.', 'ä', 'P', '4', 'n', ' ', 'e', 's', 'f', 'h', 'K', 'a', 'S', 'c', 'g'}\n",
      "{'3', 'b', 'z', 'r', '2', 'w', 'd', 'p', '.', 'ä', 'P', '4', 'n', ' ', 'e', 's', 'f', 'h', 'K', 'a', 'S', 'c', 'g'}\n"
     ]
    }
   ],
   "execution_count": 37
  },
  {
   "metadata": {
    "ExecuteTime": {
     "end_time": "2024-12-16T07:52:16.239179Z",
     "start_time": "2024-12-16T07:52:16.234073Z"
    }
   },
   "cell_type": "code",
   "source": [
    "album_set1 = set([\"Thriller\",\"AC/DC\",\"Back in black\"])\n",
    "album_set2 = set([\"AC/DC\",\"Back in black\",\"The Dark Side Of The Moon\"])\n",
    "print(album_set1.intersection(album_set2))\n",
    "print(album_set1.union(album_set2))\n",
    "\n",
    "a = set(\"tiger\")\n",
    "b = set(\"bear\")\n",
    "print(a&b)\n",
    "intersection = album_set1 & album_set2\n",
    "print(\"The intersection between albums are\",intersection)\n",
    "\n",
    "differencer = a-b\n",
    "print(\"The difference a-b is\", differencer)\n",
    "print(\"h , u, b\")\n",
    "\n",
    "albumDifference = album_set1 - album_set2\n",
    "print(\"The difference between albums are/is\",albumDifference)\n",
    "albumDifference2 = album_set2 - album_set1\n",
    "print(\"The difference between albums are/is\",albumDifference2)"
   ],
   "id": "7e4ed1db4f7cb60e",
   "outputs": [
    {
     "name": "stdout",
     "output_type": "stream",
     "text": [
      "{'Back in black', 'AC/DC'}\n",
      "{'Thriller', 'Back in black', 'The Dark Side Of The Moon', 'AC/DC'}\n",
      "{'e', 'r'}\n",
      "The intersection between albums are {'Back in black', 'AC/DC'}\n",
      "The difference a-b is {'g', 'i', 't'}\n",
      "h , u, b\n",
      "The difference between albums are/is {'Thriller'}\n",
      "The difference between albums are/is {'The Dark Side Of The Moon'}\n"
     ]
    }
   ],
   "execution_count": 50
  }
 ],
 "metadata": {
  "kernelspec": {
   "display_name": "Python 3",
   "language": "python",
   "name": "python3"
  },
  "language_info": {
   "codemirror_mode": {
    "name": "ipython",
    "version": 2
   },
   "file_extension": ".py",
   "mimetype": "text/x-python",
   "name": "python",
   "nbconvert_exporter": "python",
   "pygments_lexer": "ipython2",
   "version": "2.7.6"
  }
 },
 "nbformat": 4,
 "nbformat_minor": 5
}
