{
 "cells": [
  {
   "metadata": {},
   "cell_type": "markdown",
   "source": "",
   "id": "f1a02fd3f3cff005"
  },
  {
   "cell_type": "code",
   "id": "initial_id",
   "metadata": {
    "collapsed": true,
    "ExecuteTime": {
     "end_time": "2025-01-06T06:19:54.370099Z",
     "start_time": "2025-01-06T06:19:47.035972Z"
    }
   },
   "source": [
    "#What is current date, month and year?\n",
    "#What day of the week is today?\n",
    "#What is this place?\n",
    "#What is your phone number?\n",
    "#How old are you?\n",
    "#Where were you born?\n",
    "#Who is current president?\n",
    "#What's your mothers middle name?\n",
    "#Can you count backwards from 20 in the increment of 3?\n",
    "# 0-2 normal\n",
    "# 3-4 mild\n",
    "# 5-7 severe\n",
    "# else moderate\n",
    "#Each wrong gives error + 1\n",
    "\n",
    "firstQ = input(\"What is current date, month and year?\")\n",
    "secondQ = input(\"What day of the week is today?\")\n",
    "thirdQ = input(\"What is this place?\")\n",
    "fourthQ = input(\"What is your phone number?\")\n",
    "fifthQ = input(\"How old are you?\")\n",
    "sixthQ = input(\"Where were you born?\")\n",
    "seventhQ = input(\"Who is the current president?\")\n",
    "eighthQ = input(\"What's your mothers middle name?\")\n",
    "ninthQ = input(\"Can you count backwards from 20 in the increment of 3?\")\n",
    "\n",
    "ans = [firstQ,secondQ,thirdQ,fourthQ,fifthQ,sixthQ,seventhQ,eighthQ, ninthQ]\n",
    "correctA = [\"text.text.text\",\"text\",\"text\",\"+text\",\"text\",\"text\",\"text text\",\"text\",\"text\"]\n",
    "\n",
    "error = 0\n",
    "for bb in range(len(correctA)):\n",
    "    if correctA[bb] != ans[bb]:\n",
    "        error += 1\n",
    "if error < 3:\n",
    "    print(\"Normal Value\")\n",
    "elif error < 5:\n",
    "    print(\"Mild\")\n",
    "elif error < 8:\n",
    "    print(\"Moderate\")\n",
    "else:\n",
    "    print(\"Severe\")\n",
    "\n"
   ],
   "outputs": [
    {
     "name": "stdout",
     "output_type": "stream",
     "text": [
      "Severe\n"
     ]
    }
   ],
   "execution_count": 6
  },
  {
   "metadata": {
    "ExecuteTime": {
     "end_time": "2025-01-06T06:19:28.552772Z",
     "start_time": "2025-01-06T06:19:28.548976Z"
    }
   },
   "cell_type": "code",
   "source": "",
   "id": "f953ffbfe8a65233",
   "outputs": [
    {
     "name": "stdout",
     "output_type": "stream",
     "text": [
      "9\n"
     ]
    }
   ],
   "execution_count": 5
  }
 ],
 "metadata": {
  "kernelspec": {
   "display_name": "Python 3",
   "language": "python",
   "name": "python3"
  },
  "language_info": {
   "codemirror_mode": {
    "name": "ipython",
    "version": 2
   },
   "file_extension": ".py",
   "mimetype": "text/x-python",
   "name": "python",
   "nbconvert_exporter": "python",
   "pygments_lexer": "ipython2",
   "version": "2.7.6"
  }
 },
 "nbformat": 4,
 "nbformat_minor": 5
}
