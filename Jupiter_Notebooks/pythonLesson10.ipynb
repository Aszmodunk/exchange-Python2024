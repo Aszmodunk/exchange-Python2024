{
 "cells": [
  {
   "cell_type": "code",
   "id": "initial_id",
   "metadata": {
    "collapsed": true,
    "ExecuteTime": {
     "end_time": "2024-12-02T05:18:48.569442Z",
     "start_time": "2024-12-02T05:18:48.565211Z"
    }
   },
   "source": [
    "from webencodings import lookup\n",
    "\n",
    "i = 1\n",
    "while i <10:\n",
    "    print(i)\n",
    "    i += 1\n",
    "else:\n",
    "    print(\"i>10\")"
   ],
   "outputs": [
    {
     "name": "stdout",
     "output_type": "stream",
     "text": [
      "1\n",
      "2\n",
      "3\n",
      "4\n",
      "5\n",
      "6\n",
      "7\n",
      "8\n",
      "9\n",
      "i>10\n"
     ]
    }
   ],
   "execution_count": 1
  },
  {
   "metadata": {
    "ExecuteTime": {
     "end_time": "2024-12-02T05:22:06.868372Z",
     "start_time": "2024-12-02T05:22:06.864897Z"
    }
   },
   "cell_type": "code",
   "source": [
    "i = 1\n",
    "while i <10:\n",
    "    print(i)\n",
    "    i += 1\n",
    "    if i == 5:\n",
    "        break\n",
    "else:\n",
    "    print(\"This line will never be executed :(\")"
   ],
   "id": "c8162f8694149408",
   "outputs": [
    {
     "name": "stdout",
     "output_type": "stream",
     "text": [
      "1\n",
      "2\n",
      "3\n",
      "4\n"
     ]
    }
   ],
   "execution_count": 3
  },
  {
   "metadata": {
    "ExecuteTime": {
     "end_time": "2024-12-02T05:28:01.325461Z",
     "start_time": "2024-12-02T05:28:01.320998Z"
    }
   },
   "cell_type": "code",
   "source": [
    "for a in range(10):\n",
    "    print(a)\n",
    "    if a == 5:\n",
    "        break\n",
    "    a = i+1\n",
    "print(\"This line will be executed :)\")"
   ],
   "id": "1b39036579d19bbb",
   "outputs": [
    {
     "name": "stdout",
     "output_type": "stream",
     "text": [
      "0\n",
      "1\n",
      "2\n",
      "3\n",
      "4\n",
      "5\n",
      "This line will be executed :)\n"
     ]
    }
   ],
   "execution_count": 7
  },
  {
   "metadata": {
    "ExecuteTime": {
     "end_time": "2024-12-02T05:33:20.155101Z",
     "start_time": "2024-12-02T05:33:20.151892Z"
    }
   },
   "cell_type": "code",
   "source": [
    "b = 111\n",
    "for b in range(1,1): #It might look like this should execute, but we need to realise the second argument uses 1 = 0 so we have first argument larger than second one\n",
    "    print(b)\n",
    "else:\n",
    "    print(\"else \", b )"
   ],
   "id": "c3ae8180c31b4348",
   "outputs": [
    {
     "name": "stdout",
     "output_type": "stream",
     "text": [
      "else  111\n"
     ]
    }
   ],
   "execution_count": 13
  },
  {
   "metadata": {
    "ExecuteTime": {
     "start_time": "2024-12-02T05:44:38.515978Z"
    }
   },
   "cell_type": "code",
   "source": [
    "#0857\n",
    "#Login screen\n",
    "import time as t\n",
    "studentId = \"0X1\"\n",
    "pswd = \"0857\"\n",
    "numberOfAttempts = 0\n",
    "\n",
    "\n",
    "\n",
    "while True:\n",
    "    print(\"/---------------------\\\\\")\n",
    "    print(\"Enter your student ID: \\n\")\n",
    "    idInput= input(\"Enter your student ID: \\n\")\n",
    "      \n",
    "    print(\"Enter your password: \\n\")\n",
    "    pwdInput= input(\"Enter your password: \\n\")\n",
    "    print(\"\\\\---------------------/\")\n",
    "    \n",
    "    \n",
    "    if idInput == studentId and pwdInput == pswd:\n",
    "        print(\"Welcome the magnificent one\")\n",
    "        break\n",
    "    else:\n",
    "        print(\"Wrong identification!\\n\")\n",
    "        numberOfAttempts += 1\n",
    "        if numberOfAttempts == 3:\n",
    "            print(\"System locked for 10 minutes\")\n",
    "            for time in range(10):\n",
    "                print(\"Locked for:\", time-10)\n",
    "                t.sleep(1)\n",
    "        continue\n",
    "    "
   ],
   "id": "49ab0563bb4085a8",
   "outputs": [
    {
     "name": "stdout",
     "output_type": "stream",
     "text": [
      "/---------------------\\\n",
      "Enter your student ID: \n",
      "\n",
      "Enter your password: \n",
      "\n",
      "\\---------------------/\n",
      "Wrong identification!\n",
      "\n",
      "/---------------------\\\n",
      "Enter your student ID: \n",
      "\n",
      "Enter your password: \n",
      "\n",
      "\\---------------------/\n",
      "Wrong identification!\n",
      "\n",
      "/---------------------\\\n",
      "Enter your student ID: \n",
      "\n",
      "Enter your password: \n",
      "\n",
      "\\---------------------/\n",
      "Wrong identification!\n",
      "\n",
      "System locked for 10 minutes\n"
     ]
    }
   ],
   "execution_count": null
  },
  {
   "metadata": {},
   "cell_type": "code",
   "outputs": [],
   "execution_count": null,
   "source": "",
   "id": "54d3efcebf3076e2"
  },
  {
   "metadata": {},
   "cell_type": "markdown",
   "source": [
    "Touple\\\\\n",
    "dictionary\n",
    "set"
   ],
   "id": "6c4b05b7b0b04801"
  },
  {
   "metadata": {
    "ExecuteTime": {
     "end_time": "2024-12-02T06:13:06.350032Z",
     "start_time": "2024-12-02T06:13:06.345206Z"
    }
   },
   "cell_type": "code",
   "source": [
    "toupleIs = (1,2,\"12\",\"car\")\n",
    "print(type(toupleIs))\n",
    "\n",
    "listBeLike = [1,2,3,4,5,\"11\"]\n",
    "print(type(listBeLike))\n",
    "\n",
    "for item in listBeLike:\n",
    "    print(f\"In this {type(listBeLike)} we have {item} with {type(item)}\")\n",
    "    \n",
    "print(listBeLike[1:5:2]) #Onwards\n",
    "print(listBeLike[-1::-1]) #And backwards\n",
    "\n",
    "\n",
    "dictionaryBeLike = {10,11,12,13}\n",
    "print(type(dictionaryBeLike))\n",
    "\n",
    "print(dictionaryBeLike, listBeLike, toupleIs)\n",
    "\n"
   ],
   "id": "afa4b84124f7cca2",
   "outputs": [
    {
     "name": "stdout",
     "output_type": "stream",
     "text": [
      "<class 'tuple'>\n",
      "<class 'list'>\n",
      "In this <class 'list'> we have 1 with <class 'int'>\n",
      "In this <class 'list'> we have 2 with <class 'int'>\n",
      "In this <class 'list'> we have 3 with <class 'int'>\n",
      "In this <class 'list'> we have 4 with <class 'int'>\n",
      "In this <class 'list'> we have 5 with <class 'int'>\n",
      "In this <class 'list'> we have 11 with <class 'str'>\n",
      "[2, 4]\n",
      "['11', 5, 4, 3, 2, 1]\n",
      "<class 'set'>\n",
      "{10, 11, 12, 13} [1, 2, 3, 4, 5, '11'] (1, 2, '12', 'car')\n"
     ]
    }
   ],
   "execution_count": 21
  },
  {
   "metadata": {
    "ExecuteTime": {
     "end_time": "2024-12-02T06:46:03.195743Z",
     "start_time": "2024-12-02T06:46:03.187972Z"
    }
   },
   "cell_type": "code",
   "source": [
    "touple1 = (10,11,12,13,13,15,88,54,14,23,11)\n",
    "touple2 = (11,12,13,1,5,4,8,9,10,11,8,13,2)\n",
    "touple3 = touple1 + touple2\n",
    "print(touple3)\n",
    "print(\"3 TO 5\",touple3[3:5])\n",
    "\n",
    "print(sorted(touple3))\n",
    "\n",
    "\n",
    "#Nested touplest\n",
    "\n",
    "touple4 = (1,2,touple1, 13, \"123\", touple2)\n",
    "print(touple4)\n",
    "\n",
    "\n",
    "nested = (1,2,(\"A\",\"B\",\"C\"),(3,4),(\"disco\",(\"1\",\"3\")))\n",
    "for i in range(len(nested)):\n",
    "    print(\"The index\",i ,\"in list nested has value,\",nested[i])\n",
    "    \n",
    "print(\"\\n\\n\\n\\n\\n\")\n",
    "\n",
    "\n",
    "print(\"Value of nested in position 2 0 is \",nested[2][0] )\n",
    "print(\"Value of nested in position 2 1 is \",nested[2][1] )\n",
    "print(\"Value of nested in position 2 2 is \",nested[2][2] )\n",
    "print(\"etc.\")\n",
    "print(\"\\n\\n\\n\\n\\n\")\n",
    "print(\"Last letter of disco is\",nested[4][0][-1])\n",
    "\n",
    "print(nested[4][1][0])\n",
    "\n",
    "\n",
    "\n",
    "#QUIZ IS HERE\n",
    "#QUIZ IS HERE\n",
    "#QUIZ IS HERE\n",
    "#QUIZ IS HERE\n",
    "#QUIZ IS HERE\n",
    "#QUIZ IS HERE\n",
    "#QUIZ IS HERE\n",
    "#QUIZ IS HERE\n",
    "#QUIZ IS HERE\n",
    "#QUIZ IS HERE\n",
    "#QUIZ IS HERE\n",
    "#QUIZ IS HERE\n",
    "#QUIZ IS HERE\n",
    "#QUIZ IS HERE\n",
    "#QUIZ IS HERE\n",
    "#QUIZ IS HERE\n",
    "#QUIZ IS HERE\n",
    "for i in range(10):\n",
    "    print(\"PRACTICE\\n\")\n",
    "genres_tuple =(\"pop\",\"rock\",\"metal\",\"techno\",\"etc\",\"martian music\", \"Disco\",\"another genre\", \"I need long enough list\", \"Powermetal\")\n",
    "print(\"lenght of the tuple is\",len(genres_tuple)) #Lenght of the touple\n",
    "\n",
    "\n",
    "lenghtofIt = 0\n",
    "for i in genres_tuple:\n",
    "    lenghtofIt = lenghtofIt + 1\n",
    "print(lenghtofIt)\n",
    "\n",
    "for i in range(lenghtofIt):\n",
    "    print(genres_tuple[i])\n",
    "    \n",
    "print(genres_tuple[3])\n",
    "print(\"How to access index 3,4,5\")\n",
    "print(genres_tuple[3:6])\n",
    "print(\"First two elements\")\n",
    "print(genres_tuple[:2])\n",
    "position = 0\n",
    "for i in genres_tuple:\n",
    "    recon = i.lower()\n",
    "    if recon == \"disco\":\n",
    "        print(position)\n",
    "    position = position + 1\n",
    "genres_tuple.index(\"Disco\")\n",
    "\n",
    "print(\"generate sorted list:\")\n",
    "C_tuple=(-5,1,-3)\n",
    "print(sorted(C_tuple))"
   ],
   "id": "5a21db4bf49b2619",
   "outputs": [
    {
     "name": "stdout",
     "output_type": "stream",
     "text": [
      "(10, 11, 12, 13, 13, 15, 88, 54, 14, 23, 11, 11, 12, 13, 1, 5, 4, 8, 9, 10, 11, 8, 13, 2)\n",
      "3 TO 5 (13, 13)\n",
      "[1, 2, 4, 5, 8, 8, 9, 10, 10, 11, 11, 11, 11, 12, 12, 13, 13, 13, 13, 14, 15, 23, 54, 88]\n",
      "(1, 2, (10, 11, 12, 13, 13, 15, 88, 54, 14, 23, 11), 13, '123', (11, 12, 13, 1, 5, 4, 8, 9, 10, 11, 8, 13, 2))\n",
      "The index 0 in list nested has value, 1\n",
      "The index 1 in list nested has value, 2\n",
      "The index 2 in list nested has value, ('A', 'B', 'C')\n",
      "The index 3 in list nested has value, (3, 4)\n",
      "The index 4 in list nested has value, ('disco', ('1', '3'))\n",
      "\n",
      "\n",
      "\n",
      "\n",
      "\n",
      "\n",
      "Value of nested in position 2 0 is  A\n",
      "Value of nested in position 2 1 is  B\n",
      "Value of nested in position 2 2 is  C\n",
      "etc.\n",
      "\n",
      "\n",
      "\n",
      "\n",
      "\n",
      "\n",
      "Last letter of disco is o\n",
      "1\n",
      "PRACTICE\n",
      "\n",
      "PRACTICE\n",
      "\n",
      "PRACTICE\n",
      "\n",
      "PRACTICE\n",
      "\n",
      "PRACTICE\n",
      "\n",
      "PRACTICE\n",
      "\n",
      "PRACTICE\n",
      "\n",
      "PRACTICE\n",
      "\n",
      "PRACTICE\n",
      "\n",
      "PRACTICE\n",
      "\n",
      "lenght of the tuple is 10\n",
      "10\n",
      "pop\n",
      "rock\n",
      "metal\n",
      "techno\n",
      "etc\n",
      "martian music\n",
      "Disco\n",
      "another genre\n",
      "I need long enough list\n",
      "Powermetal\n",
      "techno\n",
      "How to access index 3,4,5\n",
      "('techno', 'etc', 'martian music')\n",
      "First two elements\n",
      "('pop', 'rock')\n",
      "6\n",
      "generate sorted list:\n",
      "[-5, -3, 1]\n"
     ]
    }
   ],
   "execution_count": 63
  },
  {
   "metadata": {
    "ExecuteTime": {
     "end_time": "2024-12-02T06:53:08.114049Z",
     "start_time": "2024-12-02T06:53:08.109951Z"
    }
   },
   "cell_type": "code",
   "source": [
    "tuple1 = (1,2,3,4,5,6)\n",
    "list1 = list(touple1)\n",
    "list1.append(7)\n",
    "list1[0] = 99\n",
    "print(list1)\n",
    "\n",
    "list2 = list1\n",
    "tuple2 = tuple(list1)\n",
    "#tuple2[0]=1 As we all know this doesn't work\n",
    "#tuple2.append() Neither does this\n",
    "\n"
   ],
   "id": "d07e8efe32a205c8",
   "outputs": [
    {
     "name": "stdout",
     "output_type": "stream",
     "text": [
      "[99, 11, 12, 13, 13, 15, 88, 54, 14, 23, 11, 7]\n"
     ]
    }
   ],
   "execution_count": 69
  },
  {
   "metadata": {},
   "cell_type": "markdown",
   "source": "### Lists",
   "id": "e436c6424c8b9635"
  },
  {
   "metadata": {
    "ExecuteTime": {
     "end_time": "2024-12-02T07:37:46.984740Z",
     "start_time": "2024-12-02T07:37:46.977530Z"
    }
   },
   "cell_type": "code",
   "source": [
    "mylist = [\"Hello\",\"I\",\"There\",\"Have\",\"Ah\",\"The\",\"General\",\"Highghround\"]\n",
    "mylist.append(\"Kenobi\")\n",
    "print(mylist)\n",
    "print(mylist[::2])\n",
    "print(mylist[1::2])\n",
    "\n",
    "for i in range(len(mylist)):\n",
    "    print(\"For index\",i, \"We get\", mylist[i],\"And for index\",i*-1,\"We get\", mylist[i*-1])\n",
    "    \n",
    "nestedList = mylist\n",
    "#Lists are referenced between one and other, they are identical, one change to the first one is change for the other one too.\n",
    "#We can prevent to that by adding [:]\n",
    "nestedList.append((\"Wookies\", \"Jungle\"))\n",
    "nestedList.append([\"Han solo\",\"Chubaka\"])\n",
    "print(nestedList)\n",
    "\n",
    "#Fruther list manipulation\n",
    "mylist.extend([\"Mandalorians\",\"Big Dakka.\"])\n",
    "print(mylist)\n",
    "\n",
    "#list.append() Discussed above\n",
    "#Reminder - Append takes values as literars, so if we append [Things,like,this] a whole list will be appended, not like in extend function!\n",
    "\n",
    "mylist[10][0] = \"Frozen Han Solo\"\n",
    "print(mylist)\n",
    "print(len(mylist))\n",
    "del(mylist[12])\n",
    "print(mylist)\n",
    "\"Anakin! is Darth Wader\".split(\"!\")"
   ],
   "id": "518d834f99e93417",
   "outputs": [
    {
     "name": "stdout",
     "output_type": "stream",
     "text": [
      "['Hello', 'I', 'There', 'Have', 'Ah', 'The', 'General', 'Highghround', 'Kenobi']\n",
      "['Hello', 'There', 'Ah', 'General', 'Kenobi']\n",
      "['I', 'Have', 'The', 'Highghround']\n",
      "For index 0 We get Hello And for index 0 We get Hello\n",
      "For index 1 We get I And for index -1 We get Kenobi\n",
      "For index 2 We get There And for index -2 We get Highghround\n",
      "For index 3 We get Have And for index -3 We get General\n",
      "For index 4 We get Ah And for index -4 We get The\n",
      "For index 5 We get The And for index -5 We get Ah\n",
      "For index 6 We get General And for index -6 We get Have\n",
      "For index 7 We get Highghround And for index -7 We get There\n",
      "For index 8 We get Kenobi And for index -8 We get I\n",
      "['Hello', 'I', 'There', 'Have', 'Ah', 'The', 'General', 'Highghround', 'Kenobi', ('Wookies', 'Jungle'), ['Han solo', 'Chubaka']]\n",
      "['Hello', 'I', 'There', 'Have', 'Ah', 'The', 'General', 'Highghround', 'Kenobi', ('Wookies', 'Jungle'), ['Han solo', 'Chubaka'], 'Mandalorians', 'Big Dakka.']\n",
      "['Hello', 'I', 'There', 'Have', 'Ah', 'The', 'General', 'Highghround', 'Kenobi', ('Wookies', 'Jungle'), ['Frozen Han Solo', 'Chubaka'], 'Mandalorians', 'Big Dakka.']\n",
      "13\n",
      "['Hello', 'I', 'There', 'Have', 'Ah', 'The', 'General', 'Highghround', 'Kenobi', ('Wookies', 'Jungle'), ['Frozen Han Solo', 'Chubaka'], 'Mandalorians']\n"
     ]
    },
    {
     "data": {
      "text/plain": [
       "['Anakin', ' is Darth Wader']"
      ]
     },
     "execution_count": 102,
     "metadata": {},
     "output_type": "execute_result"
    }
   ],
   "execution_count": 102
  },
  {
   "metadata": {},
   "cell_type": "markdown",
   "source": "### QUIZ",
   "id": "7137692682a49a01"
  },
  {
   "metadata": {
    "ExecuteTime": {
     "end_time": "2024-12-02T07:41:02.598259Z",
     "start_time": "2024-12-02T07:41:02.594012Z"
    }
   },
   "cell_type": "code",
   "source": [
    "a_list = [1,\"hello\",[1,2,3],True]\n",
    "a_list"
   ],
   "id": "f75281d2fc66fa7e",
   "outputs": [
    {
     "data": {
      "text/plain": [
       "[1, 'hello', [1, 2, 3], True]"
      ]
     },
     "execution_count": 104,
     "metadata": {},
     "output_type": "execute_result"
    }
   ],
   "execution_count": 104
  },
  {
   "metadata": {
    "ExecuteTime": {
     "end_time": "2024-12-02T07:41:23.785918Z",
     "start_time": "2024-12-02T07:41:23.782081Z"
    }
   },
   "cell_type": "code",
   "source": "a_list[1]",
   "id": "6e3a991301c6bf07",
   "outputs": [
    {
     "data": {
      "text/plain": [
       "'hello'"
      ]
     },
     "execution_count": 105,
     "metadata": {},
     "output_type": "execute_result"
    }
   ],
   "execution_count": 105
  },
  {
   "metadata": {
    "ExecuteTime": {
     "end_time": "2024-12-02T07:43:01.598024Z",
     "start_time": "2024-12-02T07:43:01.593561Z"
    }
   },
   "cell_type": "code",
   "source": "a_list[1:40]",
   "id": "c9f8f0d7f0a6dcca",
   "outputs": [
    {
     "data": {
      "text/plain": [
       "['hello', [1, 2, 3], True]"
      ]
     },
     "execution_count": 107,
     "metadata": {},
     "output_type": "execute_result"
    }
   ],
   "execution_count": 107
  },
  {
   "metadata": {
    "ExecuteTime": {
     "end_time": "2024-12-02T07:45:52.411746Z",
     "start_time": "2024-12-02T07:45:52.404848Z"
    }
   },
   "cell_type": "code",
   "source": [
    "A = [1,\"A\"]\n",
    "B = [2,1,\"d\"]\n",
    "C = A + B\n",
    "C"
   ],
   "id": "11ffa7f44be1d073",
   "outputs": [
    {
     "data": {
      "text/plain": [
       "[1, 'A', 2, 1, 'd']"
      ]
     },
     "execution_count": 108,
     "metadata": {},
     "output_type": "execute_result"
    }
   ],
   "execution_count": 108
  },
  {
   "metadata": {},
   "cell_type": "code",
   "outputs": [],
   "execution_count": null,
   "source": "",
   "id": "b707e62cccefc691"
  },
  {
   "metadata": {},
   "cell_type": "markdown",
   "source": "## PRacitce",
   "id": "ccfe327a482ca716"
  },
  {
   "metadata": {
    "ExecuteTime": {
     "end_time": "2024-12-02T07:50:43.600664Z",
     "start_time": "2024-12-02T07:50:43.595037Z"
    }
   },
   "cell_type": "code",
   "source": [
    "scores = [85, 79, 93]\n",
    "subjects = [\"Chinese\", \"Math\", \"English\"]\n",
    "for i in range(len(scores)):\n",
    "    print(\"Student achieved\",scores[i], \"in subject\",subjects[i])"
   ],
   "id": "3fb9a78ccd65450f",
   "outputs": [
    {
     "name": "stdout",
     "output_type": "stream",
     "text": [
      "Student achieved 85 in subject Chinese\n",
      "Student achieved 79 in subject Math\n",
      "Student achieved 93 in subject English\n"
     ]
    }
   ],
   "execution_count": 109
  }
 ],
 "metadata": {
  "kernelspec": {
   "display_name": "Python 3",
   "language": "python",
   "name": "python3"
  },
  "language_info": {
   "codemirror_mode": {
    "name": "ipython",
    "version": 2
   },
   "file_extension": ".py",
   "mimetype": "text/x-python",
   "name": "python",
   "nbconvert_exporter": "python",
   "pygments_lexer": "ipython2",
   "version": "2.7.6"
  }
 },
 "nbformat": 4,
 "nbformat_minor": 5
}
