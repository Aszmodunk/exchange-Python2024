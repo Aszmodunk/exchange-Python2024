{
 "cells": [
  {
   "metadata": {},
   "cell_type": "markdown",
   "source": [
    "## For loops \n",
    "\n",
    "'for (variable in a sequence)'"
   ],
   "id": "44fe47a03150e477"
  },
  {
   "metadata": {},
   "cell_type": "code",
   "source": [
    "\n",
    "from stringprep import in_table_b1\n",
    "\n",
    "for i in range(0,10):\n",
    "    print(i,\")\\t Hello\")"
   ],
   "id": "e019a5c29add6b9a",
   "outputs": [],
   "execution_count": null
  },
  {
   "metadata": {},
   "cell_type": "code",
   "source": [
    "print(list(range(3)))\n",
    "for i in range(3):\n",
    "    print(i, end =\" * \")"
   ],
   "id": "7aa18d09c52a5477",
   "outputs": [],
   "execution_count": null
  },
  {
   "metadata": {},
   "cell_type": "code",
   "source": [
    "a = input(\"ENTER POSITIVE NUMBER: \")\n",
    "a = int(a)\n",
    "if a > 0:\n",
    "    for i in range(1,a+1):\n",
    "        print(i, end=\" \")\n",
    "else:\n",
    "     print(\"Please provide positive number\")\n",
    "        \n",
    "    \n",
    "    "
   ],
   "id": "7c2c11b58c74e23e",
   "outputs": [],
   "execution_count": null
  },
  {
   "metadata": {},
   "cell_type": "code",
   "source": [
    "for i in range(2,8):\n",
    "    print(\"1) The value of i is \",i)\n",
    "\n",
    "    for c in range(2,8,3):\n",
    "        print(\"2) The value of c is \",c)"
   ],
   "id": "d7733e537ea2235d",
   "outputs": [],
   "execution_count": null
  },
  {
   "metadata": {},
   "cell_type": "code",
   "source": [
    "#Pracitce 2\n",
    "a = input(\"ENTER POSITIVE NUMBER: \")\n",
    "a = int(a)\n",
    "if a > 0:\n",
    "    for i in range(a):\n",
    "        print(i+1, end=\" \")\n",
    "    print(\"||\")\n",
    "    for i in range(1,a+1):\n",
    "        print(i, end=\" \")\n",
    "    print(\"||\")    \n",
    "    if a > 0:\n",
    "        for i in range(1,a+1,1):\n",
    "            print(i, end=\" \")\n",
    "    print(\"||\")\n",
    "    \n",
    "    \n",
    "else:\n",
    "    print(\"Please provide positive number\")\n",
    "\n",
    "        "
   ],
   "id": "b39264ee1c41ec9f",
   "outputs": [],
   "execution_count": null
  },
  {
   "metadata": {},
   "cell_type": "code",
   "source": [
    "for x in range (0,10):\n",
    "    print(x,end=\" \")\n",
    "print(\"||\")    \n",
    "for x in range(0,10,2):\n",
    "    print(x,end=\" \")\n",
    "print(\"||\")\n",
    "for x in range(10,0,-1):\n",
    "    print(x,end=\" \")\n",
    "print(\"||\")    "
   ],
   "id": "757e8bf0c03aa91f",
   "outputs": [],
   "execution_count": null
  },
  {
   "metadata": {},
   "cell_type": "code",
   "source": [
    "abc = input(\"ENTER POSITIVE NUMBER: \")\n",
    "abc = int(abc)\n",
    "if abc > 0:\n",
    "    for i in range(1,abc,2):\n",
    "        print(i+1, end=\" \")\n",
    "    print(\"\\n\")\n",
    "    \n",
    "    for i in range(2,abc,2):\n",
    "        print(i, end=\" \")\n",
    "    print(\"\\n\")\n",
    "    \n",
    "    for i in range(1,abc,2):\n",
    "        if i%2==0:\n",
    "            print(i, end=\" \")\n",
    "else:\n",
    "    print(\"Please provide positive number\")\n",
    "    \n"
   ],
   "id": "6e8fb60138ebca78",
   "outputs": [],
   "execution_count": null
  },
  {
   "metadata": {
    "ExecuteTime": {
     "end_time": "2024-11-11T07:19:01.341520Z",
     "start_time": "2024-11-11T07:18:56.656092Z"
    }
   },
   "cell_type": "code",
   "source": [
    "first_number = input(\"ENTER POSITIVE NUMBER: \")\n",
    "second_number = input(\"ENTER POSITIVE NUMBER: \")\n",
    "increment_number = input(\"enter increment number: \")\n",
    "\n",
    "first_number = int(first_number)\n",
    "second_number = int(second_number)\n",
    "increment_number = int(increment_number)\n",
    "\n",
    "a = 0\n",
    "if first_number > 0 and increment_number >0: \n",
    "    for i in range(first_number,second_number+1,increment_number):\n",
    "        print(i, end=\" \")\n",
    "        a += i\n",
    "    print(\"\\nSum of nubmers is: \",a)\n",
    "else:\n",
    "    print(\"Numbers must be positive.))\")"
   ],
   "id": "d9fe503bb4a559f1",
   "outputs": [
    {
     "name": "stdout",
     "output_type": "stream",
     "text": [
      "\n",
      "Sum of nubmers is:  0\n"
     ]
    }
   ],
   "execution_count": 76
  },
  {
   "metadata": {
    "ExecuteTime": {
     "end_time": "2024-11-11T07:23:37.086237Z",
     "start_time": "2024-11-11T07:23:37.081799Z"
    }
   },
   "cell_type": "code",
   "source": [
    "m = 0\n",
    "for i in range(1,11):\n",
    "    print(\"LVL 1 \",i)\n",
    "    for j in range(1,11):\n",
    "        print(\"LVL 2 \",j)\n",
    "        m += 1\n",
    "        \n",
    "print(m)"
   ],
   "id": "d9400f205daa7ed6",
   "outputs": [
    {
     "name": "stdout",
     "output_type": "stream",
     "text": [
      "LVL 1  1\n",
      "LVL 2  1\n",
      "LVL 2  2\n",
      "LVL 2  3\n",
      "LVL 2  4\n",
      "LVL 2  5\n",
      "LVL 2  6\n",
      "LVL 2  7\n",
      "LVL 2  8\n",
      "LVL 2  9\n",
      "LVL 2  10\n",
      "LVL 1  2\n",
      "LVL 2  1\n",
      "LVL 2  2\n",
      "LVL 2  3\n",
      "LVL 2  4\n",
      "LVL 2  5\n",
      "LVL 2  6\n",
      "LVL 2  7\n",
      "LVL 2  8\n",
      "LVL 2  9\n",
      "LVL 2  10\n",
      "LVL 1  3\n",
      "LVL 2  1\n",
      "LVL 2  2\n",
      "LVL 2  3\n",
      "LVL 2  4\n",
      "LVL 2  5\n",
      "LVL 2  6\n",
      "LVL 2  7\n",
      "LVL 2  8\n",
      "LVL 2  9\n",
      "LVL 2  10\n",
      "LVL 1  4\n",
      "LVL 2  1\n",
      "LVL 2  2\n",
      "LVL 2  3\n",
      "LVL 2  4\n",
      "LVL 2  5\n",
      "LVL 2  6\n",
      "LVL 2  7\n",
      "LVL 2  8\n",
      "LVL 2  9\n",
      "LVL 2  10\n",
      "LVL 1  5\n",
      "LVL 2  1\n",
      "LVL 2  2\n",
      "LVL 2  3\n",
      "LVL 2  4\n",
      "LVL 2  5\n",
      "LVL 2  6\n",
      "LVL 2  7\n",
      "LVL 2  8\n",
      "LVL 2  9\n",
      "LVL 2  10\n",
      "LVL 1  6\n",
      "LVL 2  1\n",
      "LVL 2  2\n",
      "LVL 2  3\n",
      "LVL 2  4\n",
      "LVL 2  5\n",
      "LVL 2  6\n",
      "LVL 2  7\n",
      "LVL 2  8\n",
      "LVL 2  9\n",
      "LVL 2  10\n",
      "LVL 1  7\n",
      "LVL 2  1\n",
      "LVL 2  2\n",
      "LVL 2  3\n",
      "LVL 2  4\n",
      "LVL 2  5\n",
      "LVL 2  6\n",
      "LVL 2  7\n",
      "LVL 2  8\n",
      "LVL 2  9\n",
      "LVL 2  10\n",
      "LVL 1  8\n",
      "LVL 2  1\n",
      "LVL 2  2\n",
      "LVL 2  3\n",
      "LVL 2  4\n",
      "LVL 2  5\n",
      "LVL 2  6\n",
      "LVL 2  7\n",
      "LVL 2  8\n",
      "LVL 2  9\n",
      "LVL 2  10\n",
      "LVL 1  9\n",
      "LVL 2  1\n",
      "LVL 2  2\n",
      "LVL 2  3\n",
      "LVL 2  4\n",
      "LVL 2  5\n",
      "LVL 2  6\n",
      "LVL 2  7\n",
      "LVL 2  8\n",
      "LVL 2  9\n",
      "LVL 2  10\n",
      "LVL 1  10\n",
      "LVL 2  1\n",
      "LVL 2  2\n",
      "LVL 2  3\n",
      "LVL 2  4\n",
      "LVL 2  5\n",
      "LVL 2  6\n",
      "LVL 2  7\n",
      "LVL 2  8\n",
      "LVL 2  9\n",
      "LVL 2  10\n",
      "100\n"
     ]
    }
   ],
   "execution_count": 78
  },
  {
   "metadata": {
    "ExecuteTime": {
     "end_time": "2024-11-11T07:29:14.006683Z",
     "start_time": "2024-11-11T07:29:14.002850Z"
    }
   },
   "cell_type": "code",
   "source": [
    "m = 0\n",
    "i = 0\n",
    "\n",
    "for i in range(5):\n",
    "    m += 1\n",
    "    print(f\"[lvl1]This is {i+1} iteration\\n\")\n",
    "    n = 0\n",
    "    for j in range(i):\n",
    "        n = n+1\n",
    "        print(f\"[lvl2] This is the {j+1} iteration \\n\")"
   ],
   "id": "a41cc45a56b5684b",
   "outputs": [
    {
     "name": "stdout",
     "output_type": "stream",
     "text": [
      "[lvl1]This is 1 iteration\n",
      "\n",
      "[lvl1]This is 2 iteration\n",
      "\n",
      "[lvl2] This is the 1 iteration \n",
      "\n",
      "[lvl1]This is 3 iteration\n",
      "\n",
      "[lvl2] This is the 1 iteration \n",
      "\n",
      "[lvl2] This is the 2 iteration \n",
      "\n",
      "[lvl1]This is 4 iteration\n",
      "\n",
      "[lvl2] This is the 1 iteration \n",
      "\n",
      "[lvl2] This is the 2 iteration \n",
      "\n",
      "[lvl2] This is the 3 iteration \n",
      "\n",
      "[lvl1]This is 5 iteration\n",
      "\n",
      "[lvl2] This is the 1 iteration \n",
      "\n",
      "[lvl2] This is the 2 iteration \n",
      "\n",
      "[lvl2] This is the 3 iteration \n",
      "\n",
      "[lvl2] This is the 4 iteration \n",
      "\n"
     ]
    }
   ],
   "execution_count": 82
  },
  {
   "metadata": {
    "ExecuteTime": {
     "end_time": "2024-11-11T07:36:26.241080Z",
     "start_time": "2024-11-11T07:36:26.236120Z"
    }
   },
   "cell_type": "code",
   "source": [
    "mytext = \"####\"\n",
    "for i in range(10):\n",
    "    print(mytext)\n",
    "print(\"ENDO OF MY TEXT1\\n\")\n",
    "\n",
    "mychar = \"#\"\n",
    "for i in range(10):\n",
    "    print(\"\")\n",
    "    for a in range(4):\n",
    "        print(mychar, end=\"\")"
   ],
   "id": "487867bfbf86b760",
   "outputs": [
    {
     "name": "stdout",
     "output_type": "stream",
     "text": [
      "####\n",
      "####\n",
      "####\n",
      "####\n",
      "####\n",
      "####\n",
      "####\n",
      "####\n",
      "####\n",
      "####\n",
      "ENDO OF MY TEXT1\n",
      "\n",
      "\n",
      "####\n",
      "####\n",
      "####\n",
      "####\n",
      "####\n",
      "####\n",
      "####\n",
      "####\n",
      "####\n",
      "####"
     ]
    }
   ],
   "execution_count": 91
  },
  {
   "metadata": {
    "ExecuteTime": {
     "end_time": "2024-11-18T05:17:57.938666Z",
     "start_time": "2024-11-18T05:17:55.150085Z"
    }
   },
   "cell_type": "code",
   "source": [
    "rng=input(\"ENTER RANGE: \")\n",
    "rng=int(rng)\n",
    "x = 0\n",
    "for i in range(rng):\n",
    "    print(i*\"#\")\n",
    "\n",
    "for j in range(rng,0,-1):\n",
    "    print(j*\"#\")\n"
   ],
   "id": "ecff331795394076",
   "outputs": [
    {
     "name": "stdout",
     "output_type": "stream",
     "text": [
      "\n",
      "#\n",
      "##\n",
      "###\n",
      "####\n",
      "#####\n",
      "######\n",
      "#######\n",
      "########\n",
      "#########\n",
      "##########\n",
      "#########\n",
      "########\n",
      "#######\n",
      "######\n",
      "#####\n",
      "####\n",
      "###\n",
      "##\n",
      "#\n"
     ]
    }
   ],
   "execution_count": 1
  },
  {
   "metadata": {},
   "cell_type": "markdown",
   "source": "# Lesson 8",
   "id": "b01652f4ee10ce9a"
  },
  {
   "metadata": {
    "ExecuteTime": {
     "end_time": "2024-11-18T05:22:20.937391Z",
     "start_time": "2024-11-18T05:22:16.496541Z"
    }
   },
   "cell_type": "code",
   "source": [
    "#Lesson 8 here\n",
    "\n",
    "rng=input(\"ENTER RANGE: \")\n",
    "rng=int(rng)\n",
    "x = 0\n",
    "for i in range(rng):\n",
    "    print(\"\")\n",
    "    for j in range(i+1):\n",
    "        print(j+1,end=\"\")\n",
    "\n"
   ],
   "id": "b35b7e5bf5819af4",
   "outputs": [
    {
     "name": "stdout",
     "output_type": "stream",
     "text": [
      "\n",
      "1\n",
      "12\n",
      "123\n",
      "1234\n",
      "12345\n",
      "123456\n",
      "1234567\n",
      "12345678\n",
      "123456789\n",
      "12345678910\n",
      "1234567891011\n",
      "123456789101112\n",
      "12345678910111213\n",
      "1234567891011121314\n",
      "123456789101112131415"
     ]
    }
   ],
   "execution_count": 3
  },
  {
   "metadata": {
    "ExecuteTime": {
     "end_time": "2024-11-18T05:28:59.089894Z",
     "start_time": "2024-11-18T05:28:59.086100Z"
    }
   },
   "cell_type": "code",
   "source": [
    "\n",
    "for j in range(10,0,-1):\n",
    "    print(j*\"#\")\n",
    "    \n",
    "for j1 in range(10,0,-1):\n",
    "    for j2 in range(0,j2,1):\n",
    "        print(j2*\"#\")"
   ],
   "id": "1453ee47b21f8156",
   "outputs": [
    {
     "name": "stdout",
     "output_type": "stream",
     "text": [
      "##########\n",
      "#########\n",
      "########\n",
      "#######\n",
      "######\n",
      "#####\n",
      "####\n",
      "###\n",
      "##\n",
      "#\n",
      "\n"
     ]
    }
   ],
   "execution_count": 11
  },
  {
   "metadata": {
    "ExecuteTime": {
     "end_time": "2024-11-18T05:32:08.831284Z",
     "start_time": "2024-11-18T05:32:06.298394Z"
    }
   },
   "cell_type": "code",
   "source": [
    "rng=input(\"ENTER RANGE: \")\n",
    "rng=int(rng)\n",
    "\n",
    "for i in range(rng,0,-1):\n",
    "    print(\"\")\n",
    "    for j in range(i):\n",
    "        print(j+1,end=\"\")\n",
    "\n",
    "\n",
    "for i2 in range(rng,0,-1):\n",
    "    print(i)"
   ],
   "id": "533de15d17fb4104",
   "outputs": [
    {
     "name": "stdout",
     "output_type": "stream",
     "text": [
      "\n",
      "123456789101112\n",
      "1234567891011\n",
      "12345678910\n",
      "123456789\n",
      "12345678\n",
      "1234567\n",
      "123456\n",
      "12345\n",
      "1234\n",
      "123\n",
      "12\n",
      "112\n",
      "11\n",
      "10\n",
      "9\n",
      "8\n",
      "7\n",
      "6\n",
      "5\n",
      "4\n",
      "3\n",
      "2\n",
      "1\n"
     ]
    }
   ],
   "execution_count": 16
  },
  {
   "metadata": {
    "ExecuteTime": {
     "end_time": "2024-11-18T05:49:01.000016Z",
     "start_time": "2024-11-18T05:49:00.995776Z"
    }
   },
   "cell_type": "code",
   "source": [
    "for a3 in range(1,10):\n",
    "    for a4 in range(2,10):\n",
    "        c = a3 * a4\n",
    "        print(f\"{a3}*{a4}={c}\", end= \"\\t\")\n",
    "        if a4 == 9:\n",
    "            print(\"\\n\")\n",
    "        "
   ],
   "id": "91525f6a173e3904",
   "outputs": [
    {
     "name": "stdout",
     "output_type": "stream",
     "text": [
      "1*2=2\t1*3=3\t1*4=4\t1*5=5\t1*6=6\t1*7=7\t1*8=8\t1*9=9\t\n",
      "\n",
      "2*2=4\t2*3=6\t2*4=8\t2*5=10\t2*6=12\t2*7=14\t2*8=16\t2*9=18\t\n",
      "\n",
      "3*2=6\t3*3=9\t3*4=12\t3*5=15\t3*6=18\t3*7=21\t3*8=24\t3*9=27\t\n",
      "\n",
      "4*2=8\t4*3=12\t4*4=16\t4*5=20\t4*6=24\t4*7=28\t4*8=32\t4*9=36\t\n",
      "\n",
      "5*2=10\t5*3=15\t5*4=20\t5*5=25\t5*6=30\t5*7=35\t5*8=40\t5*9=45\t\n",
      "\n",
      "6*2=12\t6*3=18\t6*4=24\t6*5=30\t6*6=36\t6*7=42\t6*8=48\t6*9=54\t\n",
      "\n",
      "7*2=14\t7*3=21\t7*4=28\t7*5=35\t7*6=42\t7*7=49\t7*8=56\t7*9=63\t\n",
      "\n",
      "8*2=16\t8*3=24\t8*4=32\t8*5=40\t8*6=48\t8*7=56\t8*8=64\t8*9=72\t\n",
      "\n",
      "9*2=18\t9*3=27\t9*4=36\t9*5=45\t9*6=54\t9*7=63\t9*8=72\t9*9=81\t\n",
      "\n"
     ]
    }
   ],
   "execution_count": 35
  },
  {
   "metadata": {
    "ExecuteTime": {
     "end_time": "2024-11-18T05:47:30.375707Z",
     "start_time": "2024-11-18T05:47:26.623782Z"
    }
   },
   "cell_type": "code",
   "source": [
    "rng=input(\"ENTER RANGE: \")\n",
    "rng=int(rng)\n",
    "x = 0\n",
    "for i in range(rng):\n",
    "    print(i*\"#\")\n",
    "\n",
    "for j in range(rng,0,-1):\n",
    "    print(j*\"#\")"
   ],
   "id": "20e5897e427365e6",
   "outputs": [
    {
     "name": "stdout",
     "output_type": "stream",
     "text": [
      "\n",
      "#\n",
      "##\n",
      "###\n",
      "####\n",
      "#####\n",
      "######\n",
      "#######\n",
      "########\n",
      "#########\n",
      "##########\n",
      "#########\n",
      "########\n",
      "#######\n",
      "######\n",
      "#####\n",
      "####\n",
      "###\n",
      "##\n",
      "#\n"
     ]
    }
   ],
   "execution_count": 32
  },
  {
   "metadata": {
    "ExecuteTime": {
     "end_time": "2024-11-18T05:52:43.224143Z",
     "start_time": "2024-11-18T05:52:43.220744Z"
    }
   },
   "cell_type": "code",
   "source": [
    "for i in range(rng):\n",
    "    if i != rng-1:\n",
    "        print(i*\"#\")\n",
    "    else:\n",
    "        for a in range(i,0,-1):\n",
    "            print(a*\"#\")\n",
    "    "
   ],
   "id": "7f60e311f7eba0e6",
   "outputs": [
    {
     "name": "stdout",
     "output_type": "stream",
     "text": [
      "\n",
      "#\n",
      "##\n",
      "###\n",
      "####\n",
      "#####\n",
      "######\n",
      "#######\n",
      "########\n",
      "#########\n",
      "########\n",
      "#######\n",
      "######\n",
      "#####\n",
      "####\n",
      "###\n",
      "##\n",
      "#\n"
     ]
    }
   ],
   "execution_count": 39
  },
  {
   "metadata": {
    "ExecuteTime": {
     "end_time": "2024-11-18T05:56:05.220114Z",
     "start_time": "2024-11-18T05:56:05.216332Z"
    }
   },
   "cell_type": "code",
   "source": [
    "for a3 in range(1, 10):\n",
    "    for a4 in range(2, 10):\n",
    "        c = a3 * a4\n",
    "        print(f\"{a3}*{a4}={c}\", end=\"\\t\\n\")\n",
    "        if a4 == 9:\n",
    "            print(\"\")"
   ],
   "id": "ee04aceb5d2f9c55",
   "outputs": [
    {
     "name": "stdout",
     "output_type": "stream",
     "text": [
      "1*2=2\t\n",
      "1*3=3\t\n",
      "1*4=4\t\n",
      "1*5=5\t\n",
      "1*6=6\t\n",
      "1*7=7\t\n",
      "1*8=8\t\n",
      "1*9=9\t\n",
      "\n",
      "2*2=4\t\n",
      "2*3=6\t\n",
      "2*4=8\t\n",
      "2*5=10\t\n",
      "2*6=12\t\n",
      "2*7=14\t\n",
      "2*8=16\t\n",
      "2*9=18\t\n",
      "\n",
      "3*2=6\t\n",
      "3*3=9\t\n",
      "3*4=12\t\n",
      "3*5=15\t\n",
      "3*6=18\t\n",
      "3*7=21\t\n",
      "3*8=24\t\n",
      "3*9=27\t\n",
      "\n",
      "4*2=8\t\n",
      "4*3=12\t\n",
      "4*4=16\t\n",
      "4*5=20\t\n",
      "4*6=24\t\n",
      "4*7=28\t\n",
      "4*8=32\t\n",
      "4*9=36\t\n",
      "\n",
      "5*2=10\t\n",
      "5*3=15\t\n",
      "5*4=20\t\n",
      "5*5=25\t\n",
      "5*6=30\t\n",
      "5*7=35\t\n",
      "5*8=40\t\n",
      "5*9=45\t\n",
      "\n",
      "6*2=12\t\n",
      "6*3=18\t\n",
      "6*4=24\t\n",
      "6*5=30\t\n",
      "6*6=36\t\n",
      "6*7=42\t\n",
      "6*8=48\t\n",
      "6*9=54\t\n",
      "\n",
      "7*2=14\t\n",
      "7*3=21\t\n",
      "7*4=28\t\n",
      "7*5=35\t\n",
      "7*6=42\t\n",
      "7*7=49\t\n",
      "7*8=56\t\n",
      "7*9=63\t\n",
      "\n",
      "8*2=16\t\n",
      "8*3=24\t\n",
      "8*4=32\t\n",
      "8*5=40\t\n",
      "8*6=48\t\n",
      "8*7=56\t\n",
      "8*8=64\t\n",
      "8*9=72\t\n",
      "\n",
      "9*2=18\t\n",
      "9*3=27\t\n",
      "9*4=36\t\n",
      "9*5=45\t\n",
      "9*6=54\t\n",
      "9*7=63\t\n",
      "9*8=72\t\n",
      "9*9=81\t\n",
      "\n"
     ]
    }
   ],
   "execution_count": 44
  },
  {
   "metadata": {
    "ExecuteTime": {
     "end_time": "2024-11-18T06:18:15.460517Z",
     "start_time": "2024-11-18T06:18:15.455588Z"
    }
   },
   "cell_type": "code",
   "source": [
    "for a3 in range(1, 10):\n",
    "    for a4 in range(2, 6):\n",
    "        c = a3 * a4\n",
    "        print(f\"{a4}*{a3}={c:2d}\", end=\"\\t\")\n",
    "        if a4 == 5:\n",
    "            print(\"\")\n",
    "print(\"\\n\")\n",
    "for a3 in range(1, 10):\n",
    "    for a4 in range(6, 10):\n",
    "        c = a3 * a4\n",
    "        print(f\"{a4}*{a3}={c:2d}\", end=\"\\t\")\n",
    "        if a4 == 9:\n",
    "            print(\"\")"
   ],
   "id": "5031fd3d7f0150a5",
   "outputs": [
    {
     "name": "stdout",
     "output_type": "stream",
     "text": [
      "2*1= 2\t3*1= 3\t4*1= 4\t5*1= 5\t\n",
      "2*2= 4\t3*2= 6\t4*2= 8\t5*2=10\t\n",
      "2*3= 6\t3*3= 9\t4*3=12\t5*3=15\t\n",
      "2*4= 8\t3*4=12\t4*4=16\t5*4=20\t\n",
      "2*5=10\t3*5=15\t4*5=20\t5*5=25\t\n",
      "2*6=12\t3*6=18\t4*6=24\t5*6=30\t\n",
      "2*7=14\t3*7=21\t4*7=28\t5*7=35\t\n",
      "2*8=16\t3*8=24\t4*8=32\t5*8=40\t\n",
      "2*9=18\t3*9=27\t4*9=36\t5*9=45\t\n",
      "\n",
      "\n",
      "6*1= 6\t7*1= 7\t8*1= 8\t9*1= 9\t\n",
      "6*2=12\t7*2=14\t8*2=16\t9*2=18\t\n",
      "6*3=18\t7*3=21\t8*3=24\t9*3=27\t\n",
      "6*4=24\t7*4=28\t8*4=32\t9*4=36\t\n",
      "6*5=30\t7*5=35\t8*5=40\t9*5=45\t\n",
      "6*6=36\t7*6=42\t8*6=48\t9*6=54\t\n",
      "6*7=42\t7*7=49\t8*7=56\t9*7=63\t\n",
      "6*8=48\t7*8=56\t8*8=64\t9*8=72\t\n",
      "6*9=54\t7*9=63\t8*9=72\t9*9=81\t\n"
     ]
    }
   ],
   "execution_count": 73
  },
  {
   "metadata": {
    "ExecuteTime": {
     "end_time": "2024-11-18T06:34:08.491390Z",
     "start_time": "2024-11-18T06:34:08.487677Z"
    }
   },
   "cell_type": "code",
   "source": [
    "days = 30\n",
    "dollars = 0\n",
    "\n",
    "for i in range(days):\n",
    "    dollars = dollars + 2**i\n",
    "    print(dollars)"
   ],
   "id": "4bac3542ad753d1d",
   "outputs": [
    {
     "name": "stdout",
     "output_type": "stream",
     "text": [
      "1\n",
      "3\n",
      "7\n",
      "15\n",
      "31\n",
      "63\n",
      "127\n",
      "255\n",
      "511\n",
      "1023\n",
      "2047\n",
      "4095\n",
      "8191\n",
      "16383\n",
      "32767\n",
      "65535\n",
      "131071\n",
      "262143\n",
      "524287\n",
      "1048575\n",
      "2097151\n",
      "4194303\n",
      "8388607\n",
      "16777215\n",
      "33554431\n",
      "67108863\n",
      "134217727\n",
      "268435455\n",
      "536870911\n",
      "1073741823\n"
     ]
    }
   ],
   "execution_count": 90
  },
  {
   "metadata": {},
   "cell_type": "markdown",
   "source": [
    "# While loop\n",
    "while something true do:\n"
   ],
   "id": "8fbb9c154268128d"
  },
  {
   "metadata": {
    "ExecuteTime": {
     "end_time": "2024-11-18T06:39:53.605132Z",
     "start_time": "2024-11-18T06:39:53.599819Z"
    }
   },
   "cell_type": "code",
   "source": [
    "total = 0\n",
    "n = 1\n",
    "while(n<11):\n",
    "    total +=n\n",
    "    n+=1\n",
    "print(total)"
   ],
   "id": "12e2fcbc29a09040",
   "outputs": [
    {
     "name": "stdout",
     "output_type": "stream",
     "text": [
      "55\n"
     ]
    }
   ],
   "execution_count": 91
  },
  {
   "metadata": {
    "ExecuteTime": {
     "end_time": "2024-11-18T06:46:27.408017Z",
     "start_time": "2024-11-18T06:46:27.403972Z"
    }
   },
   "cell_type": "code",
   "source": [
    "i = 3\n",
    "sum = 0\n",
    "for i in range(3,13,3):\n",
    "    sum = sum + i\n",
    "print(sum)\n",
    "\n",
    "sum=0\n",
    "i = 3\n",
    "print(\"\")\n",
    "\n",
    "while i<13:\n",
    "    sum = sum + i\n",
    "    i = i + 3\n",
    "print(sum)"
   ],
   "id": "a69cd5d53ae2101",
   "outputs": [
    {
     "name": "stdout",
     "output_type": "stream",
     "text": [
      "30\n",
      "\n",
      "30\n"
     ]
    }
   ],
   "execution_count": 93
  },
  {
   "metadata": {
    "ExecuteTime": {
     "end_time": "2024-11-18T06:48:56.082623Z",
     "start_time": "2024-11-18T06:48:56.078811Z"
    }
   },
   "cell_type": "code",
   "source": [
    "total = 0\n",
    "i = 1\n",
    "while(i<=10):\n",
    "    total = total + i\n",
    "    i = i + 1\n",
    "print(total)\n",
    "\n",
    "totalB = 0\n",
    "ib = 0\n",
    "\n",
    "for ib in range(1,11):\n",
    "    totalB = totalB + ib\n",
    "print(totalB)\n",
    "\n",
    "\n",
    "a"
   ],
   "id": "6966d3e2af9e4def",
   "outputs": [
    {
     "name": "stdout",
     "output_type": "stream",
     "text": [
      "55\n",
      "55\n"
     ]
    }
   ],
   "execution_count": 99
  },
  {
   "metadata": {
    "ExecuteTime": {
     "end_time": "2024-11-18T06:51:31.886654Z",
     "start_time": "2024-11-18T06:51:31.883512Z"
    }
   },
   "cell_type": "code",
   "source": [
    "abcde  = 0\n",
    "while abcde < 10:\n",
    "    print(f\"{abcde} this is A block\\n{abcde} this is B block\")\n",
    "    abcde = abcde + 1"
   ],
   "id": "ebc6278ce683c8ab",
   "outputs": [
    {
     "name": "stdout",
     "output_type": "stream",
     "text": [
      "0 this is A block\n",
      "0 this is B block\n",
      "1 this is A block\n",
      "1 this is B block\n",
      "2 this is A block\n",
      "2 this is B block\n",
      "3 this is A block\n",
      "3 this is B block\n",
      "4 this is A block\n",
      "4 this is B block\n",
      "5 this is A block\n",
      "5 this is B block\n",
      "6 this is A block\n",
      "6 this is B block\n",
      "7 this is A block\n",
      "7 this is B block\n",
      "8 this is A block\n",
      "8 this is B block\n",
      "9 this is A block\n",
      "9 this is B block\n"
     ]
    }
   ],
   "execution_count": 101
  },
  {
   "metadata": {},
   "cell_type": "code",
   "outputs": [],
   "execution_count": null,
   "source": "",
   "id": "c0ea43c38bea9f99"
  },
  {
   "metadata": {
    "ExecuteTime": {
     "end_time": "2024-11-18T07:09:53.380352Z",
     "start_time": "2024-11-18T07:09:50.210173Z"
    }
   },
   "cell_type": "code",
   "source": [
    "\n",
    "user_input = input(\"Enter positive number: \")\n",
    "user_input = int(user_input)\n",
    "midvar = 0\n",
    "while midvar < user_input+1:\n",
    "    print(midvar, end=\" \")\n",
    "    midvar = midvar + 1"
   ],
   "id": "1541b3d8195ae166",
   "outputs": [
    {
     "name": "stdout",
     "output_type": "stream",
     "text": [
      "0 1 2 3 4 5 6 7 8 9 10 11 12 13 14 15 16 17 18 19 20 21 22 23 24 25 26 27 28 29 30 31 32 33 34 35 36 37 38 39 40 41 42 43 44 45 46 47 48 49 50 51 52 53 54 55 "
     ]
    }
   ],
   "execution_count": 105
  },
  {
   "metadata": {},
   "cell_type": "code",
   "outputs": [],
   "execution_count": null,
   "source": "",
   "id": "2f41ac53692d509d"
  },
  {
   "metadata": {},
   "cell_type": "code",
   "source": [
    "ndinput = input(\"Enter positive number: \")\n",
    "ndinput = int(ndinput)\n",
    "calculator = 0\n",
    "id = 0\n",
    "while id < ndinput+1=:\n",
    "    calculator = calculator + id\n",
    "    id = id + 1\n",
    "print(calculator)    "
   ],
   "id": "15d14c38396b5e48",
   "outputs": [],
   "execution_count": null
  },
  {
   "metadata": {
    "ExecuteTime": {
     "end_time": "2024-11-18T07:20:54.550703Z",
     "start_time": "2024-11-18T07:20:51.534731Z"
    }
   },
   "cell_type": "code",
   "source": [
    "oddinput = input(\"Enter positive number: \")\n",
    "oddinput = int(oddinput)\n",
    "i = 0\n",
    "while i < oddinput+1:\n",
    "    if i%2 == 0:\n",
    "        print(i, end=\" \")\n",
    "        i = i + 1\n",
    "    else:\n",
    "        i = i + 1"
   ],
   "id": "19d0128eda2d0968",
   "outputs": [
    {
     "name": "stdout",
     "output_type": "stream",
     "text": [
      "0 2 4 6 8 10 12 14 16 18 20 22 24 26 28 30 32 34 36 38 40 42 44 46 48 50 52 54 "
     ]
    }
   ],
   "execution_count": 108
  },
  {
   "metadata": {
    "ExecuteTime": {
     "end_time": "2024-11-18T07:25:24.337715Z",
     "start_time": "2024-11-18T07:25:21.471921Z"
    }
   },
   "cell_type": "code",
   "source": [
    "oddinput = input(\"Enter positive number: \")\n",
    "oddinput = int(oddinput)\n",
    "i = 0\n",
    "while i < oddinput+1:\n",
    "    if i%2 != 0:\n",
    "        print(i, end=\" \")\n",
    "        i = i + 1\n",
    "    else:\n",
    "        i = i + 1"
   ],
   "id": "8f1858f445e73fc8",
   "outputs": [
    {
     "name": "stdout",
     "output_type": "stream",
     "text": [
      "1 3 5 7 9 11 13 15 17 19 21 23 25 27 29 31 33 35 37 39 41 43 45 47 49 51 53 55 "
     ]
    }
   ],
   "execution_count": 109
  },
  {
   "metadata": {
    "ExecuteTime": {
     "end_time": "2024-11-18T07:45:18.904261Z",
     "start_time": "2024-11-18T07:45:18.899528Z"
    }
   },
   "cell_type": "code",
   "source": [
    "a = \"#\"\n",
    "b = 10\n",
    "bb = 0\n",
    "c = 0\n",
    "\n",
    "\n",
    "while bb < b:\n",
    "    print(a*bb)\n",
    "    bb = bb + 1\n",
    "c =bb\n",
    "while c != 0:\n",
    "    print(c*a)\n",
    "    c = c - 1\n",
    "    \n",
    "        "
   ],
   "id": "7ba9b4819039a555",
   "outputs": [
    {
     "name": "stdout",
     "output_type": "stream",
     "text": [
      "\n",
      "#\n",
      "##\n",
      "###\n",
      "####\n",
      "#####\n",
      "######\n",
      "#######\n",
      "########\n",
      "#########\n",
      "##########\n",
      "#########\n",
      "########\n",
      "#######\n",
      "######\n",
      "#####\n",
      "####\n",
      "###\n",
      "##\n",
      "#\n"
     ]
    }
   ],
   "execution_count": 115
  },
  {
   "metadata": {
    "ExecuteTime": {
     "end_time": "2024-11-18T07:52:12.395506Z",
     "start_time": "2024-11-18T07:52:12.390203Z"
    }
   },
   "cell_type": "code",
   "source": [
    "# for a3 in range(1, 10):\n",
    "#     for a4 in range(2, 10):\n",
    "#         c = a3 * a4\n",
    "#         print(f\"{a3}*{a4}={c}\", end=\"\\t\")\n",
    "#         if a4 == 9:\n",
    "#             print(\"\\n\")\n",
    "\n",
    "a = 0\n",
    "b = 0\n",
    "\n",
    "while a != 9:\n",
    "    a = a + 1\n",
    "    b = 0\n",
    "    while b !=9:\n",
    "        b = b +1\n",
    "        print(f\"{b}*{a} = {a*b:2d}\", end=\"\\t\")\n",
    "        if b == 9:\n",
    "            print(\"\\n\")"
   ],
   "id": "197871e228e115df",
   "outputs": [
    {
     "name": "stdout",
     "output_type": "stream",
     "text": [
      "1*1 =  1\t2*1 =  2\t3*1 =  3\t4*1 =  4\t5*1 =  5\t6*1 =  6\t7*1 =  7\t8*1 =  8\t9*1 =  9\t\n",
      "\n",
      "1*2 =  2\t2*2 =  4\t3*2 =  6\t4*2 =  8\t5*2 = 10\t6*2 = 12\t7*2 = 14\t8*2 = 16\t9*2 = 18\t\n",
      "\n",
      "1*3 =  3\t2*3 =  6\t3*3 =  9\t4*3 = 12\t5*3 = 15\t6*3 = 18\t7*3 = 21\t8*3 = 24\t9*3 = 27\t\n",
      "\n",
      "1*4 =  4\t2*4 =  8\t3*4 = 12\t4*4 = 16\t5*4 = 20\t6*4 = 24\t7*4 = 28\t8*4 = 32\t9*4 = 36\t\n",
      "\n",
      "1*5 =  5\t2*5 = 10\t3*5 = 15\t4*5 = 20\t5*5 = 25\t6*5 = 30\t7*5 = 35\t8*5 = 40\t9*5 = 45\t\n",
      "\n",
      "1*6 =  6\t2*6 = 12\t3*6 = 18\t4*6 = 24\t5*6 = 30\t6*6 = 36\t7*6 = 42\t8*6 = 48\t9*6 = 54\t\n",
      "\n",
      "1*7 =  7\t2*7 = 14\t3*7 = 21\t4*7 = 28\t5*7 = 35\t6*7 = 42\t7*7 = 49\t8*7 = 56\t9*7 = 63\t\n",
      "\n",
      "1*8 =  8\t2*8 = 16\t3*8 = 24\t4*8 = 32\t5*8 = 40\t6*8 = 48\t7*8 = 56\t8*8 = 64\t9*8 = 72\t\n",
      "\n",
      "1*9 =  9\t2*9 = 18\t3*9 = 27\t4*9 = 36\t5*9 = 45\t6*9 = 54\t7*9 = 63\t8*9 = 72\t9*9 = 81\t\n",
      "\n"
     ]
    }
   ],
   "execution_count": 124
  }
 ],
 "metadata": {
  "kernelspec": {
   "display_name": "Python 3",
   "language": "python",
   "name": "python3"
  },
  "language_info": {
   "codemirror_mode": {
    "name": "ipython",
    "version": 2
   },
   "file_extension": ".py",
   "mimetype": "text/x-python",
   "name": "python",
   "nbconvert_exporter": "python",
   "pygments_lexer": "ipython2",
   "version": "2.7.6"
  }
 },
 "nbformat": 4,
 "nbformat_minor": 5
}
