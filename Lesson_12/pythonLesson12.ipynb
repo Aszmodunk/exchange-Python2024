{
 "cells": [
  {
   "cell_type": "code",
   "id": "initial_id",
   "metadata": {
    "collapsed": true,
    "ExecuteTime": {
     "end_time": "2024-12-23T06:55:35.027008Z",
     "start_time": "2024-12-23T06:55:25.009726Z"
    }
   },
   "source": [
    "#Functions\n",
    "#[Are optional]\n",
    "#(are reqired)\n",
    "\n",
    "import time\n",
    "def timerz(param):\n",
    "    print(\"Loading please wait.\\n\")\n",
    "    for i in range(param):\n",
    "        print(f\"{param - i}\\n\", end=\"...\")\n",
    "        time.sleep(1)\n",
    "    return 0\n",
    "timerz(10)\n"
   ],
   "outputs": [
    {
     "name": "stdout",
     "output_type": "stream",
     "text": [
      "Loading please wait.\n",
      "\n",
      "10\n",
      "...9\n",
      "...8\n",
      "...7\n",
      "...6\n",
      "...5\n",
      "...4\n",
      "...3\n",
      "...2\n",
      "...1\n",
      "..."
     ]
    },
    {
     "data": {
      "text/plain": [
       "0"
      ]
     },
     "execution_count": 22,
     "metadata": {},
     "output_type": "execute_result"
    }
   ],
   "execution_count": 22
  },
  {
   "metadata": {
    "ExecuteTime": {
     "end_time": "2024-12-23T06:46:43.429107Z",
     "start_time": "2024-12-23T06:46:43.425356Z"
    }
   },
   "cell_type": "code",
   "source": [
    "def min(a,b):\n",
    "    if a>b:\n",
    "        return b\n",
    "    else:\n",
    "        return a\n",
    "x = min(10,12)\n",
    "print(x)\n",
    "\n"
   ],
   "id": "4fbdc1628440c712",
   "outputs": [
    {
     "name": "stdout",
     "output_type": "stream",
     "text": [
      "10\n"
     ]
    }
   ],
   "execution_count": 16
  },
  {
   "metadata": {
    "ExecuteTime": {
     "end_time": "2024-12-23T06:50:51.932948Z",
     "start_time": "2024-12-23T06:50:48.827989Z"
    }
   },
   "cell_type": "code",
   "source": [
    "a = int(input(\"Enter a size of a: \"))\n",
    "b = int(input(\"Enter a size of b: \"))\n",
    "\n",
    "def area(a,b):\n",
    "    return a*b\n",
    "area(a,b)"
   ],
   "id": "a0a638be5791ec55",
   "outputs": [
    {
     "data": {
      "text/plain": [
       "400"
      ]
     },
     "execution_count": 18,
     "metadata": {},
     "output_type": "execute_result"
    }
   ],
   "execution_count": 18
  },
  {
   "metadata": {
    "ExecuteTime": {
     "end_time": "2024-12-23T07:00:21.528808Z",
     "start_time": "2024-12-23T07:00:21.524488Z"
    }
   },
   "cell_type": "code",
   "source": [
    "def add(a):\n",
    "    \"\"\"Documentation\n",
    "    This function adds two numbers together.\n",
    "    Parameters:\n",
    "    a\n",
    "    \"\"\"\n",
    "    \n",
    "    b = a + 1\n",
    "    print(b)\n",
    "    return b\n",
    "for i in range(10):\n",
    "    add(i)\n",
    "    "
   ],
   "id": "1884cb48fa7eee17",
   "outputs": [
    {
     "name": "stdout",
     "output_type": "stream",
     "text": [
      "1\n",
      "2\n",
      "3\n",
      "4\n",
      "5\n",
      "6\n",
      "7\n",
      "8\n",
      "9\n",
      "10\n"
     ]
    }
   ],
   "execution_count": 27
  },
  {
   "metadata": {
    "ExecuteTime": {
     "end_time": "2024-12-23T07:11:05.557716Z",
     "start_time": "2024-12-23T07:11:05.550295Z"
    }
   },
   "cell_type": "code",
   "source": "help(add)",
   "id": "edb26cc9a4f07735",
   "outputs": [
    {
     "name": "stdout",
     "output_type": "stream",
     "text": [
      "Help on function add in module __main__:\n",
      "\n",
      "add(a)\n",
      "    Documentation\n",
      "    This function adds two numbers together.\n",
      "    Parameters:\n",
      "    a\n",
      "\n"
     ]
    }
   ],
   "execution_count": 28
  },
  {
   "metadata": {
    "ExecuteTime": {
     "end_time": "2024-12-23T07:17:51.155602Z",
     "start_time": "2024-12-23T07:17:51.152172Z"
    }
   },
   "cell_type": "code",
   "source": [
    "def multiply(a,b):\n",
    "    c = a * b\n",
    "    return c\n",
    "    #print(\"This won't be printed\")\n",
    "result = multiply(10,\"Joe \\n\")\n",
    "print(result)"
   ],
   "id": "d1cb12c35b674a59",
   "outputs": [
    {
     "name": "stdout",
     "output_type": "stream",
     "text": [
      "Joe \n",
      "Joe \n",
      "Joe \n",
      "Joe \n",
      "Joe \n",
      "Joe \n",
      "Joe \n",
      "Joe \n",
      "Joe \n",
      "Joe \n",
      "\n"
     ]
    }
   ],
   "execution_count": 30
  },
  {
   "metadata": {
    "ExecuteTime": {
     "end_time": "2024-12-23T07:23:44.998265Z",
     "start_time": "2024-12-23T07:23:44.994338Z"
    }
   },
   "cell_type": "code",
   "source": [
    "import math\n",
    "pi = math.pi\n",
    "def circle(radius):\n",
    "    area = pi * radius**2\n",
    "    lenght = pi * radius*2\n",
    "    return area, lenght\n",
    "print(circle(5))"
   ],
   "id": "ec1bd8b2d57497e3",
   "outputs": [
    {
     "name": "stdout",
     "output_type": "stream",
     "text": [
      "(78.53981633974483, 31.41592653589793)\n"
     ]
    }
   ],
   "execution_count": 37
  },
  {
   "metadata": {
    "ExecuteTime": {
     "end_time": "2024-12-23T07:28:21.221512Z",
     "start_time": "2024-12-23T07:28:21.217616Z"
    }
   },
   "cell_type": "code",
   "source": [
    "def square(a):\n",
    "    \"\"\"Documentation\n",
    "    this just square roots input and adds one\n",
    "    not much to it\n",
    "    \"\"\"\n",
    "    b = 1\n",
    "    c = a*a+b\n",
    "    print(a, \" if you square + 1 \", c)\n",
    "    return c\n",
    "\n",
    "square(5)\n",
    "help(square)"
   ],
   "id": "204f6f0a110e4683",
   "outputs": [
    {
     "name": "stdout",
     "output_type": "stream",
     "text": [
      "5  if you square + 1  26\n",
      "Help on function square in module __main__:\n",
      "\n",
      "square(a)\n",
      "    Documentation\n",
      "    this just square roots input and adds one\n",
      "    not much to it\n",
      "\n"
     ]
    }
   ],
   "execution_count": 39
  },
  {
   "metadata": {
    "ExecuteTime": {
     "end_time": "2024-12-23T07:32:34.620151Z",
     "start_time": "2024-12-23T07:32:34.615389Z"
    }
   },
   "cell_type": "code",
   "source": [
    "def MJ():\n",
    "    print(\"Michael jackson\")\n",
    "    \n",
    "def MJ2():\n",
    "    print(\"Michael jackson\")\n",
    "    return None\n",
    "\n",
    "MJ()\n",
    "MJ2()"
   ],
   "id": "7e2c1bb500d3b4c0",
   "outputs": [
    {
     "name": "stdout",
     "output_type": "stream",
     "text": [
      "Michael jackson\n",
      "Michael jackson\n"
     ]
    }
   ],
   "execution_count": 42
  },
  {
   "metadata": {
    "ExecuteTime": {
     "end_time": "2024-12-23T07:44:33.317890Z",
     "start_time": "2024-12-23T07:44:33.312881Z"
    }
   },
   "cell_type": "code",
   "source": [
    "album_ratings = [100, 98, 12, 30,50,60,70,76,74,33]\n",
    "sum(album_ratings)\n",
    "len(album_ratings)\n",
    "average = sum(album_ratings)/len(album_ratings)\n",
    "print(average)\n",
    "print(len(album_ratings))\n",
    "print(sum(album_ratings))"
   ],
   "id": "8109086f83144769",
   "outputs": [
    {
     "name": "stdout",
     "output_type": "stream",
     "text": [
      "60.3\n",
      "10\n",
      "603\n"
     ]
    }
   ],
   "execution_count": 46
  },
  {
   "metadata": {
    "ExecuteTime": {
     "end_time": "2024-12-23T07:48:12.675197Z",
     "start_time": "2024-12-23T07:48:12.671512Z"
    }
   },
   "cell_type": "code",
   "source": [
    "def type_of_almbum(artist, almbum, year_released):\n",
    "    print(artist, almbum, year_released)\n",
    "    if int(year_released) > 1980:\n",
    "        return \"Modern\"\n",
    "    else:\n",
    "        return \"Older\"\n",
    "\n",
    "x =type_of_almbum(\"Michael Jacskon\", \"Thriller\", \"1980\")\n",
    "print(x)"
   ],
   "id": "1f529ff544189cf1",
   "outputs": [
    {
     "name": "stdout",
     "output_type": "stream",
     "text": [
      "Michael Jacskon Thriller 1980\n",
      "Older\n"
     ]
    }
   ],
   "execution_count": 50
  },
  {
   "metadata": {
    "ExecuteTime": {
     "end_time": "2024-12-23T07:52:02.080463Z",
     "start_time": "2024-12-23T07:52:02.075949Z"
    }
   },
   "cell_type": "code",
   "source": [
    "string_1 = \"Michael Jackson is the best\"\n",
    "\n",
    "def checkstring(text):\n",
    "    if text in string_1:\n",
    "        return \"Matching\"\n",
    "    else:\n",
    "        \"Mismatch\"\n",
    "        \n",
    "checkstring(\"is the best\")"
   ],
   "id": "f9299905113708b7",
   "outputs": [
    {
     "data": {
      "text/plain": [
       "'Matching'"
      ]
     },
     "execution_count": 51,
     "metadata": {},
     "output_type": "execute_result"
    }
   ],
   "execution_count": 51
  },
  {
   "metadata": {
    "ExecuteTime": {
     "end_time": "2024-12-23T07:55:54.132403Z",
     "start_time": "2024-12-23T07:55:54.128534Z"
    }
   },
   "cell_type": "code",
   "source": [
    "def compare_strings(x,y):\n",
    "    if x == y:\n",
    "        return 1\n",
    "    \n",
    "string_2 = string_1\n",
    "\n",
    "check = compare_strings(string_1,string_2)\n",
    "if check == 1:\n",
    "    print(\"\\n Matching strings\")\n",
    "else:\n",
    "    print(\"\\n Mismatch\")\n",
    "    "
   ],
   "id": "42e2aa96784389a6",
   "outputs": [
    {
     "name": "stdout",
     "output_type": "stream",
     "text": [
      "\n",
      " Matching strings\n"
     ]
    }
   ],
   "execution_count": 52
  }
 ],
 "metadata": {
  "kernelspec": {
   "display_name": "Python 3",
   "language": "python",
   "name": "python3"
  },
  "language_info": {
   "codemirror_mode": {
    "name": "ipython",
    "version": 2
   },
   "file_extension": ".py",
   "mimetype": "text/x-python",
   "name": "python",
   "nbconvert_exporter": "python",
   "pygments_lexer": "ipython2",
   "version": "2.7.6"
  }
 },
 "nbformat": 4,
 "nbformat_minor": 5
}
