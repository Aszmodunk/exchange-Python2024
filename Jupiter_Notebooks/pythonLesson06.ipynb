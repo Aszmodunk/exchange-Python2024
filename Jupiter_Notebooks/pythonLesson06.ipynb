{
 "cells": [
  {
   "metadata": {},
   "cell_type": "markdown",
   "source": [
    "# Today's topic: \n",
    "\n",
    "review for the midterm test\n",
    "`important!`"
   ],
   "id": "c427293a96bd9f7d"
  },
  {
   "metadata": {},
   "cell_type": "code",
   "source": [
    "a = 3\n",
    "b = 2 \n",
    "if a > 5 or b < 7:\n",
    "    print(a)"
   ],
   "id": "baa855ae21b3ee73",
   "outputs": [],
   "execution_count": null
  },
  {
   "metadata": {},
   "cell_type": "code",
   "source": [
    "if (a > 2):\n",
    "    print(1)\n",
    "if a > 2:\n",
    "    print(2)\n",
    "if (a > 2 or a <6):\n",
    "    print(3)\n",
    "if a > 2 and not a <6:\n",
    "    print(4)"
   ],
   "id": "35ef34b86ddb46a",
   "outputs": [],
   "execution_count": null
  },
  {
   "metadata": {},
   "cell_type": "code",
   "source": [
    "#Ambulance\n",
    "#Nursing 700/hr, Doctor 1 500/hr\n",
    "#We need to input km, if nursing staff or doctor is needed on board\n",
    "#avg speed je 60km/hr\n",
    "\n",
    "\n",
    "nurse = 700\n",
    "doctor = 1500\n",
    "\n",
    "km = int(input(\"Km?: \\n\"))\n",
    "basicFee = 800 + (km*25)\n",
    "\n",
    "print(\"What staff is required? \\n1) Nursing\\n2) Doctor\\n3) Both\\n\")\n",
    "staff = int(input())\n",
    "\n",
    "hrs = km//60 #Defined Hrs\n",
    "\n",
    "if km%60 != 0: # If there is some 0.123123123 it will take a hrs and add extra hour\n",
    "    hrs = hrs +1\n",
    "    \n",
    "\n",
    "staffFee = 0\n",
    "if staff == 1:\n",
    "    staffFee = nurse\n",
    "elif staff == 2:\n",
    "    staffFee = doctor\n",
    "elif staff == 3:\n",
    "    staffFee = nurse + doctor\n",
    "\n",
    "finalCost = hrs*staffFee + basicFee #For 20 km both should be 3500\n",
    "print(f\"{basicFee} - BasicFee\")\n",
    "\n",
    "print(finalCost)"
   ],
   "id": "175a17d9068687e7",
   "outputs": [],
   "execution_count": null
  },
  {
   "metadata": {},
   "cell_type": "markdown",
   "source": [
    "## Two way condition\n",
    "Tell code what to do if the `if` is not *true* handled by the condition `else`\n"
   ],
   "id": "a071613ec85ceb37"
  },
  {
   "metadata": {},
   "cell_type": "code",
   "source": [
    "def ins(val):\n",
    "    if val >= 0:\n",
    "        return \"The input value is greater or equal to 0\"\n",
    "    else:\n",
    "        return \"The input value is less than 0\"\n",
    "    \n",
    "def trials():\n",
    "    for i in range(-11,11):\n",
    "        print(ins(i))\n",
    "\n",
    "trials()\n",
    "# if int(input()) >= 0:\n",
    "#     print(\"The input value is greater or equal to 0\")\n",
    "# else:\n",
    "#     print(\"The input value is less than 0\")"
   ],
   "id": "792b158c43830528",
   "outputs": [],
   "execution_count": null
  },
  {
   "metadata": {},
   "cell_type": "code",
   "source": [
    "import random as rn\n",
    "a = rn.randint(1,20)\n",
    "b = 6\n",
    "c = 8\n",
    "if a >10:\n",
    "    print(a)\n",
    "else:\n",
    "    print(b)\n",
    "print(c)"
   ],
   "id": "8f502aaecce73a08",
   "outputs": [],
   "execution_count": null
  },
  {
   "metadata": {},
   "cell_type": "code",
   "source": [
    "#PRactice\n",
    "#Allow user to input integer, and determine if its odd or even\n",
    "a = int(input(\"Enter a number: \"))\n",
    "if a%2 == 0:\n",
    "    print(f\"{a} is an even number\")\n",
    "else:\n",
    "    print(f\"{a} is an odd number\")"
   ],
   "id": "7bf293cbbe9df848",
   "outputs": [],
   "execution_count": null
  },
  {
   "metadata": {},
   "cell_type": "code",
   "source": [
    "grade = int(input(\"Enter a grade: \"))\n",
    "if grade>=60:\n",
    "    print(\"You passed good job!\")\n",
    "else:\n",
    "    print(\"You didn't pass, try again\")"
   ],
   "id": "4580b2f3a5760a89",
   "outputs": [],
   "execution_count": null
  },
  {
   "metadata": {},
   "cell_type": "code",
   "source": [
    "id = \"X1000001\"\n",
    "pswd = \"0857\"\n",
    "login = input(\"Enter your login name: \")\n",
    "guess = input(\"password: \\n\")\n",
    "if guess != pswd or login != id:\n",
    "    print(\"Wrong 1\")\n",
    "else:\n",
    "    print(\"Welcome 1\")\n",
    "\n",
    "if guess == pswd and login == id:\n",
    "    print(\"Welcome 2\")\n",
    "else:\n",
    "    print(\"Wrong 2\")"
   ],
   "id": "a43fb56c82262e12",
   "outputs": [],
   "execution_count": null
  },
  {
   "metadata": {},
   "cell_type": "markdown",
   "source": "Elif function",
   "id": "e43481dfdbce2f09"
  },
  {
   "metadata": {},
   "cell_type": "code",
   "source": [
    "a = -5\n",
    "if a>10:\n",
    "    print(\"A\")\n",
    "elif(a>5):\n",
    "    print(\"B\")\n",
    "elif(a>0):\n",
    "    print(\"c\")\n",
    "else:\n",
    "    print(\"d\")"
   ],
   "id": "6ff418197813aea",
   "outputs": [],
   "execution_count": null
  },
  {
   "metadata": {},
   "cell_type": "code",
   "source": [
    "# input 0-100\n",
    "# 90+ A, 80+ B, 70+ C 60 D <F\n",
    "\n",
    "grade = int(input(\"Enter a grade: \"))\n",
    "\n",
    "if grade >= 90:\n",
    "    print(\"A\")\n",
    "elif grade >= 80:\n",
    "    print(\"B\")\n",
    "elif grade >= 70:\n",
    "    print(\"C\")\n",
    "elif grade >= 60:\n",
    "    print(\"D\") \n",
    "else:\n",
    "    print(\"F\")"
   ],
   "id": "ba3d6607f4c62d14",
   "outputs": [],
   "execution_count": null
  },
  {
   "metadata": {
    "ExecuteTime": {
     "end_time": "2024-10-28T07:32:26.641567Z",
     "start_time": "2024-10-28T07:32:20.421180Z"
    }
   },
   "cell_type": "code",
   "source": [
    "#BMI\n",
    "weight = int(input(\"Enter a weight [kg]: \"))\n",
    "height = int(input(\"Enter a height [cm]: \"))\n",
    "height = height / 100\n",
    "bmi = weight / (height * height)\n",
    "if bmi < 18.5:\n",
    "    print(\"Underweight\")\n",
    "elif bmi < 25:\n",
    "    print(\"Normal\")\n",
    "else:\n",
    "    print(\"Overweight\")\n",
    "    \n",
    "print(bmi)"
   ],
   "id": "a754feb275d01150",
   "outputs": [
    {
     "name": "stdout",
     "output_type": "stream",
     "text": [
      "Normal\n",
      "21.64412070759625\n"
     ]
    }
   ],
   "execution_count": 83
  },
  {
   "metadata": {
    "ExecuteTime": {
     "end_time": "2024-10-28T07:44:43.813470Z",
     "start_time": "2024-10-28T07:44:43.808080Z"
    }
   },
   "cell_type": "code",
   "source": [
    "for i in range(0,100):\n",
    "    print(f\"I want to be rich {i+1} times!\")"
   ],
   "id": "9dce2573e75e25cc",
   "outputs": [
    {
     "name": "stdout",
     "output_type": "stream",
     "text": [
      "I want to be rich 1 times!\n",
      "I want to be rich 2 times!\n",
      "I want to be rich 3 times!\n",
      "I want to be rich 4 times!\n",
      "I want to be rich 5 times!\n",
      "I want to be rich 6 times!\n",
      "I want to be rich 7 times!\n",
      "I want to be rich 8 times!\n",
      "I want to be rich 9 times!\n",
      "I want to be rich 10 times!\n",
      "I want to be rich 11 times!\n",
      "I want to be rich 12 times!\n",
      "I want to be rich 13 times!\n",
      "I want to be rich 14 times!\n",
      "I want to be rich 15 times!\n",
      "I want to be rich 16 times!\n",
      "I want to be rich 17 times!\n",
      "I want to be rich 18 times!\n",
      "I want to be rich 19 times!\n",
      "I want to be rich 20 times!\n",
      "I want to be rich 21 times!\n",
      "I want to be rich 22 times!\n",
      "I want to be rich 23 times!\n",
      "I want to be rich 24 times!\n",
      "I want to be rich 25 times!\n",
      "I want to be rich 26 times!\n",
      "I want to be rich 27 times!\n",
      "I want to be rich 28 times!\n",
      "I want to be rich 29 times!\n",
      "I want to be rich 30 times!\n",
      "I want to be rich 31 times!\n",
      "I want to be rich 32 times!\n",
      "I want to be rich 33 times!\n",
      "I want to be rich 34 times!\n",
      "I want to be rich 35 times!\n",
      "I want to be rich 36 times!\n",
      "I want to be rich 37 times!\n",
      "I want to be rich 38 times!\n",
      "I want to be rich 39 times!\n",
      "I want to be rich 40 times!\n",
      "I want to be rich 41 times!\n",
      "I want to be rich 42 times!\n",
      "I want to be rich 43 times!\n",
      "I want to be rich 44 times!\n",
      "I want to be rich 45 times!\n",
      "I want to be rich 46 times!\n",
      "I want to be rich 47 times!\n",
      "I want to be rich 48 times!\n",
      "I want to be rich 49 times!\n",
      "I want to be rich 50 times!\n",
      "I want to be rich 51 times!\n",
      "I want to be rich 52 times!\n",
      "I want to be rich 53 times!\n",
      "I want to be rich 54 times!\n",
      "I want to be rich 55 times!\n",
      "I want to be rich 56 times!\n",
      "I want to be rich 57 times!\n",
      "I want to be rich 58 times!\n",
      "I want to be rich 59 times!\n",
      "I want to be rich 60 times!\n",
      "I want to be rich 61 times!\n",
      "I want to be rich 62 times!\n",
      "I want to be rich 63 times!\n",
      "I want to be rich 64 times!\n",
      "I want to be rich 65 times!\n",
      "I want to be rich 66 times!\n",
      "I want to be rich 67 times!\n",
      "I want to be rich 68 times!\n",
      "I want to be rich 69 times!\n",
      "I want to be rich 70 times!\n",
      "I want to be rich 71 times!\n",
      "I want to be rich 72 times!\n",
      "I want to be rich 73 times!\n",
      "I want to be rich 74 times!\n",
      "I want to be rich 75 times!\n",
      "I want to be rich 76 times!\n",
      "I want to be rich 77 times!\n",
      "I want to be rich 78 times!\n",
      "I want to be rich 79 times!\n",
      "I want to be rich 80 times!\n",
      "I want to be rich 81 times!\n",
      "I want to be rich 82 times!\n",
      "I want to be rich 83 times!\n",
      "I want to be rich 84 times!\n",
      "I want to be rich 85 times!\n",
      "I want to be rich 86 times!\n",
      "I want to be rich 87 times!\n",
      "I want to be rich 88 times!\n",
      "I want to be rich 89 times!\n",
      "I want to be rich 90 times!\n",
      "I want to be rich 91 times!\n",
      "I want to be rich 92 times!\n",
      "I want to be rich 93 times!\n",
      "I want to be rich 94 times!\n",
      "I want to be rich 95 times!\n",
      "I want to be rich 96 times!\n",
      "I want to be rich 97 times!\n",
      "I want to be rich 98 times!\n",
      "I want to be rich 99 times!\n",
      "I want to be rich 100 times!\n"
     ]
    }
   ],
   "execution_count": 85
  },
  {
   "metadata": {},
   "cell_type": "markdown",
   "source": "The main porpouse of range() function is to generate continous sequence of integers.",
   "id": "268ae3886bcb0a3b"
  },
  {
   "metadata": {
    "ExecuteTime": {
     "end_time": "2024-10-28T07:53:03.815588Z",
     "start_time": "2024-10-28T07:53:03.809748Z"
    }
   },
   "cell_type": "code",
   "source": [
    "list1 = range(3,8)\n",
    "print(list(list1))\n",
    "print(type(list1))\n",
    "\n",
    "list_2 = range(-11,11+1)\n",
    "print(list(list_2))\n",
    "\n",
    "list_3 = range(2,-4)\n",
    "print(list(list_3))"
   ],
   "id": "62cb735f91e0c92a",
   "outputs": [
    {
     "name": "stdout",
     "output_type": "stream",
     "text": [
      "[3, 4, 5, 6, 7]\n",
      "<class 'range'>\n",
      "[-11, -10, -9, -8, -7, -6, -5, -4, -3, -2, -1, 0, 1, 2, 3, 4, 5, 6, 7, 8, 9, 10, 11]\n",
      "[]\n"
     ]
    }
   ],
   "execution_count": 89
  },
  {
   "metadata": {
    "ExecuteTime": {
     "end_time": "2024-10-28T07:54:46.917292Z",
     "start_time": "2024-10-28T07:54:46.912568Z"
    }
   },
   "cell_type": "code",
   "source": [
    "range_variable = range(1,5,2) #Third argument is step!\n",
    "print(list(range_variable))"
   ],
   "id": "aaa6f759b5be5a5f",
   "outputs": [
    {
     "name": "stdout",
     "output_type": "stream",
     "text": [
      "[1, 3]\n"
     ]
    }
   ],
   "execution_count": 93
  },
  {
   "metadata": {
    "ExecuteTime": {
     "end_time": "2024-10-28T07:57:06.522591Z",
     "start_time": "2024-10-28T07:57:06.518428Z"
    }
   },
   "cell_type": "code",
   "source": [
    "for i in range(2,10,2):\n",
    "    print(i)"
   ],
   "id": "7f85b96cf127bde9",
   "outputs": [
    {
     "name": "stdout",
     "output_type": "stream",
     "text": [
      "2\n",
      "4\n",
      "6\n",
      "8\n"
     ]
    }
   ],
   "execution_count": 95
  },
  {
   "metadata": {
    "ExecuteTime": {
     "end_time": "2024-10-28T07:58:13.846626Z",
     "start_time": "2024-10-28T07:58:13.841159Z"
    }
   },
   "cell_type": "code",
   "source": [
    "list_4 = range(3,8,1)\n",
    "print(list(list_4))\n",
    "\n",
    "list_5=range(3,8,2)\n",
    "print(list(list_5))\n",
    "\n",
    "list_6=range(3,10,-2)\n",
    "print(list(list_6))"
   ],
   "id": "ca3eb4997411f172",
   "outputs": [
    {
     "name": "stdout",
     "output_type": "stream",
     "text": [
      "[3, 4, 5, 6, 7]\n",
      "[3, 5, 7]\n",
      "[]\n"
     ]
    }
   ],
   "execution_count": 96
  }
 ],
 "metadata": {
  "kernelspec": {
   "display_name": "Python 3",
   "language": "python",
   "name": "python3"
  },
  "language_info": {
   "codemirror_mode": {
    "name": "ipython",
    "version": 2
   },
   "file_extension": ".py",
   "mimetype": "text/x-python",
   "name": "python",
   "nbconvert_exporter": "python",
   "pygments_lexer": "ipython2",
   "version": "2.7.6"
  }
 },
 "nbformat": 4,
 "nbformat_minor": 5
}
